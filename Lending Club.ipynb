{
 "cells": [
  {
   "cell_type": "markdown",
   "metadata": {},
   "source": [
    "#### Import necessary Libraries and Read Loan Dataset"
   ]
  },
  {
   "cell_type": "code",
   "execution_count": 2,
   "metadata": {},
   "outputs": [
    {
     "name": "stderr",
     "output_type": "stream",
     "text": [
      "C:\\Users\\HELLO\\Anaconda3\\lib\\site-packages\\IPython\\core\\interactiveshell.py:2785: DtypeWarning: Columns (47) have mixed types. Specify dtype option on import or set low_memory=False.\n",
      "  interactivity=interactivity, compiler=compiler, result=result)\n"
     ]
    }
   ],
   "source": [
    "import pandas as pd\n",
    "import numpy as np\n",
    "import matplotlib.pyplot as plt\n",
    "import seaborn as sns\n",
    "\n",
    "loan = pd.read_csv(\"loan.csv\")"
   ]
  },
  {
   "cell_type": "markdown",
   "metadata": {},
   "source": [
    "#### Understansing the layout of the data"
   ]
  },
  {
   "cell_type": "code",
   "execution_count": 3,
   "metadata": {},
   "outputs": [
    {
     "name": "stdout",
     "output_type": "stream",
     "text": [
      "<class 'pandas.core.frame.DataFrame'>\n",
      "RangeIndex: 39717 entries, 0 to 39716\n",
      "Columns: 111 entries, id to total_il_high_credit_limit\n",
      "dtypes: float64(74), int64(13), object(24)\n",
      "memory usage: 33.6+ MB\n",
      "None\n",
      "(39717, 111)\n"
     ]
    },
    {
     "data": {
      "text/html": [
       "<div>\n",
       "<style scoped>\n",
       "    .dataframe tbody tr th:only-of-type {\n",
       "        vertical-align: middle;\n",
       "    }\n",
       "\n",
       "    .dataframe tbody tr th {\n",
       "        vertical-align: top;\n",
       "    }\n",
       "\n",
       "    .dataframe thead th {\n",
       "        text-align: right;\n",
       "    }\n",
       "</style>\n",
       "<table border=\"1\" class=\"dataframe\">\n",
       "  <thead>\n",
       "    <tr style=\"text-align: right;\">\n",
       "      <th></th>\n",
       "      <th>id</th>\n",
       "      <th>member_id</th>\n",
       "      <th>loan_amnt</th>\n",
       "      <th>funded_amnt</th>\n",
       "      <th>funded_amnt_inv</th>\n",
       "      <th>term</th>\n",
       "      <th>int_rate</th>\n",
       "      <th>installment</th>\n",
       "      <th>grade</th>\n",
       "      <th>sub_grade</th>\n",
       "      <th>...</th>\n",
       "      <th>num_tl_90g_dpd_24m</th>\n",
       "      <th>num_tl_op_past_12m</th>\n",
       "      <th>pct_tl_nvr_dlq</th>\n",
       "      <th>percent_bc_gt_75</th>\n",
       "      <th>pub_rec_bankruptcies</th>\n",
       "      <th>tax_liens</th>\n",
       "      <th>tot_hi_cred_lim</th>\n",
       "      <th>total_bal_ex_mort</th>\n",
       "      <th>total_bc_limit</th>\n",
       "      <th>total_il_high_credit_limit</th>\n",
       "    </tr>\n",
       "  </thead>\n",
       "  <tbody>\n",
       "    <tr>\n",
       "      <th>0</th>\n",
       "      <td>1077501</td>\n",
       "      <td>1296599</td>\n",
       "      <td>5000</td>\n",
       "      <td>5000</td>\n",
       "      <td>4975.0</td>\n",
       "      <td>36 months</td>\n",
       "      <td>10.65%</td>\n",
       "      <td>162.87</td>\n",
       "      <td>B</td>\n",
       "      <td>B2</td>\n",
       "      <td>...</td>\n",
       "      <td>NaN</td>\n",
       "      <td>NaN</td>\n",
       "      <td>NaN</td>\n",
       "      <td>NaN</td>\n",
       "      <td>0.0</td>\n",
       "      <td>0.0</td>\n",
       "      <td>NaN</td>\n",
       "      <td>NaN</td>\n",
       "      <td>NaN</td>\n",
       "      <td>NaN</td>\n",
       "    </tr>\n",
       "    <tr>\n",
       "      <th>1</th>\n",
       "      <td>1077430</td>\n",
       "      <td>1314167</td>\n",
       "      <td>2500</td>\n",
       "      <td>2500</td>\n",
       "      <td>2500.0</td>\n",
       "      <td>60 months</td>\n",
       "      <td>15.27%</td>\n",
       "      <td>59.83</td>\n",
       "      <td>C</td>\n",
       "      <td>C4</td>\n",
       "      <td>...</td>\n",
       "      <td>NaN</td>\n",
       "      <td>NaN</td>\n",
       "      <td>NaN</td>\n",
       "      <td>NaN</td>\n",
       "      <td>0.0</td>\n",
       "      <td>0.0</td>\n",
       "      <td>NaN</td>\n",
       "      <td>NaN</td>\n",
       "      <td>NaN</td>\n",
       "      <td>NaN</td>\n",
       "    </tr>\n",
       "    <tr>\n",
       "      <th>2</th>\n",
       "      <td>1077175</td>\n",
       "      <td>1313524</td>\n",
       "      <td>2400</td>\n",
       "      <td>2400</td>\n",
       "      <td>2400.0</td>\n",
       "      <td>36 months</td>\n",
       "      <td>15.96%</td>\n",
       "      <td>84.33</td>\n",
       "      <td>C</td>\n",
       "      <td>C5</td>\n",
       "      <td>...</td>\n",
       "      <td>NaN</td>\n",
       "      <td>NaN</td>\n",
       "      <td>NaN</td>\n",
       "      <td>NaN</td>\n",
       "      <td>0.0</td>\n",
       "      <td>0.0</td>\n",
       "      <td>NaN</td>\n",
       "      <td>NaN</td>\n",
       "      <td>NaN</td>\n",
       "      <td>NaN</td>\n",
       "    </tr>\n",
       "    <tr>\n",
       "      <th>3</th>\n",
       "      <td>1076863</td>\n",
       "      <td>1277178</td>\n",
       "      <td>10000</td>\n",
       "      <td>10000</td>\n",
       "      <td>10000.0</td>\n",
       "      <td>36 months</td>\n",
       "      <td>13.49%</td>\n",
       "      <td>339.31</td>\n",
       "      <td>C</td>\n",
       "      <td>C1</td>\n",
       "      <td>...</td>\n",
       "      <td>NaN</td>\n",
       "      <td>NaN</td>\n",
       "      <td>NaN</td>\n",
       "      <td>NaN</td>\n",
       "      <td>0.0</td>\n",
       "      <td>0.0</td>\n",
       "      <td>NaN</td>\n",
       "      <td>NaN</td>\n",
       "      <td>NaN</td>\n",
       "      <td>NaN</td>\n",
       "    </tr>\n",
       "    <tr>\n",
       "      <th>4</th>\n",
       "      <td>1075358</td>\n",
       "      <td>1311748</td>\n",
       "      <td>3000</td>\n",
       "      <td>3000</td>\n",
       "      <td>3000.0</td>\n",
       "      <td>60 months</td>\n",
       "      <td>12.69%</td>\n",
       "      <td>67.79</td>\n",
       "      <td>B</td>\n",
       "      <td>B5</td>\n",
       "      <td>...</td>\n",
       "      <td>NaN</td>\n",
       "      <td>NaN</td>\n",
       "      <td>NaN</td>\n",
       "      <td>NaN</td>\n",
       "      <td>0.0</td>\n",
       "      <td>0.0</td>\n",
       "      <td>NaN</td>\n",
       "      <td>NaN</td>\n",
       "      <td>NaN</td>\n",
       "      <td>NaN</td>\n",
       "    </tr>\n",
       "    <tr>\n",
       "      <th>5</th>\n",
       "      <td>1075269</td>\n",
       "      <td>1311441</td>\n",
       "      <td>5000</td>\n",
       "      <td>5000</td>\n",
       "      <td>5000.0</td>\n",
       "      <td>36 months</td>\n",
       "      <td>7.90%</td>\n",
       "      <td>156.46</td>\n",
       "      <td>A</td>\n",
       "      <td>A4</td>\n",
       "      <td>...</td>\n",
       "      <td>NaN</td>\n",
       "      <td>NaN</td>\n",
       "      <td>NaN</td>\n",
       "      <td>NaN</td>\n",
       "      <td>0.0</td>\n",
       "      <td>0.0</td>\n",
       "      <td>NaN</td>\n",
       "      <td>NaN</td>\n",
       "      <td>NaN</td>\n",
       "      <td>NaN</td>\n",
       "    </tr>\n",
       "    <tr>\n",
       "      <th>6</th>\n",
       "      <td>1069639</td>\n",
       "      <td>1304742</td>\n",
       "      <td>7000</td>\n",
       "      <td>7000</td>\n",
       "      <td>7000.0</td>\n",
       "      <td>60 months</td>\n",
       "      <td>15.96%</td>\n",
       "      <td>170.08</td>\n",
       "      <td>C</td>\n",
       "      <td>C5</td>\n",
       "      <td>...</td>\n",
       "      <td>NaN</td>\n",
       "      <td>NaN</td>\n",
       "      <td>NaN</td>\n",
       "      <td>NaN</td>\n",
       "      <td>0.0</td>\n",
       "      <td>0.0</td>\n",
       "      <td>NaN</td>\n",
       "      <td>NaN</td>\n",
       "      <td>NaN</td>\n",
       "      <td>NaN</td>\n",
       "    </tr>\n",
       "    <tr>\n",
       "      <th>7</th>\n",
       "      <td>1072053</td>\n",
       "      <td>1288686</td>\n",
       "      <td>3000</td>\n",
       "      <td>3000</td>\n",
       "      <td>3000.0</td>\n",
       "      <td>36 months</td>\n",
       "      <td>18.64%</td>\n",
       "      <td>109.43</td>\n",
       "      <td>E</td>\n",
       "      <td>E1</td>\n",
       "      <td>...</td>\n",
       "      <td>NaN</td>\n",
       "      <td>NaN</td>\n",
       "      <td>NaN</td>\n",
       "      <td>NaN</td>\n",
       "      <td>0.0</td>\n",
       "      <td>0.0</td>\n",
       "      <td>NaN</td>\n",
       "      <td>NaN</td>\n",
       "      <td>NaN</td>\n",
       "      <td>NaN</td>\n",
       "    </tr>\n",
       "    <tr>\n",
       "      <th>8</th>\n",
       "      <td>1071795</td>\n",
       "      <td>1306957</td>\n",
       "      <td>5600</td>\n",
       "      <td>5600</td>\n",
       "      <td>5600.0</td>\n",
       "      <td>60 months</td>\n",
       "      <td>21.28%</td>\n",
       "      <td>152.39</td>\n",
       "      <td>F</td>\n",
       "      <td>F2</td>\n",
       "      <td>...</td>\n",
       "      <td>NaN</td>\n",
       "      <td>NaN</td>\n",
       "      <td>NaN</td>\n",
       "      <td>NaN</td>\n",
       "      <td>0.0</td>\n",
       "      <td>0.0</td>\n",
       "      <td>NaN</td>\n",
       "      <td>NaN</td>\n",
       "      <td>NaN</td>\n",
       "      <td>NaN</td>\n",
       "    </tr>\n",
       "    <tr>\n",
       "      <th>9</th>\n",
       "      <td>1071570</td>\n",
       "      <td>1306721</td>\n",
       "      <td>5375</td>\n",
       "      <td>5375</td>\n",
       "      <td>5350.0</td>\n",
       "      <td>60 months</td>\n",
       "      <td>12.69%</td>\n",
       "      <td>121.45</td>\n",
       "      <td>B</td>\n",
       "      <td>B5</td>\n",
       "      <td>...</td>\n",
       "      <td>NaN</td>\n",
       "      <td>NaN</td>\n",
       "      <td>NaN</td>\n",
       "      <td>NaN</td>\n",
       "      <td>0.0</td>\n",
       "      <td>0.0</td>\n",
       "      <td>NaN</td>\n",
       "      <td>NaN</td>\n",
       "      <td>NaN</td>\n",
       "      <td>NaN</td>\n",
       "    </tr>\n",
       "  </tbody>\n",
       "</table>\n",
       "<p>10 rows × 111 columns</p>\n",
       "</div>"
      ],
      "text/plain": [
       "        id  member_id  loan_amnt  funded_amnt  funded_amnt_inv        term  \\\n",
       "0  1077501    1296599       5000         5000           4975.0   36 months   \n",
       "1  1077430    1314167       2500         2500           2500.0   60 months   \n",
       "2  1077175    1313524       2400         2400           2400.0   36 months   \n",
       "3  1076863    1277178      10000        10000          10000.0   36 months   \n",
       "4  1075358    1311748       3000         3000           3000.0   60 months   \n",
       "5  1075269    1311441       5000         5000           5000.0   36 months   \n",
       "6  1069639    1304742       7000         7000           7000.0   60 months   \n",
       "7  1072053    1288686       3000         3000           3000.0   36 months   \n",
       "8  1071795    1306957       5600         5600           5600.0   60 months   \n",
       "9  1071570    1306721       5375         5375           5350.0   60 months   \n",
       "\n",
       "  int_rate  installment grade sub_grade            ...              \\\n",
       "0   10.65%       162.87     B        B2            ...               \n",
       "1   15.27%        59.83     C        C4            ...               \n",
       "2   15.96%        84.33     C        C5            ...               \n",
       "3   13.49%       339.31     C        C1            ...               \n",
       "4   12.69%        67.79     B        B5            ...               \n",
       "5    7.90%       156.46     A        A4            ...               \n",
       "6   15.96%       170.08     C        C5            ...               \n",
       "7   18.64%       109.43     E        E1            ...               \n",
       "8   21.28%       152.39     F        F2            ...               \n",
       "9   12.69%       121.45     B        B5            ...               \n",
       "\n",
       "  num_tl_90g_dpd_24m num_tl_op_past_12m pct_tl_nvr_dlq  percent_bc_gt_75  \\\n",
       "0                NaN                NaN            NaN               NaN   \n",
       "1                NaN                NaN            NaN               NaN   \n",
       "2                NaN                NaN            NaN               NaN   \n",
       "3                NaN                NaN            NaN               NaN   \n",
       "4                NaN                NaN            NaN               NaN   \n",
       "5                NaN                NaN            NaN               NaN   \n",
       "6                NaN                NaN            NaN               NaN   \n",
       "7                NaN                NaN            NaN               NaN   \n",
       "8                NaN                NaN            NaN               NaN   \n",
       "9                NaN                NaN            NaN               NaN   \n",
       "\n",
       "  pub_rec_bankruptcies tax_liens tot_hi_cred_lim total_bal_ex_mort  \\\n",
       "0                  0.0       0.0             NaN               NaN   \n",
       "1                  0.0       0.0             NaN               NaN   \n",
       "2                  0.0       0.0             NaN               NaN   \n",
       "3                  0.0       0.0             NaN               NaN   \n",
       "4                  0.0       0.0             NaN               NaN   \n",
       "5                  0.0       0.0             NaN               NaN   \n",
       "6                  0.0       0.0             NaN               NaN   \n",
       "7                  0.0       0.0             NaN               NaN   \n",
       "8                  0.0       0.0             NaN               NaN   \n",
       "9                  0.0       0.0             NaN               NaN   \n",
       "\n",
       "  total_bc_limit total_il_high_credit_limit  \n",
       "0            NaN                        NaN  \n",
       "1            NaN                        NaN  \n",
       "2            NaN                        NaN  \n",
       "3            NaN                        NaN  \n",
       "4            NaN                        NaN  \n",
       "5            NaN                        NaN  \n",
       "6            NaN                        NaN  \n",
       "7            NaN                        NaN  \n",
       "8            NaN                        NaN  \n",
       "9            NaN                        NaN  \n",
       "\n",
       "[10 rows x 111 columns]"
      ]
     },
     "execution_count": 3,
     "metadata": {},
     "output_type": "execute_result"
    }
   ],
   "source": [
    "print(loan.info())\n",
    "print(loan.shape)\n",
    "loan.head(10)"
   ]
  },
  {
   "cell_type": "markdown",
   "metadata": {},
   "source": [
    "## About Lending Club:\n",
    "####    LendingClub is a US peer-to-peer lending company, headquartered in San Francisco, California. It was the first peer-to-peer lender to register its offerings as securities with the Securities and Exchange Commission(SEC). Lending Club enables borrowers to create unsecured personal loans between 1,000 dollars and 40,000 dollars. The standard loan period is three years. Investors can search and browse the loan listings on Lending Club website and select loans that they want to invest in based on the information supplied about the borrower, amount of loan, loan grade, and loan purpose. Investors make money from interest. Lending Club makes money by charging borrowers an origination fee and investors a service fee.\n",
    "\n",
    "## Problem Statement:\n",
    "#### The company wants to understand the driving factors (or driver variables) behind loan default, i.e. the variables which are strong indicators of default.  The company can utilise this knowledge for its portfolio and risk assessment. \n",
    "#### If one is able to identify these risky loan applicants, then such loans can be reduced thereby cutting down the amount of credit loss. Identification of such applicants using EDA is the aim of this case study."
   ]
  },
  {
   "cell_type": "markdown",
   "metadata": {},
   "source": [
    "#### Status of the loan was given in the problem statement.  Lets look into it."
   ]
  },
  {
   "cell_type": "code",
   "execution_count": 4,
   "metadata": {},
   "outputs": [
    {
     "name": "stdout",
     "output_type": "stream",
     "text": [
      "count          39717\n",
      "unique             3\n",
      "top       Fully Paid\n",
      "freq           32950\n",
      "Name: loan_status, dtype: object\n",
      "['Fully Paid' 'Charged Off' 'Current']\n"
     ]
    }
   ],
   "source": [
    "print(loan['loan_status'].describe())\n",
    "print(loan['loan_status'].unique())"
   ]
  },
  {
   "cell_type": "markdown",
   "metadata": {},
   "source": [
    "#### Loan Status variable consists of values. Fully Paid, Charged Off and Current. We are going to remove \"Current\" because we can't possibly know at this time whether it will be fully paid or charged off."
   ]
  },
  {
   "cell_type": "code",
   "execution_count": 5,
   "metadata": {},
   "outputs": [],
   "source": [
    "loan = loan[loan['loan_status']!= 'Current']\n",
    "loan.to_csv(\"Loan Status.csv\")"
   ]
  },
  {
   "cell_type": "markdown",
   "metadata": {},
   "source": [
    "## Understanding the variables:\n",
    "\n",
    "## 1) Customer Related Variables:\n",
    "##### emp_title \n",
    "##### emp_length\n",
    "##### home_ownership\n",
    "##### annual_inc\n",
    "##### verification_status\n",
    "##### addr_state\n",
    "##### zip_code\n",
    "##### title\n",
    "##### purpose\n",
    "##### desc\n",
    "##### url\n",
    "\n",
    "## 2)  Loan Related Information:\n",
    "##### loan_amnt\n",
    "##### funded_amnt\n",
    "##### funded_amnt_inv(invested amount)\n",
    "##### int_rate (interest rate)\n",
    "##### loan_status\n",
    "##### grade\n",
    "##### sub-grade\n",
    "##### dti (debt to income ratio)\n",
    "##### issue_d (loan issue date)\n",
    "##### term (loan-term)\n",
    "##### installment\n",
    "\n",
    "\n",
    "## 3) Variables on the response from the Customers and actions taken by the customers:\n",
    "\n",
    "\n",
    "### delinq_2yrs, earliest_cr_line, inq_last_6mths, open_acc, pub_rec, revol_bal, revol_util, total_acc, out_prncp, out_prncp_inv, total_pymnt, total_pymnt_inv, total_rec_prncp, total_rec_int, total_rec_late_fee, recoveries, collection_recovery_fee, last_pymnt_d, last_pymnt_amnt, next_pymnt_d, last_credit_pull_d, application_type, annual_inc_joint, dti_joint, verification_status_joint, acc_now_delinq, tot_coll_amt, tot_cur_bal, open_acc_6m, open_il_6m, open_il_12m, open_il_24m\tmths_since_rcnt_il\ttotal_bal_il\til_util\topen_rv_12m\topen_rv_24m\tmax_bal_bc\tall_util\ttotal_rev_hi_lim\tinq_fi\ttotal_cu_tl\tinq_last_12m\tacc_open_past_24mths\tavg_cur_bal\tbc_open_to_buy\tbc_util\tchargeoff_within_12_mths\tdelinq_amnt\tmo_sin_old_il_acct\tmo_sin_old_rev_tl_op\tmo_sin_rcnt_rev_tl_op\tmo_sin_rcnt_tl\tmort_acc\tmths_since_recent_bc\tmths_since_recent_bc_dlq\tmths_since_recent_inq\tmths_since_recent_revol_delinq\tnum_accts_ever_120_pd\tnum_actv_bc_tl\tnum_actv_rev_tl\tnum_bc_sats\tnum_bc_tl\tnum_il_tl\tnum_op_rev_tl\tnum_rev_accts\tnum_rev_tl_bal_gt_0\tnum_sats\tnum_tl_120dpd_2m\tnum_tl_30dpd\tnum_tl_90g_dpd_24m\tnum_tl_op_past_12m\tpct_tl_nvr_dlq\tpercent_bc_gt_75\tpub_rec_bankruptcies\ttax_liens\ttot_hi_cred_lim\ttotal_bal_ex_mort\ttotal_bc_limit\ttotal_il_high_credit_limit\n"
   ]
  },
  {
   "cell_type": "markdown",
   "metadata": {},
   "source": [
    "### Removing Columns from the dataframe.\n",
    "\n",
    "#### 1) As the variables in the 3rd catergory from above won't be avialable during the lending process of loans, analyzing these variables would be waste of time. So we are going to remove these variables.\n",
    "\n",
    "#### 2) Removing paymt plan because it contains only one value.\n",
    "\n",
    "#### 3) Removing desc as we are not going to do any anlysis on those text.\n",
    "\n",
    "#### 4) Removing url,id and member_id from the table as we are not interested in the individuals data. Rather,  we are focusing on the data of a group.\n",
    "\n",
    "#### Since the number of columns we are going to remove are larger than the number of columns we are interested to analyze, I am just going to take a copy of the columns that we are interested to analyze in a new dataframe"
   ]
  },
  {
   "cell_type": "code",
   "execution_count": 6,
   "metadata": {
    "scrolled": true
   },
   "outputs": [
    {
     "name": "stdout",
     "output_type": "stream",
     "text": [
      "<class 'pandas.core.frame.DataFrame'>\n",
      "Int64Index: 38577 entries, 0 to 39716\n",
      "Data columns (total 20 columns):\n",
      "loan_amnt              38577 non-null int64\n",
      "funded_amnt            38577 non-null int64\n",
      "funded_amnt_inv        38577 non-null float64\n",
      "term                   38577 non-null object\n",
      "int_rate               38577 non-null object\n",
      "installment            38577 non-null float64\n",
      "grade                  38577 non-null object\n",
      "sub_grade              38577 non-null object\n",
      "emp_title              36191 non-null object\n",
      "emp_length             37544 non-null object\n",
      "home_ownership         38577 non-null object\n",
      "annual_inc             38577 non-null float64\n",
      "verification_status    38577 non-null object\n",
      "issue_d                38577 non-null object\n",
      "loan_status            38577 non-null object\n",
      "purpose                38577 non-null object\n",
      "title                  38566 non-null object\n",
      "zip_code               38577 non-null object\n",
      "addr_state             38577 non-null object\n",
      "dti                    38577 non-null float64\n",
      "dtypes: float64(4), int64(2), object(14)\n",
      "memory usage: 6.2+ MB\n"
     ]
    }
   ],
   "source": [
    "loan_final = loan[['loan_amnt','funded_amnt','funded_amnt_inv','term','int_rate','installment','grade','sub_grade','emp_title','emp_length','home_ownership','annual_inc','verification_status','issue_d','loan_status','purpose','title','zip_code','addr_state','dti']]\n",
    "loan_final.info()"
   ]
  },
  {
   "cell_type": "code",
   "execution_count": 7,
   "metadata": {},
   "outputs": [
    {
     "name": "stdout",
     "output_type": "stream",
     "text": [
      "count       36191\n",
      "unique      28027\n",
      "top       US Army\n",
      "freq          131\n",
      "Name: emp_title, dtype: object\n",
      "count                  38566\n",
      "unique                 19297\n",
      "top       Debt Consolidation\n",
      "freq                    2090\n",
      "Name: title, dtype: object\n",
      "count     38577\n",
      "unique      822\n",
      "top       100xx\n",
      "freq        583\n",
      "Name: zip_code, dtype: object\n",
      "count     38577\n",
      "unique       50\n",
      "top          CA\n",
      "freq       6949\n",
      "Name: addr_state, dtype: object\n",
      "count     38577\n",
      "unique       35\n",
      "top          A4\n",
      "freq       2873\n",
      "Name: sub_grade, dtype: object\n"
     ]
    }
   ],
   "source": [
    "print(loan_final['emp_title'].describe())\n",
    "print(loan_final['title'].describe())\n",
    "print(loan_final['zip_code'].describe())\n",
    "print(loan_final['addr_state'].describe())\n",
    "print(loan_final['sub_grade'].describe())"
   ]
  },
  {
   "cell_type": "markdown",
   "metadata": {},
   "source": [
    "#### As the columns emp_title,title, addr_state,zip_code,sub_grade have huge number of unique columns, they can't be used as a category. So removing these columns also."
   ]
  },
  {
   "cell_type": "code",
   "execution_count": 8,
   "metadata": {},
   "outputs": [
    {
     "name": "stdout",
     "output_type": "stream",
     "text": [
      "<class 'pandas.core.frame.DataFrame'>\n",
      "Int64Index: 38577 entries, 0 to 39716\n",
      "Data columns (total 15 columns):\n",
      "loan_amnt              38577 non-null int64\n",
      "funded_amnt            38577 non-null int64\n",
      "funded_amnt_inv        38577 non-null float64\n",
      "term                   38577 non-null object\n",
      "int_rate               38577 non-null object\n",
      "installment            38577 non-null float64\n",
      "grade                  38577 non-null object\n",
      "emp_length             37544 non-null object\n",
      "home_ownership         38577 non-null object\n",
      "annual_inc             38577 non-null float64\n",
      "verification_status    38577 non-null object\n",
      "issue_d                38577 non-null object\n",
      "loan_status            38577 non-null object\n",
      "purpose                38577 non-null object\n",
      "dti                    38577 non-null float64\n",
      "dtypes: float64(4), int64(2), object(9)\n",
      "memory usage: 4.7+ MB\n"
     ]
    },
    {
     "name": "stderr",
     "output_type": "stream",
     "text": [
      "C:\\Users\\HELLO\\Anaconda3\\lib\\site-packages\\pandas\\core\\frame.py:3694: SettingWithCopyWarning: \n",
      "A value is trying to be set on a copy of a slice from a DataFrame\n",
      "\n",
      "See the caveats in the documentation: http://pandas.pydata.org/pandas-docs/stable/indexing.html#indexing-view-versus-copy\n",
      "  errors=errors)\n"
     ]
    }
   ],
   "source": [
    "loan_final.drop(['emp_title','title','zip_code','addr_state','sub_grade'],axis=1,inplace=True)\n",
    "loan_final.info()"
   ]
  },
  {
   "cell_type": "markdown",
   "metadata": {},
   "source": [
    "## Data Cleaning and Formatting:\n"
   ]
  },
  {
   "cell_type": "code",
   "execution_count": 9,
   "metadata": {},
   "outputs": [
    {
     "name": "stdout",
     "output_type": "stream",
     "text": [
      "<class 'pandas.core.frame.DataFrame'>\n",
      "Int64Index: 38577 entries, 0 to 39716\n",
      "Data columns (total 15 columns):\n",
      "loan_amnt              38577 non-null int64\n",
      "funded_amnt            38577 non-null int64\n",
      "funded_amnt_inv        38577 non-null float64\n",
      "term                   38577 non-null object\n",
      "installment            38577 non-null float64\n",
      "grade                  38577 non-null object\n",
      "emp_length             37544 non-null object\n",
      "home_ownership         38577 non-null object\n",
      "annual_inc             38577 non-null float64\n",
      "verification_status    38577 non-null object\n",
      "issue_d                38577 non-null object\n",
      "loan_status            38577 non-null object\n",
      "purpose                38577 non-null object\n",
      "dti                    38577 non-null float64\n",
      "interest               38577 non-null float64\n",
      "dtypes: float64(5), int64(2), object(8)\n",
      "memory usage: 4.7+ MB\n"
     ]
    },
    {
     "name": "stderr",
     "output_type": "stream",
     "text": [
      "C:\\Users\\HELLO\\Anaconda3\\lib\\site-packages\\ipykernel_launcher.py:6: SettingWithCopyWarning: \n",
      "A value is trying to be set on a copy of a slice from a DataFrame.\n",
      "Try using .loc[row_indexer,col_indexer] = value instead\n",
      "\n",
      "See the caveats in the documentation: http://pandas.pydata.org/pandas-docs/stable/indexing.html#indexing-view-versus-copy\n",
      "  \n",
      "C:\\Users\\HELLO\\Anaconda3\\lib\\site-packages\\ipykernel_launcher.py:7: SettingWithCopyWarning: \n",
      "A value is trying to be set on a copy of a slice from a DataFrame.\n",
      "Try using .loc[row_indexer,col_indexer] = value instead\n",
      "\n",
      "See the caveats in the documentation: http://pandas.pydata.org/pandas-docs/stable/indexing.html#indexing-view-versus-copy\n",
      "  import sys\n",
      "C:\\Users\\HELLO\\Anaconda3\\lib\\site-packages\\pandas\\core\\frame.py:3694: SettingWithCopyWarning: \n",
      "A value is trying to be set on a copy of a slice from a DataFrame\n",
      "\n",
      "See the caveats in the documentation: http://pandas.pydata.org/pandas-docs/stable/indexing.html#indexing-view-versus-copy\n",
      "  errors=errors)\n"
     ]
    }
   ],
   "source": [
    "### The interest rate column is string. Lets convert this to numeric which can be done by removing the '%'at the end.\n",
    "loan_final['int_rate'].describe()\n",
    "def int_rates_to_number(x):\n",
    "    y =x.split('%')\n",
    "    return y[0]\n",
    "loan_final['interest'] = loan_final['int_rate'].apply(int_rates_to_number)\n",
    "loan_final['interest'] = pd.to_numeric(loan_final['interest'])\n",
    "loan_final.drop('int_rate',inplace=True,axis=1)\n",
    "loan_final.info()"
   ]
  },
  {
   "cell_type": "markdown",
   "metadata": {},
   "source": [
    "### Analyzing and Formatting the Issue_d variable"
   ]
  },
  {
   "cell_type": "code",
   "execution_count": 11,
   "metadata": {},
   "outputs": [
    {
     "name": "stdout",
     "output_type": "stream",
     "text": [
      "7925    Sep-11\n",
      "7239    Sep-11\n",
      "7221    Sep-11\n",
      "7222    Sep-11\n",
      "8798    Sep-11\n",
      "7224    Sep-11\n",
      "7225    Sep-11\n",
      "7226    Sep-11\n",
      "7227    Sep-11\n",
      "8801    Sep-11\n",
      "Name: issue_d, dtype: object\n"
     ]
    },
    {
     "name": "stderr",
     "output_type": "stream",
     "text": [
      "C:\\Users\\HELLO\\Anaconda3\\lib\\site-packages\\ipykernel_launcher.py:11: SettingWithCopyWarning: \n",
      "A value is trying to be set on a copy of a slice from a DataFrame.\n",
      "Try using .loc[row_indexer,col_indexer] = value instead\n",
      "\n",
      "See the caveats in the documentation: http://pandas.pydata.org/pandas-docs/stable/indexing.html#indexing-view-versus-copy\n",
      "  # This is added back by InteractiveShellApp.init_path()\n"
     ]
    },
    {
     "data": {
      "text/plain": [
       "count    38577.000000\n",
       "mean         7.114757\n",
       "std          3.408523\n",
       "min          1.000000\n",
       "25%          4.000000\n",
       "50%          7.000000\n",
       "75%         10.000000\n",
       "max         12.000000\n",
       "Name: issue_d, dtype: float64"
      ]
     },
     "execution_count": 11,
     "metadata": {},
     "output_type": "execute_result"
    }
   ],
   "source": [
    "print(loan_final['issue_d'].sort_values(ascending=False).head(10))\n",
    "### The date is given as string in \"dd-Month\" Format\n",
    "from datetime import datetime\n",
    "def string_to_datetime(x):\n",
    "    try:\n",
    "        y = datetime.strptime(x,'%b-%d')\n",
    "        z = y.month\n",
    "        return z\n",
    "    except TypeError:\n",
    "        return None\n",
    "loan_final['issue_d'] = loan_final['issue_d'].apply(string_to_datetime)\n",
    "loan_final['issue_d'].describe()"
   ]
  },
  {
   "cell_type": "code",
   "execution_count": 13,
   "metadata": {},
   "outputs": [
    {
     "name": "stderr",
     "output_type": "stream",
     "text": [
      "C:\\Users\\HELLO\\Anaconda3\\lib\\site-packages\\ipykernel_launcher.py:1: SettingWithCopyWarning: \n",
      "A value is trying to be set on a copy of a slice from a DataFrame.\n",
      "Try using .loc[row_indexer,col_indexer] = value instead\n",
      "\n",
      "See the caveats in the documentation: http://pandas.pydata.org/pandas-docs/stable/indexing.html#indexing-view-versus-copy\n",
      "  \"\"\"Entry point for launching an IPython kernel.\n"
     ]
    },
    {
     "data": {
      "text/plain": [
       "count     38577\n",
       "unique       12\n",
       "top          12\n",
       "freq       4215\n",
       "Name: issue_d, dtype: object"
      ]
     },
     "execution_count": 13,
     "metadata": {},
     "output_type": "execute_result"
    }
   ],
   "source": [
    "loan_final['issue_d'] = loan_final['issue_d'].apply(lambda x : str(x))\n",
    "loan_final['issue_d'].describe()"
   ]
  },
  {
   "cell_type": "markdown",
   "metadata": {},
   "source": [
    "#### Lets plot the loan status to get an idea of what percentage of applicants have defaulted on their loan."
   ]
  },
  {
   "cell_type": "code",
   "execution_count": 14,
   "metadata": {},
   "outputs": [
    {
     "data": {
      "image/png": "[encoded data removed]",
      "text/plain": [
       "<Figure size 144x288 with 1 Axes>"
      ]
     },
     "metadata": {},
     "output_type": "display_data"
    }
   ],
   "source": [
    "sns.set(rc={'figure.figsize':(2,4)})\n",
    "total = float(len(loan_final['loan_status']))\n",
    "ax = sns.countplot(x='loan_status',data=loan_final)\n",
    "for p in ax.patches:\n",
    "    height = p.get_height()\n",
    "    ax.text(p.get_x()+p.get_width()/2.,\n",
    "            height + 3,\n",
    "            '{:1.2f}'.format(height/total),\n",
    "            ha=\"right\")\n",
    "plt.show()"
   ]
  },
  {
   "cell_type": "markdown",
   "metadata": {},
   "source": [
    "#### Lets create a new column called Charged_Off with values 1 and 0. 1 if loan_status is charged off. It will useful to take the sum of this column during univariate analysis"
   ]
  },
  {
   "cell_type": "code",
   "execution_count": 15,
   "metadata": {},
   "outputs": [
    {
     "name": "stderr",
     "output_type": "stream",
     "text": [
      "C:\\Users\\HELLO\\Anaconda3\\lib\\site-packages\\ipykernel_launcher.py:1: SettingWithCopyWarning: \n",
      "A value is trying to be set on a copy of a slice from a DataFrame.\n",
      "Try using .loc[row_indexer,col_indexer] = value instead\n",
      "\n",
      "See the caveats in the documentation: http://pandas.pydata.org/pandas-docs/stable/indexing.html#indexing-view-versus-copy\n",
      "  \"\"\"Entry point for launching an IPython kernel.\n"
     ]
    },
    {
     "data": {
      "text/plain": [
       "count    38577.000000\n",
       "mean         0.145864\n",
       "std          0.352975\n",
       "min          0.000000\n",
       "25%          0.000000\n",
       "50%          0.000000\n",
       "75%          0.000000\n",
       "max          1.000000\n",
       "Name: Charged Off, dtype: float64"
      ]
     },
     "execution_count": 15,
     "metadata": {},
     "output_type": "execute_result"
    }
   ],
   "source": [
    "loan_final['Charged Off'] = loan_final['loan_status'].apply(lambda x: 1 if x == 'Charged Off' else 0)\n",
    "loan_final['Charged Off'].describe()"
   ]
  },
  {
   "cell_type": "markdown",
   "metadata": {},
   "source": [
    "#### From above, mean gives the percentage of loan that have been charged off which is 14.58%. In the previous plot, we saw that the percentage was 15% which is because the value was rounded off."
   ]
  },
  {
   "cell_type": "markdown",
   "metadata": {},
   "source": [
    "# Univariate Analysis and Bivariate Analysis:\n",
    "\n",
    "### Lets begin univariate analysis by plotting the distribution of different numerical variables"
   ]
  },
  {
   "cell_type": "code",
   "execution_count": 16,
   "metadata": {},
   "outputs": [
    {
     "name": "stderr",
     "output_type": "stream",
     "text": [
      "C:\\Users\\HELLO\\Anaconda3\\lib\\site-packages\\matplotlib\\axes\\_axes.py:6462: UserWarning: The 'normed' kwarg is deprecated, and has been replaced by the 'density' kwarg.\n",
      "  warnings.warn(\"The 'normed' kwarg is deprecated, and has been \"\n",
      "C:\\Users\\HELLO\\Anaconda3\\lib\\site-packages\\matplotlib\\axes\\_axes.py:6462: UserWarning: The 'normed' kwarg is deprecated, and has been replaced by the 'density' kwarg.\n",
      "  warnings.warn(\"The 'normed' kwarg is deprecated, and has been \"\n",
      "C:\\Users\\HELLO\\Anaconda3\\lib\\site-packages\\matplotlib\\axes\\_axes.py:6462: UserWarning: The 'normed' kwarg is deprecated, and has been replaced by the 'density' kwarg.\n",
      "  warnings.warn(\"The 'normed' kwarg is deprecated, and has been \"\n",
      "C:\\Users\\HELLO\\Anaconda3\\lib\\site-packages\\matplotlib\\axes\\_axes.py:6462: UserWarning: The 'normed' kwarg is deprecated, and has been replaced by the 'density' kwarg.\n",
      "  warnings.warn(\"The 'normed' kwarg is deprecated, and has been \"\n",
      "C:\\Users\\HELLO\\Anaconda3\\lib\\site-packages\\matplotlib\\axes\\_axes.py:6462: UserWarning: The 'normed' kwarg is deprecated, and has been replaced by the 'density' kwarg.\n",
      "  warnings.warn(\"The 'normed' kwarg is deprecated, and has been \"\n",
      "C:\\Users\\HELLO\\Anaconda3\\lib\\site-packages\\matplotlib\\axes\\_axes.py:6462: UserWarning: The 'normed' kwarg is deprecated, and has been replaced by the 'density' kwarg.\n",
      "  warnings.warn(\"The 'normed' kwarg is deprecated, and has been \"\n",
      "C:\\Users\\HELLO\\Anaconda3\\lib\\site-packages\\matplotlib\\axes\\_axes.py:6462: UserWarning: The 'normed' kwarg is deprecated, and has been replaced by the 'density' kwarg.\n",
      "  warnings.warn(\"The 'normed' kwarg is deprecated, and has been \"\n"
     ]
    },
    {
     "data": {
      "image/png": "[encoded data removed]",
      "text/plain": [
       "<Figure size 1512x1080 with 7 Axes>"
      ]
     },
     "metadata": {},
     "output_type": "display_data"
    }
   ],
   "source": [
    "# subplot 1\n",
    "sns.set(rc={'figure.figsize':(21,15)})\n",
    "plt.subplot(3, 3, 1)\n",
    "plt.title('Loan Amount')\n",
    "sns.distplot(loan_final['loan_amnt'])\n",
    "\n",
    "# subplot 2\n",
    "plt.subplot(3, 3, 2)\n",
    "plt.title('Funded Amount')\n",
    "sns.distplot(loan_final['funded_amnt'])\n",
    "\n",
    "\n",
    "# subplot 3\n",
    "plt.subplot(3, 3, 3)\n",
    "plt.title('Funded Amount by Investors')\n",
    "sns.distplot(loan_final['funded_amnt_inv'])\n",
    "\n",
    "# subplot 4\n",
    "plt.subplot(3, 3, 4)\n",
    "plt.title('Installment')\n",
    "sns.distplot(loan_final['installment'])\n",
    "\n",
    "# subplot 5\n",
    "plt.subplot(3, 3, 5)\n",
    "plt.title('dti')\n",
    "sns.distplot(loan_final['dti'])\n",
    "\n",
    "# subplot 6\n",
    "plt.subplot(3, 3, 6)\n",
    "plt.title('Annual Income')\n",
    "sns.distplot(loan_final['annual_inc'])\n",
    "\n",
    "# subplot 8\n",
    "plt.subplot(3, 3, 8)\n",
    "plt.title('interest')\n",
    "sns.distplot(loan_final['interest'])\n",
    "\n",
    "plt.show()"
   ]
  },
  {
   "cell_type": "markdown",
   "metadata": {},
   "source": [
    "#### From the above distribution,\n",
    "#### 1. We see that Loan-amount, funded_amount, fundedamount_investors and Installment follow the similar pattern. \n",
    "#### 2. Debt to Income Ratio(DTI) for most of the applicant is between 10 and 20.\n",
    "#### 3. Most of Applicants have annual income less than 1000000.\n",
    "\n",
    "### Lets understand more about these variables by finding the correlation between the variables."
   ]
  },
  {
   "cell_type": "code",
   "execution_count": 17,
   "metadata": {},
   "outputs": [
    {
     "name": "stdout",
     "output_type": "stream",
     "text": [
      "                 loan_amnt  funded_amnt  funded_amnt_inv  installment  \\\n",
      "loan_amnt         1.000000     0.981790         0.937922     0.932260   \n",
      "funded_amnt       0.981790     1.000000         0.956172     0.958035   \n",
      "funded_amnt_inv   0.937922     0.956172         1.000000     0.905464   \n",
      "installment       0.932260     0.958035         0.905464     1.000000   \n",
      "annual_inc        0.268999     0.264798         0.251981     0.267842   \n",
      "dti               0.062436     0.062194         0.070663     0.052038   \n",
      "interest          0.301265     0.304930         0.297473     0.277203   \n",
      "Charged Off       0.059463     0.056497         0.037781     0.027153   \n",
      "\n",
      "                 annual_inc       dti  interest  Charged Off  \n",
      "loan_amnt          0.268999  0.062436  0.301265     0.059463  \n",
      "funded_amnt        0.264798  0.062194  0.304930     0.056497  \n",
      "funded_amnt_inv    0.251981  0.070663  0.297473     0.037781  \n",
      "installment        0.267842  0.052038  0.277203     0.027153  \n",
      "annual_inc         1.000000 -0.121530  0.048899    -0.040867  \n",
      "dti               -0.121530  1.000000  0.110913     0.045078  \n",
      "interest           0.048899  0.110913  1.000000     0.211390  \n",
      "Charged Off       -0.040867  0.045078  0.211390     1.000000  \n"
     ]
    }
   ],
   "source": [
    "# Lets find out the correlation between these variables\n",
    "\n",
    "corr = loan_final.corr()\n",
    "print(corr)\n",
    "corr.to_csv(\"Corr.csv\")"
   ]
  },
  {
   "cell_type": "code",
   "execution_count": 18,
   "metadata": {},
   "outputs": [
    {
     "data": {
      "text/plain": [
       "<matplotlib.axes._subplots.AxesSubplot at 0x1bb50b70c88>"
      ]
     },
     "execution_count": 18,
     "metadata": {},
     "output_type": "execute_result"
    },
    {
     "data": {
      "image/png": "[encoded data removed]",
      "text/plain": [
       "<Figure size 1080x720 with 2 Axes>"
      ]
     },
     "metadata": {},
     "output_type": "display_data"
    }
   ],
   "source": [
    "import seaborn as sns\n",
    "import matplotlib.pyplot as pl\n",
    "f, ax = pl.subplots(figsize=(15, 10))\n",
    "sns.heatmap(corr, mask=np.zeros_like(corr, dtype=np.bool), cmap=sns.diverging_palette(10, 130, as_cmap=True),\n",
    "            square=True, ax=ax)"
   ]
  },
  {
   "cell_type": "markdown",
   "metadata": {},
   "source": [
    "#### We can draw below conclusions from the above figure and table.\n",
    "\n",
    "##### 1. Loan_amnt, funded_amnt and funded_amnt_inv  and installment are highly correlated which makes sense because most of the loans are funded fully and are from investors. Also, the higher the loan the installment will be high too.\n",
    "\n",
    "##### 2. Loan-amnt has 27% correlation with the annual income and 30% correlation with interest\n",
    "\n",
    "##### 3. DTI has negative correlation with annual income which is expected as the applicants having higher income will have low dti ratio"
   ]
  },
  {
   "cell_type": "code",
   "execution_count": 19,
   "metadata": {},
   "outputs": [
    {
     "name": "stderr",
     "output_type": "stream",
     "text": [
      "C:\\Users\\HELLO\\Anaconda3\\lib\\site-packages\\ipykernel_launcher.py:10: SettingWithCopyWarning: \n",
      "A value is trying to be set on a copy of a slice from a DataFrame.\n",
      "Try using .loc[row_indexer,col_indexer] = value instead\n",
      "\n",
      "See the caveats in the documentation: http://pandas.pydata.org/pandas-docs/stable/indexing.html#indexing-view-versus-copy\n",
      "  # Remove the CWD from sys.path while we load stuff.\n"
     ]
    },
    {
     "data": {
      "text/plain": [
       "count      38577\n",
       "unique         3\n",
       "top       Medium\n",
       "freq       24834\n",
       "Name: loan_bin, dtype: object"
      ]
     },
     "execution_count": 19,
     "metadata": {},
     "output_type": "execute_result"
    }
   ],
   "source": [
    "#### Lets create bins for numerical values. So that we can use this for analysis.\n",
    "### We know how the loan_amount is ditributed, so lets create bin for Loan_amount\n",
    "def loan_bin(x):\n",
    "    if x<=5000:\n",
    "        return \"Small\"\n",
    "    elif x>5000 and x<=20000:\n",
    "        return \"Medium\"\n",
    "    else:\n",
    "        return \"High\"\n",
    "loan_final['loan_bin'] = loan_final['loan_amnt'].apply(loan_bin)\n",
    "loan_final['loan_bin'].describe()"
   ]
  },
  {
   "cell_type": "code",
   "execution_count": 20,
   "metadata": {},
   "outputs": [
    {
     "name": "stdout",
     "output_type": "stream",
     "text": [
      "count      38577\n",
      "unique         3\n",
      "top       Medium\n",
      "freq       14732\n",
      "Name: installment_bin, dtype: object\n",
      "count      38577\n",
      "unique         3\n",
      "top       Medium\n",
      "freq       18441\n",
      "Name: dti_bin, dtype: object\n"
     ]
    },
    {
     "name": "stderr",
     "output_type": "stream",
     "text": [
      "C:\\Users\\HELLO\\Anaconda3\\lib\\site-packages\\ipykernel_launcher.py:11: SettingWithCopyWarning: \n",
      "A value is trying to be set on a copy of a slice from a DataFrame.\n",
      "Try using .loc[row_indexer,col_indexer] = value instead\n",
      "\n",
      "See the caveats in the documentation: http://pandas.pydata.org/pandas-docs/stable/indexing.html#indexing-view-versus-copy\n",
      "  # This is added back by InteractiveShellApp.init_path()\n",
      "C:\\Users\\HELLO\\Anaconda3\\lib\\site-packages\\ipykernel_launcher.py:22: SettingWithCopyWarning: \n",
      "A value is trying to be set on a copy of a slice from a DataFrame.\n",
      "Try using .loc[row_indexer,col_indexer] = value instead\n",
      "\n",
      "See the caveats in the documentation: http://pandas.pydata.org/pandas-docs/stable/indexing.html#indexing-view-versus-copy\n"
     ]
    }
   ],
   "source": [
    "# Since funded_amount and funded_amnt_inv are highly correlated with loan_amnt, lets not create bin for those. We will create bin for interest rate, installment and dti\n",
    "#### Lets create bins for numerical values. So that we can use this for analysis.\n",
    "### Bin for Installment\n",
    "def installment_bin(x):\n",
    "    if x<=200:\n",
    "        return \"Small\"\n",
    "    elif x>200 and x<=400:\n",
    "        return \"Medium\"\n",
    "    else:\n",
    "        return \"High\"\n",
    "loan_final['installment_bin'] = loan_final['installment'].apply(installment_bin)\n",
    "print(loan_final['installment_bin'].describe())\n",
    "\n",
    "### Bin for DTI\n",
    "def dti_bin(x):\n",
    "    if x<=10:\n",
    "        return \"Small\"\n",
    "    elif x>10 and x<=20:\n",
    "        return \"Medium\"\n",
    "    else:\n",
    "        return \"High\"\n",
    "loan_final['dti_bin'] = loan_final['dti'].apply(dti_bin)\n",
    "print(loan_final['dti_bin'].describe())\n"
   ]
  },
  {
   "cell_type": "code",
   "execution_count": 21,
   "metadata": {},
   "outputs": [
    {
     "name": "stdout",
     "output_type": "stream",
     "text": [
      "count    3.857700e+04\n",
      "mean     6.877797e+04\n",
      "std      6.421868e+04\n",
      "min      4.000000e+03\n",
      "25%      4.000000e+04\n",
      "50%      5.886800e+04\n",
      "75%      8.200000e+04\n",
      "max      6.000000e+06\n",
      "Name: annual_inc, dtype: float64\n",
      "count    38577.000000\n",
      "mean        11.932219\n",
      "std          3.691327\n",
      "min          5.420000\n",
      "25%          8.940000\n",
      "50%         11.710000\n",
      "75%         14.380000\n",
      "max         24.400000\n",
      "Name: interest, dtype: float64\n"
     ]
    }
   ],
   "source": [
    "#### Since we clearly have outlier for annual income, lets describe and create bins using the quantile. Lets do the same for interest also\n",
    "print(loan_final['annual_inc'].describe())\n",
    "print(loan_final['interest'].describe())"
   ]
  },
  {
   "cell_type": "code",
   "execution_count": 22,
   "metadata": {},
   "outputs": [
    {
     "name": "stdout",
     "output_type": "stream",
     "text": [
      "count      38577\n",
      "unique         3\n",
      "top       Medium\n",
      "freq       18989\n",
      "Name: income_bin, dtype: object\n",
      "count      38577\n",
      "unique         3\n",
      "top       Medium\n",
      "freq       18112\n",
      "Name: interest_bin, dtype: object\n"
     ]
    },
    {
     "name": "stderr",
     "output_type": "stream",
     "text": [
      "C:\\Users\\HELLO\\Anaconda3\\lib\\site-packages\\ipykernel_launcher.py:9: SettingWithCopyWarning: \n",
      "A value is trying to be set on a copy of a slice from a DataFrame.\n",
      "Try using .loc[row_indexer,col_indexer] = value instead\n",
      "\n",
      "See the caveats in the documentation: http://pandas.pydata.org/pandas-docs/stable/indexing.html#indexing-view-versus-copy\n",
      "  if __name__ == '__main__':\n",
      "C:\\Users\\HELLO\\Anaconda3\\lib\\site-packages\\ipykernel_launcher.py:20: SettingWithCopyWarning: \n",
      "A value is trying to be set on a copy of a slice from a DataFrame.\n",
      "Try using .loc[row_indexer,col_indexer] = value instead\n",
      "\n",
      "See the caveats in the documentation: http://pandas.pydata.org/pandas-docs/stable/indexing.html#indexing-view-versus-copy\n"
     ]
    }
   ],
   "source": [
    "### Bin for Annual Income\n",
    "def income_bin(x):\n",
    "    if x<=41000:\n",
    "        return \"Small\"\n",
    "    elif x>41000 and x<=82000:\n",
    "        return \"Medium\"\n",
    "    else:\n",
    "        return \"High\"\n",
    "loan_final['income_bin'] = loan_final['annual_inc'].apply(income_bin)\n",
    "print(loan_final['income_bin'].describe())\n",
    "\n",
    "### Bin for Interest\n",
    "def interest_bin(x):\n",
    "    if x<=9:\n",
    "        return \"Small\"\n",
    "    elif x>9 and x<=14:\n",
    "        return \"Medium\"\n",
    "    else:\n",
    "        return \"High\"\n",
    "loan_final['interest_bin'] = loan_final['interest'].apply(interest_bin)\n",
    "print(loan_final['interest_bin'].describe())"
   ]
  },
  {
   "cell_type": "markdown",
   "metadata": {},
   "source": [
    "#### Lets see if we can create bins for any of the other variables in the dataframe"
   ]
  },
  {
   "cell_type": "code",
   "execution_count": 23,
   "metadata": {},
   "outputs": [
    {
     "name": "stdout",
     "output_type": "stream",
     "text": [
      "<class 'pandas.core.frame.DataFrame'>\n",
      "Int64Index: 38577 entries, 0 to 39716\n",
      "Data columns (total 21 columns):\n",
      "loan_amnt              38577 non-null int64\n",
      "funded_amnt            38577 non-null int64\n",
      "funded_amnt_inv        38577 non-null float64\n",
      "term                   38577 non-null object\n",
      "installment            38577 non-null float64\n",
      "grade                  38577 non-null object\n",
      "emp_length             37544 non-null object\n",
      "home_ownership         38577 non-null object\n",
      "annual_inc             38577 non-null float64\n",
      "verification_status    38577 non-null object\n",
      "issue_d                38577 non-null object\n",
      "loan_status            38577 non-null object\n",
      "purpose                38577 non-null object\n",
      "dti                    38577 non-null float64\n",
      "interest               38577 non-null float64\n",
      "Charged Off            38577 non-null int64\n",
      "loan_bin               38577 non-null object\n",
      "installment_bin        38577 non-null object\n",
      "dti_bin                38577 non-null object\n",
      "income_bin             38577 non-null object\n",
      "interest_bin           38577 non-null object\n",
      "dtypes: float64(5), int64(3), object(13)\n",
      "memory usage: 7.7+ MB\n"
     ]
    }
   ],
   "source": [
    "loan_final.info()"
   ]
  },
  {
   "cell_type": "code",
   "execution_count": 24,
   "metadata": {},
   "outputs": [
    {
     "data": {
      "text/plain": [
       "array(['10+ years', '< 1 year', '3 years', '8 years', '9 years',\n",
       "       '4 years', '5 years', '1 year', '6 years', '2 years', '7 years',\n",
       "       nan], dtype=object)"
      ]
     },
     "execution_count": 24,
     "metadata": {},
     "output_type": "execute_result"
    }
   ],
   "source": [
    "# There is column named emp_length which states the experience of the borrower\n",
    "loan_final['emp_length'].unique()"
   ]
  },
  {
   "cell_type": "code",
   "execution_count": 25,
   "metadata": {},
   "outputs": [
    {
     "name": "stdout",
     "output_type": "stream",
     "text": [
      "count           38577\n",
      "unique              3\n",
      "top       Entry Level\n",
      "freq            19322\n",
      "Name: emp_length_bin, dtype: object\n"
     ]
    },
    {
     "name": "stderr",
     "output_type": "stream",
     "text": [
      "C:\\Users\\HELLO\\Anaconda3\\lib\\site-packages\\ipykernel_launcher.py:9: SettingWithCopyWarning: \n",
      "A value is trying to be set on a copy of a slice from a DataFrame.\n",
      "Try using .loc[row_indexer,col_indexer] = value instead\n",
      "\n",
      "See the caveats in the documentation: http://pandas.pydata.org/pandas-docs/stable/indexing.html#indexing-view-versus-copy\n",
      "  if __name__ == '__main__':\n"
     ]
    }
   ],
   "source": [
    "#lets create a bin emp_length as well\n",
    "def emp_length_bin(x):\n",
    "    if x in ['< 1 year','1 year','2 years','3 years','4 years']:\n",
    "        return \"Entry Level\"\n",
    "    elif x in ['5 years','6 years','7 years','8 years','9 years']:\n",
    "        return \"Intermediate\"\n",
    "    else:\n",
    "        return \"Senior\"\n",
    "loan_final['emp_length_bin'] = loan_final['emp_length'].apply(emp_length_bin)\n",
    "print(loan_final['emp_length_bin'].describe())"
   ]
  },
  {
   "cell_type": "code",
   "execution_count": 26,
   "metadata": {
    "scrolled": true
   },
   "outputs": [
    {
     "name": "stdout",
     "output_type": "stream",
     "text": [
      "<class 'pandas.core.frame.DataFrame'>\n",
      "Int64Index: 38577 entries, 0 to 39716\n",
      "Data columns (total 22 columns):\n",
      "loan_amnt              38577 non-null int64\n",
      "funded_amnt            38577 non-null int64\n",
      "funded_amnt_inv        38577 non-null float64\n",
      "term                   38577 non-null object\n",
      "installment            38577 non-null float64\n",
      "grade                  38577 non-null object\n",
      "emp_length             37544 non-null object\n",
      "home_ownership         38577 non-null object\n",
      "annual_inc             38577 non-null float64\n",
      "verification_status    38577 non-null object\n",
      "issue_d                38577 non-null object\n",
      "loan_status            38577 non-null object\n",
      "purpose                38577 non-null object\n",
      "dti                    38577 non-null float64\n",
      "interest               38577 non-null float64\n",
      "Charged Off            38577 non-null int64\n",
      "loan_bin               38577 non-null object\n",
      "installment_bin        38577 non-null object\n",
      "dti_bin                38577 non-null object\n",
      "income_bin             38577 non-null object\n",
      "interest_bin           38577 non-null object\n",
      "emp_length_bin         38577 non-null object\n",
      "dtypes: float64(5), int64(3), object(14)\n",
      "memory usage: 8.0+ MB\n"
     ]
    }
   ],
   "source": [
    "loan_final.info()"
   ]
  },
  {
   "cell_type": "code",
   "execution_count": 27,
   "metadata": {
    "scrolled": true
   },
   "outputs": [
    {
     "data": {
      "image/png": "[encoded data removed]",
      "text/plain": [
       "<Figure size 1296x432 with 1 Axes>"
      ]
     },
     "metadata": {},
     "output_type": "display_data"
    }
   ],
   "source": [
    "# We will start what percenatge of loans are distributed among its type.\n",
    "sns.set(rc={'figure.figsize':(18,6)})\n",
    "total = float(len(loan_final['purpose']))\n",
    "ax = sns.countplot(x='purpose',data=loan_final)\n",
    "for p in ax.patches:\n",
    "    height = p.get_height()\n",
    "    ax.text(p.get_x()+p.get_width()/2.,\n",
    "            height + 3,\n",
    "            '{:1.2f}'.format(height/total),\n",
    "            ha=\"right\")\n",
    "plt.show()"
   ]
  },
  {
   "cell_type": "markdown",
   "metadata": {},
   "source": [
    "### It is clear from the graph that five lone types which are mostly used by the applicant are\n",
    "\n",
    "### 1. Debt Consolidation\n",
    "\n",
    "### 2. Credit Card\n",
    "\n",
    "### 3. Other\n",
    "\n",
    "### 4. Home imporvement\n",
    "\n",
    "### 5. Major Purchase\n",
    "\n",
    "#### Lets just concentarte on these types of loan and find out the variables having significance over default rate on each of these loans"
   ]
  },
  {
   "cell_type": "code",
   "execution_count": 28,
   "metadata": {},
   "outputs": [],
   "source": [
    "loan_final = loan_final[loan_final['purpose'].isin(['credit_card','other','debt_consolidation','home_improvement','major_purchase'])]"
   ]
  },
  {
   "cell_type": "code",
   "execution_count": 29,
   "metadata": {},
   "outputs": [
    {
     "name": "stdout",
     "output_type": "stream",
     "text": [
      "<class 'pandas.core.frame.DataFrame'>\n",
      "Int64Index: 31972 entries, 0 to 39716\n",
      "Data columns (total 22 columns):\n",
      "loan_amnt              31972 non-null int64\n",
      "funded_amnt            31972 non-null int64\n",
      "funded_amnt_inv        31972 non-null float64\n",
      "term                   31972 non-null object\n",
      "installment            31972 non-null float64\n",
      "grade                  31972 non-null object\n",
      "emp_length             31152 non-null object\n",
      "home_ownership         31972 non-null object\n",
      "annual_inc             31972 non-null float64\n",
      "verification_status    31972 non-null object\n",
      "issue_d                31972 non-null object\n",
      "loan_status            31972 non-null object\n",
      "purpose                31972 non-null object\n",
      "dti                    31972 non-null float64\n",
      "interest               31972 non-null float64\n",
      "Charged Off            31972 non-null int64\n",
      "loan_bin               31972 non-null object\n",
      "installment_bin        31972 non-null object\n",
      "dti_bin                31972 non-null object\n",
      "income_bin             31972 non-null object\n",
      "interest_bin           31972 non-null object\n",
      "emp_length_bin         31972 non-null object\n",
      "dtypes: float64(5), int64(3), object(14)\n",
      "memory usage: 5.6+ MB\n"
     ]
    }
   ],
   "source": [
    "loan_final.info()"
   ]
  },
  {
   "cell_type": "markdown",
   "metadata": {},
   "source": [
    "#### We have only on two ordered categorical column \"Grade\" and \"Emp Length\". Lets understand its relationship with some of the numerical variables."
   ]
  },
  {
   "cell_type": "code",
   "execution_count": 30,
   "metadata": {},
   "outputs": [
    {
     "data": {
      "text/html": [
       "<div>\n",
       "<style scoped>\n",
       "    .dataframe tbody tr th:only-of-type {\n",
       "        vertical-align: middle;\n",
       "    }\n",
       "\n",
       "    .dataframe tbody tr th {\n",
       "        vertical-align: top;\n",
       "    }\n",
       "\n",
       "    .dataframe thead th {\n",
       "        text-align: right;\n",
       "    }\n",
       "</style>\n",
       "<table border=\"1\" class=\"dataframe\">\n",
       "  <thead>\n",
       "    <tr style=\"text-align: right;\">\n",
       "      <th></th>\n",
       "      <th>interest</th>\n",
       "      <th>installment</th>\n",
       "      <th>loan_amnt</th>\n",
       "      <th>annual_inc</th>\n",
       "      <th>dti</th>\n",
       "    </tr>\n",
       "    <tr>\n",
       "      <th>grade</th>\n",
       "      <th></th>\n",
       "      <th></th>\n",
       "      <th></th>\n",
       "      <th></th>\n",
       "      <th></th>\n",
       "    </tr>\n",
       "  </thead>\n",
       "  <tbody>\n",
       "    <tr>\n",
       "      <th>A</th>\n",
       "      <td>7.333656</td>\n",
       "      <td>265.733773</td>\n",
       "      <td>8903.280404</td>\n",
       "      <td>67045.745048</td>\n",
       "      <td>12.349850</td>\n",
       "    </tr>\n",
       "    <tr>\n",
       "      <th>B</th>\n",
       "      <td>11.024236</td>\n",
       "      <td>330.386040</td>\n",
       "      <td>11274.405925</td>\n",
       "      <td>67590.046227</td>\n",
       "      <td>13.745127</td>\n",
       "    </tr>\n",
       "    <tr>\n",
       "      <th>C</th>\n",
       "      <td>13.539212</td>\n",
       "      <td>326.232803</td>\n",
       "      <td>11086.450730</td>\n",
       "      <td>67946.161510</td>\n",
       "      <td>14.180900</td>\n",
       "    </tr>\n",
       "    <tr>\n",
       "      <th>D</th>\n",
       "      <td>15.667572</td>\n",
       "      <td>371.903805</td>\n",
       "      <td>12425.952325</td>\n",
       "      <td>68342.348004</td>\n",
       "      <td>14.285688</td>\n",
       "    </tr>\n",
       "    <tr>\n",
       "      <th>E</th>\n",
       "      <td>17.698432</td>\n",
       "      <td>441.795632</td>\n",
       "      <td>16240.871416</td>\n",
       "      <td>78694.481962</td>\n",
       "      <td>14.541832</td>\n",
       "    </tr>\n",
       "    <tr>\n",
       "      <th>F</th>\n",
       "      <td>19.684778</td>\n",
       "      <td>513.546281</td>\n",
       "      <td>18883.282020</td>\n",
       "      <td>84730.146059</td>\n",
       "      <td>14.774470</td>\n",
       "    </tr>\n",
       "    <tr>\n",
       "      <th>G</th>\n",
       "      <td>21.454693</td>\n",
       "      <td>601.178991</td>\n",
       "      <td>21375.109649</td>\n",
       "      <td>98109.767193</td>\n",
       "      <td>14.756754</td>\n",
       "    </tr>\n",
       "  </tbody>\n",
       "</table>\n",
       "</div>"
      ],
      "text/plain": [
       "        interest  installment     loan_amnt    annual_inc        dti\n",
       "grade                                                               \n",
       "A       7.333656   265.733773   8903.280404  67045.745048  12.349850\n",
       "B      11.024236   330.386040  11274.405925  67590.046227  13.745127\n",
       "C      13.539212   326.232803  11086.450730  67946.161510  14.180900\n",
       "D      15.667572   371.903805  12425.952325  68342.348004  14.285688\n",
       "E      17.698432   441.795632  16240.871416  78694.481962  14.541832\n",
       "F      19.684778   513.546281  18883.282020  84730.146059  14.774470\n",
       "G      21.454693   601.178991  21375.109649  98109.767193  14.756754"
      ]
     },
     "execution_count": 30,
     "metadata": {},
     "output_type": "execute_result"
    }
   ],
   "source": [
    "loan_group = loan_final.groupby('grade')['interest','installment','loan_amnt','annual_inc','dti'].mean()\n",
    "#loan_group.set_index('purpose')\n",
    "loan_group"
   ]
  },
  {
   "cell_type": "markdown",
   "metadata": {},
   "source": [
    "#### From above table it is clear that as Grade increases from A to B, interest rate and installment amount increase. So Grade is higly correlated wtih these two columns. But we don't see the patterns for any of the other columns. So considering only one variable \"Grade\" instead of three for determining the default_rate."
   ]
  },
  {
   "cell_type": "code",
   "execution_count": 31,
   "metadata": {},
   "outputs": [
    {
     "data": {
      "text/html": [
       "<div>\n",
       "<style scoped>\n",
       "    .dataframe tbody tr th:only-of-type {\n",
       "        vertical-align: middle;\n",
       "    }\n",
       "\n",
       "    .dataframe tbody tr th {\n",
       "        vertical-align: top;\n",
       "    }\n",
       "\n",
       "    .dataframe thead th {\n",
       "        text-align: right;\n",
       "    }\n",
       "</style>\n",
       "<table border=\"1\" class=\"dataframe\">\n",
       "  <thead>\n",
       "    <tr style=\"text-align: right;\">\n",
       "      <th></th>\n",
       "      <th>interest</th>\n",
       "      <th>installment</th>\n",
       "      <th>loan_amnt</th>\n",
       "      <th>annual_inc</th>\n",
       "      <th>dti</th>\n",
       "    </tr>\n",
       "    <tr>\n",
       "      <th>emp_length</th>\n",
       "      <th></th>\n",
       "      <th></th>\n",
       "      <th></th>\n",
       "      <th></th>\n",
       "      <th></th>\n",
       "    </tr>\n",
       "  </thead>\n",
       "  <tbody>\n",
       "    <tr>\n",
       "      <th>1 year</th>\n",
       "      <td>12.019207</td>\n",
       "      <td>312.039539</td>\n",
       "      <td>10412.939453</td>\n",
       "      <td>63553.861188</td>\n",
       "      <td>13.469793</td>\n",
       "    </tr>\n",
       "    <tr>\n",
       "      <th>10+ years</th>\n",
       "      <td>12.049113</td>\n",
       "      <td>374.933401</td>\n",
       "      <td>13203.350551</td>\n",
       "      <td>81491.493647</td>\n",
       "      <td>13.912163</td>\n",
       "    </tr>\n",
       "    <tr>\n",
       "      <th>2 years</th>\n",
       "      <td>12.013198</td>\n",
       "      <td>310.682966</td>\n",
       "      <td>10370.407586</td>\n",
       "      <td>62888.482502</td>\n",
       "      <td>13.367504</td>\n",
       "    </tr>\n",
       "    <tr>\n",
       "      <th>3 years</th>\n",
       "      <td>12.050894</td>\n",
       "      <td>321.628143</td>\n",
       "      <td>10911.992986</td>\n",
       "      <td>66876.857319</td>\n",
       "      <td>13.676313</td>\n",
       "    </tr>\n",
       "    <tr>\n",
       "      <th>4 years</th>\n",
       "      <td>12.105229</td>\n",
       "      <td>328.835892</td>\n",
       "      <td>11138.509825</td>\n",
       "      <td>66315.704851</td>\n",
       "      <td>13.544731</td>\n",
       "    </tr>\n",
       "    <tr>\n",
       "      <th>5 years</th>\n",
       "      <td>12.007421</td>\n",
       "      <td>334.547508</td>\n",
       "      <td>11467.807315</td>\n",
       "      <td>68598.614076</td>\n",
       "      <td>13.784778</td>\n",
       "    </tr>\n",
       "    <tr>\n",
       "      <th>6 years</th>\n",
       "      <td>12.031876</td>\n",
       "      <td>337.077005</td>\n",
       "      <td>11664.947888</td>\n",
       "      <td>67546.193291</td>\n",
       "      <td>14.183961</td>\n",
       "    </tr>\n",
       "    <tr>\n",
       "      <th>7 years</th>\n",
       "      <td>12.070752</td>\n",
       "      <td>346.664729</td>\n",
       "      <td>11825.017569</td>\n",
       "      <td>68682.749213</td>\n",
       "      <td>13.984378</td>\n",
       "    </tr>\n",
       "    <tr>\n",
       "      <th>8 years</th>\n",
       "      <td>11.846634</td>\n",
       "      <td>350.965911</td>\n",
       "      <td>12086.658456</td>\n",
       "      <td>75197.650977</td>\n",
       "      <td>14.171412</td>\n",
       "    </tr>\n",
       "    <tr>\n",
       "      <th>9 years</th>\n",
       "      <td>11.922252</td>\n",
       "      <td>355.699288</td>\n",
       "      <td>12241.385948</td>\n",
       "      <td>73871.366756</td>\n",
       "      <td>13.774023</td>\n",
       "    </tr>\n",
       "    <tr>\n",
       "      <th>&lt; 1 year</th>\n",
       "      <td>11.872795</td>\n",
       "      <td>296.260705</td>\n",
       "      <td>9908.397844</td>\n",
       "      <td>61103.728090</td>\n",
       "      <td>12.902347</td>\n",
       "    </tr>\n",
       "  </tbody>\n",
       "</table>\n",
       "</div>"
      ],
      "text/plain": [
       "             interest  installment     loan_amnt    annual_inc        dti\n",
       "emp_length                                                               \n",
       "1 year      12.019207   312.039539  10412.939453  63553.861188  13.469793\n",
       "10+ years   12.049113   374.933401  13203.350551  81491.493647  13.912163\n",
       "2 years     12.013198   310.682966  10370.407586  62888.482502  13.367504\n",
       "3 years     12.050894   321.628143  10911.992986  66876.857319  13.676313\n",
       "4 years     12.105229   328.835892  11138.509825  66315.704851  13.544731\n",
       "5 years     12.007421   334.547508  11467.807315  68598.614076  13.784778\n",
       "6 years     12.031876   337.077005  11664.947888  67546.193291  14.183961\n",
       "7 years     12.070752   346.664729  11825.017569  68682.749213  13.984378\n",
       "8 years     11.846634   350.965911  12086.658456  75197.650977  14.171412\n",
       "9 years     11.922252   355.699288  12241.385948  73871.366756  13.774023\n",
       "< 1 year    11.872795   296.260705   9908.397844  61103.728090  12.902347"
      ]
     },
     "execution_count": 31,
     "metadata": {},
     "output_type": "execute_result"
    }
   ],
   "source": [
    "# Relation of emp_length with various numerical variables\n",
    "loan_group1 = loan_final.groupby('emp_length')['interest','installment','loan_amnt','annual_inc','dti'].mean()\n",
    "#loan_group.set_index('purpose')\n",
    "loan_group1"
   ]
  },
  {
   "cell_type": "markdown",
   "metadata": {},
   "source": [
    "#### We don't see any patterns here so we are going to ignore it"
   ]
  },
  {
   "cell_type": "markdown",
   "metadata": {},
   "source": [
    "## Now that we have created the bins for all the numeric variables, understood the relationship of numerical variables with ordered categorical data and identified the most popular loan types, we can now understand the relationship of each of the categorical variables with Loan Status. \n",
    "\n",
    "#### Note: Bins which was created for numerical values will also be considered categorical\n",
    "\n",
    "#### Adding all the categories in a list to make it easier."
   ]
  },
  {
   "cell_type": "code",
   "execution_count": 32,
   "metadata": {},
   "outputs": [],
   "source": [
    "category_list =['term','grade','home_ownership','verification_status','loan_bin','dti_bin','income_bin','emp_length_bin']"
   ]
  },
  {
   "cell_type": "code",
   "execution_count": 33,
   "metadata": {},
   "outputs": [],
   "source": [
    "###  Create a function for Finding Categorical Weighted Default Rate\n",
    "\n",
    "def find_categorical_weighted_average(data1,category):\n",
    "    group_category_count = pd.DataFrame({\"Total Count\": data1.groupby(category).size()}).reset_index()\n",
    "    group_category_default_rate = pd.DataFrame({\"Default count\": data1.groupby(category)['Charged Off'].sum()}).reset_index()\n",
    "    \n",
    "    Merged_df = group_category_count.merge(group_category_default_rate)\n",
    "    Merged_df['Weighted Default Rate'] = Merged_df['Default count'] * (Merged_df['Default count']/Merged_df['Total Count'])\n",
    "    \n",
    "    total_default_count = Merged_df['Default count'].sum()\n",
    "    \n",
    "    Merged_df['Weighted Default Rate'] = Merged_df['Weighted Default Rate']/total_default_count    \n",
    "    return Merged_df['Weighted Default Rate'].sum()\n",
    "\n"
   ]
  },
  {
   "cell_type": "code",
   "execution_count": 34,
   "metadata": {},
   "outputs": [],
   "source": [
    "#### Lets create a plotting function to plot the default rate\n",
    "def plot_bar(data1,name):\n",
    "    y = \"Loan Default Rate based of \"+name\n",
    "    sns.set(rc={'figure.figsize':(8,6)})\n",
    "    plt.title(y)\n",
    "    sns.barplot(x='Category',y='Default Rate',data=data1)\n",
    "    plt.yscale('log')\n",
    "\n",
    "    plt.show()"
   ]
  },
  {
   "cell_type": "code",
   "execution_count": 35,
   "metadata": {},
   "outputs": [
    {
     "data": {
      "text/plain": [
       "array(['credit_card', 'other', 'debt_consolidation', 'home_improvement',\n",
       "       'major_purchase'], dtype=object)"
      ]
     },
     "execution_count": 35,
     "metadata": {},
     "output_type": "execute_result"
    }
   ],
   "source": [
    "loan_final['purpose'].unique()"
   ]
  },
  {
   "cell_type": "code",
   "execution_count": 36,
   "metadata": {},
   "outputs": [],
   "source": [
    "#### Cedit Card Loan Type: Default Rate"
   ]
  },
  {
   "cell_type": "code",
   "execution_count": 37,
   "metadata": {},
   "outputs": [
    {
     "data": {
      "image/png": "[encoded data removed]",
      "text/plain": [
       "<Figure size 576x432 with 1 Axes>"
      ]
     },
     "metadata": {},
     "output_type": "display_data"
    }
   ],
   "source": [
    "credit_card = loan_final[loan_final['purpose'] == 'credit_card']\n",
    "\n",
    "credit_card_default_rate = {}\n",
    "\n",
    "for i in category_list:\n",
    "    weighted_average = find_categorical_weighted_average(credit_card,i)\n",
    "    credit_card_default_rate[i] =  weighted_average\n",
    "    \n",
    "credit_card_default_rate_df = pd.DataFrame.from_dict(credit_card_default_rate,orient=\"index\",columns=[\"rate\"]).reset_index()\n",
    "credit_card_default_rate_df.sort_values(by='rate',ascending=False,inplace=True)\n",
    "credit_card_default_rate_df.columns=['Category','Default Rate']\n",
    "credit_card_default_rate_df\n",
    "plot_bar(credit_card_default_rate_df,\"credit_card\")"
   ]
  },
  {
   "cell_type": "markdown",
   "metadata": {},
   "source": [
    "Credit Card Loan - Important Variables:\n",
    "    1. Term\n",
    "    2. Grade\n",
    "    3. Annual Income Bin\n",
    "    4. Loan Bin"
   ]
  },
  {
   "cell_type": "code",
   "execution_count": 38,
   "metadata": {},
   "outputs": [],
   "source": [
    "#### Other Loan Type: Default Rate"
   ]
  },
  {
   "cell_type": "code",
   "execution_count": 39,
   "metadata": {
    "scrolled": false
   },
   "outputs": [
    {
     "data": {
      "image/png": "[encoded data removed]",
      "text/plain": [
       "<Figure size 576x432 with 1 Axes>"
      ]
     },
     "metadata": {},
     "output_type": "display_data"
    }
   ],
   "source": [
    "Other = loan_final[loan_final['purpose'] == 'other']\n",
    "\n",
    "Other_default_rate = {}\n",
    "\n",
    "for i in category_list:\n",
    "    weighted_average = find_categorical_weighted_average(Other,i)\n",
    "    Other_default_rate[i] =  weighted_average\n",
    "    \n",
    "Other_default_rate_df = pd.DataFrame.from_dict(Other_default_rate,orient=\"index\",columns=[\"rate\"]).reset_index()\n",
    "Other_default_rate_df.sort_values(by='rate',ascending=False,inplace=True)\n",
    "Other_default_rate_df.columns=['Category','Default Rate']\n",
    "\n",
    "plot_bar(Other_default_rate_df,\"Other\")"
   ]
  },
  {
   "cell_type": "markdown",
   "metadata": {},
   "source": [
    "Other Loan - Important Variables:\n",
    "    1. Grade\n",
    "    2. Term\n",
    "    3. Home Ownership\n",
    "    4. Income Bin"
   ]
  },
  {
   "cell_type": "code",
   "execution_count": 40,
   "metadata": {},
   "outputs": [],
   "source": [
    "#### Debt Consolidation Loan Type: Default Rate"
   ]
  },
  {
   "cell_type": "code",
   "execution_count": 41,
   "metadata": {
    "scrolled": false
   },
   "outputs": [
    {
     "data": {
      "image/png": "[encoded data removed]",
      "text/plain": [
       "<Figure size 576x432 with 1 Axes>"
      ]
     },
     "metadata": {},
     "output_type": "display_data"
    }
   ],
   "source": [
    "debt_consolidation = loan_final[loan_final['purpose'] == 'debt_consolidation']\n",
    "\n",
    "debt_consolidation_default_rate = {}\n",
    "\n",
    "for i in category_list:\n",
    "    weighted_average = find_categorical_weighted_average(debt_consolidation,i)\n",
    "    debt_consolidation_default_rate[i] =  weighted_average\n",
    "    \n",
    "debt_consolidation_default_rate_df = pd.DataFrame.from_dict(debt_consolidation_default_rate,orient=\"index\",columns=[\"rate\"]).reset_index()\n",
    "debt_consolidation_default_rate_df.sort_values(by='rate',ascending=False,inplace=True)\n",
    "debt_consolidation_default_rate_df.columns=['Category','Default Rate']\n",
    "\n",
    "plot_bar(debt_consolidation_default_rate_df,\"debt_consolidation\")"
   ]
  },
  {
   "cell_type": "markdown",
   "metadata": {},
   "source": [
    "Debt Consolidation Loan - Important Variables:\n",
    "    1. Grade\n",
    "    2. Term\n",
    "    3. Annual Income Bin\n",
    "    4. Verification Status"
   ]
  },
  {
   "cell_type": "code",
   "execution_count": 42,
   "metadata": {},
   "outputs": [],
   "source": [
    "### Home Improvement Default Rate"
   ]
  },
  {
   "cell_type": "code",
   "execution_count": 43,
   "metadata": {},
   "outputs": [
    {
     "data": {
      "image/png": "[encoded data removed]",
      "text/plain": [
       "<Figure size 576x432 with 1 Axes>"
      ]
     },
     "metadata": {},
     "output_type": "display_data"
    }
   ],
   "source": [
    "home_improvement = loan_final[loan_final['purpose'] == 'home_improvement']\n",
    "\n",
    "home_improvement_default_rate = {}\n",
    "\n",
    "for i in category_list:\n",
    "    weighted_average = find_categorical_weighted_average(home_improvement,i)\n",
    "    home_improvement_default_rate[i] =  weighted_average\n",
    "    \n",
    "home_improvement_default_rate_df = pd.DataFrame.from_dict(home_improvement_default_rate,orient=\"index\",columns=[\"rate\"]).reset_index()\n",
    "home_improvement_default_rate_df.sort_values(by='rate',ascending=False,inplace=True)\n",
    "home_improvement_default_rate_df.columns=['Category','Default Rate']\n",
    "\n",
    "plot_bar(home_improvement_default_rate_df,\"home_improvement\")"
   ]
  },
  {
   "cell_type": "markdown",
   "metadata": {},
   "source": [
    "Home Improvement Loan - Important Variables:\n",
    "    1. Grade\n",
    "    2. Term\n",
    "    3. Annual Income Bin\n",
    "    4. DTI Bin"
   ]
  },
  {
   "cell_type": "code",
   "execution_count": 44,
   "metadata": {},
   "outputs": [],
   "source": [
    "### Major Purchase Default Rate"
   ]
  },
  {
   "cell_type": "code",
   "execution_count": 45,
   "metadata": {},
   "outputs": [
    {
     "data": {
      "image/png": "[encoded data removed]",
      "text/plain": [
       "<Figure size 576x432 with 1 Axes>"
      ]
     },
     "metadata": {},
     "output_type": "display_data"
    }
   ],
   "source": [
    "major_purchase = loan_final[loan_final['purpose'] == 'major_purchase']\n",
    "\n",
    "major_purchase_default_rate = {}\n",
    "\n",
    "for i in category_list:\n",
    "    weighted_average = find_categorical_weighted_average(major_purchase,i)\n",
    "    major_purchase_default_rate[i] =  weighted_average\n",
    "    \n",
    "major_purchase_default_rate_df = pd.DataFrame.from_dict(major_purchase_default_rate,orient=\"index\",columns=[\"rate\"]).reset_index()\n",
    "major_purchase_default_rate_df.sort_values(by='rate',ascending=False,inplace=True)\n",
    "major_purchase_default_rate_df.columns=['Category','Default Rate']\n",
    "\n",
    "plot_bar(major_purchase_default_rate_df,\"major_purchase\")"
   ]
  },
  {
   "cell_type": "markdown",
   "metadata": {},
   "source": [
    "Major Purchase Loan - Significant Risk Variables:\n",
    "    1. Grade\n",
    "    2. Term\n",
    "    3. Annual Income Bin\n",
    "    4. Home Ownership Bin"
   ]
  },
  {
   "cell_type": "code",
   "execution_count": 47,
   "metadata": {},
   "outputs": [],
   "source": [
    "# Loading dataset so the plots can be done in Tableau for PPT\n",
    "\n",
    "loan_final.to_csv(\"loan_final.csv\")\n",
    "loan_group.to_csv(\"loan_group.csv\")\n",
    "loan_group1.to_csv(\"loan_group1.csv\")\n",
    "credit_card_default_rate_df.to_csv(\"Credit Card.csv\")\n",
    "Other_default_rate_df.to_csv(\"Other.csv\")\n",
    "debt_consolidation_default_rate_df.to_csv(\"debt.csv\")\n",
    "home_improvement_default_rate_df.to_csv(\"Home.csv\")\n",
    "major_purchase_default_rate_df.to_csv(\"MJ.csv\")"
   ]
  },
  {
   "cell_type": "code",
   "execution_count": null,
   "metadata": {},
   "outputs": [],
   "source": []
  }
 ],
 "metadata": {
  "kernelspec": {
   "display_name": "Python 3",
   "language": "python",
   "name": "python3"
  },
  "language_info": {
   "codemirror_mode": {
    "name": "ipython",
    "version": 3
   },
   "file_extension": ".py",
   "mimetype": "text/x-python",
   "name": "python",
   "nbconvert_exporter": "python",
   "pygments_lexer": "ipython3",
   "version": "3.6.5"
  }
 },
 "nbformat": 4,
 "nbformat_minor": 2
}

{
 "cells": [
  {
   "cell_type": "markdown",
   "metadata": {},
   "source": [
    "### Importing and Understanding Data"
   ]
  },
  {
   "cell_type": "code",
   "execution_count": 1,
   "metadata": {},
   "outputs": [],
   "source": [
    "# Supress Warnings\n",
    "\n",
    "import warnings\n",
    "warnings.filterwarnings('ignore')"
   ]
  },
  {
   "cell_type": "code",
   "execution_count": 2,
   "metadata": {},
   "outputs": [],
   "source": [
    "import pandas as pd\n",
    "import numpy as np\n",
    "import matplotlib.pyplot as plt\n",
    "import seaborn as sns"
   ]
  },
  {
   "cell_type": "code",
   "execution_count": 3,
   "metadata": {},
   "outputs": [
    {
     "data": {
      "text/html": [
       "<div>\n",
       "<style scoped>\n",
       "    .dataframe tbody tr th:only-of-type {\n",
       "        vertical-align: middle;\n",
       "    }\n",
       "\n",
       "    .dataframe tbody tr th {\n",
       "        vertical-align: top;\n",
       "    }\n",
       "\n",
       "    .dataframe thead th {\n",
       "        text-align: right;\n",
       "    }\n",
       "</style>\n",
       "<table border=\"1\" class=\"dataframe\">\n",
       "  <thead>\n",
       "    <tr style=\"text-align: right;\">\n",
       "      <th></th>\n",
       "      <th>car_ID</th>\n",
       "      <th>symboling</th>\n",
       "      <th>CarName</th>\n",
       "      <th>fueltype</th>\n",
       "      <th>aspiration</th>\n",
       "      <th>doornumber</th>\n",
       "      <th>carbody</th>\n",
       "      <th>drivewheel</th>\n",
       "      <th>enginelocation</th>\n",
       "      <th>wheelbase</th>\n",
       "      <th>...</th>\n",
       "      <th>enginesize</th>\n",
       "      <th>fuelsystem</th>\n",
       "      <th>boreratio</th>\n",
       "      <th>stroke</th>\n",
       "      <th>compressionratio</th>\n",
       "      <th>horsepower</th>\n",
       "      <th>peakrpm</th>\n",
       "      <th>citympg</th>\n",
       "      <th>highwaympg</th>\n",
       "      <th>price</th>\n",
       "    </tr>\n",
       "  </thead>\n",
       "  <tbody>\n",
       "    <tr>\n",
       "      <th>0</th>\n",
       "      <td>1</td>\n",
       "      <td>3</td>\n",
       "      <td>alfa-romero giulia</td>\n",
       "      <td>gas</td>\n",
       "      <td>std</td>\n",
       "      <td>two</td>\n",
       "      <td>convertible</td>\n",
       "      <td>rwd</td>\n",
       "      <td>front</td>\n",
       "      <td>88.6</td>\n",
       "      <td>...</td>\n",
       "      <td>130</td>\n",
       "      <td>mpfi</td>\n",
       "      <td>3.47</td>\n",
       "      <td>2.68</td>\n",
       "      <td>9.0</td>\n",
       "      <td>111</td>\n",
       "      <td>5000</td>\n",
       "      <td>21</td>\n",
       "      <td>27</td>\n",
       "      <td>13495.000</td>\n",
       "    </tr>\n",
       "    <tr>\n",
       "      <th>1</th>\n",
       "      <td>2</td>\n",
       "      <td>3</td>\n",
       "      <td>alfa-romero stelvio</td>\n",
       "      <td>gas</td>\n",
       "      <td>std</td>\n",
       "      <td>two</td>\n",
       "      <td>convertible</td>\n",
       "      <td>rwd</td>\n",
       "      <td>front</td>\n",
       "      <td>88.6</td>\n",
       "      <td>...</td>\n",
       "      <td>130</td>\n",
       "      <td>mpfi</td>\n",
       "      <td>3.47</td>\n",
       "      <td>2.68</td>\n",
       "      <td>9.0</td>\n",
       "      <td>111</td>\n",
       "      <td>5000</td>\n",
       "      <td>21</td>\n",
       "      <td>27</td>\n",
       "      <td>16500.000</td>\n",
       "    </tr>\n",
       "    <tr>\n",
       "      <th>2</th>\n",
       "      <td>3</td>\n",
       "      <td>1</td>\n",
       "      <td>alfa-romero Quadrifoglio</td>\n",
       "      <td>gas</td>\n",
       "      <td>std</td>\n",
       "      <td>two</td>\n",
       "      <td>hatchback</td>\n",
       "      <td>rwd</td>\n",
       "      <td>front</td>\n",
       "      <td>94.5</td>\n",
       "      <td>...</td>\n",
       "      <td>152</td>\n",
       "      <td>mpfi</td>\n",
       "      <td>2.68</td>\n",
       "      <td>3.47</td>\n",
       "      <td>9.0</td>\n",
       "      <td>154</td>\n",
       "      <td>5000</td>\n",
       "      <td>19</td>\n",
       "      <td>26</td>\n",
       "      <td>16500.000</td>\n",
       "    </tr>\n",
       "    <tr>\n",
       "      <th>3</th>\n",
       "      <td>4</td>\n",
       "      <td>2</td>\n",
       "      <td>audi 100 ls</td>\n",
       "      <td>gas</td>\n",
       "      <td>std</td>\n",
       "      <td>four</td>\n",
       "      <td>sedan</td>\n",
       "      <td>fwd</td>\n",
       "      <td>front</td>\n",
       "      <td>99.8</td>\n",
       "      <td>...</td>\n",
       "      <td>109</td>\n",
       "      <td>mpfi</td>\n",
       "      <td>3.19</td>\n",
       "      <td>3.40</td>\n",
       "      <td>10.0</td>\n",
       "      <td>102</td>\n",
       "      <td>5500</td>\n",
       "      <td>24</td>\n",
       "      <td>30</td>\n",
       "      <td>13950.000</td>\n",
       "    </tr>\n",
       "    <tr>\n",
       "      <th>4</th>\n",
       "      <td>5</td>\n",
       "      <td>2</td>\n",
       "      <td>audi 100ls</td>\n",
       "      <td>gas</td>\n",
       "      <td>std</td>\n",
       "      <td>four</td>\n",
       "      <td>sedan</td>\n",
       "      <td>4wd</td>\n",
       "      <td>front</td>\n",
       "      <td>99.4</td>\n",
       "      <td>...</td>\n",
       "      <td>136</td>\n",
       "      <td>mpfi</td>\n",
       "      <td>3.19</td>\n",
       "      <td>3.40</td>\n",
       "      <td>8.0</td>\n",
       "      <td>115</td>\n",
       "      <td>5500</td>\n",
       "      <td>18</td>\n",
       "      <td>22</td>\n",
       "      <td>17450.000</td>\n",
       "    </tr>\n",
       "    <tr>\n",
       "      <th>5</th>\n",
       "      <td>6</td>\n",
       "      <td>2</td>\n",
       "      <td>audi fox</td>\n",
       "      <td>gas</td>\n",
       "      <td>std</td>\n",
       "      <td>two</td>\n",
       "      <td>sedan</td>\n",
       "      <td>fwd</td>\n",
       "      <td>front</td>\n",
       "      <td>99.8</td>\n",
       "      <td>...</td>\n",
       "      <td>136</td>\n",
       "      <td>mpfi</td>\n",
       "      <td>3.19</td>\n",
       "      <td>3.40</td>\n",
       "      <td>8.5</td>\n",
       "      <td>110</td>\n",
       "      <td>5500</td>\n",
       "      <td>19</td>\n",
       "      <td>25</td>\n",
       "      <td>15250.000</td>\n",
       "    </tr>\n",
       "    <tr>\n",
       "      <th>6</th>\n",
       "      <td>7</td>\n",
       "      <td>1</td>\n",
       "      <td>audi 100ls</td>\n",
       "      <td>gas</td>\n",
       "      <td>std</td>\n",
       "      <td>four</td>\n",
       "      <td>sedan</td>\n",
       "      <td>fwd</td>\n",
       "      <td>front</td>\n",
       "      <td>105.8</td>\n",
       "      <td>...</td>\n",
       "      <td>136</td>\n",
       "      <td>mpfi</td>\n",
       "      <td>3.19</td>\n",
       "      <td>3.40</td>\n",
       "      <td>8.5</td>\n",
       "      <td>110</td>\n",
       "      <td>5500</td>\n",
       "      <td>19</td>\n",
       "      <td>25</td>\n",
       "      <td>17710.000</td>\n",
       "    </tr>\n",
       "    <tr>\n",
       "      <th>7</th>\n",
       "      <td>8</td>\n",
       "      <td>1</td>\n",
       "      <td>audi 5000</td>\n",
       "      <td>gas</td>\n",
       "      <td>std</td>\n",
       "      <td>four</td>\n",
       "      <td>wagon</td>\n",
       "      <td>fwd</td>\n",
       "      <td>front</td>\n",
       "      <td>105.8</td>\n",
       "      <td>...</td>\n",
       "      <td>136</td>\n",
       "      <td>mpfi</td>\n",
       "      <td>3.19</td>\n",
       "      <td>3.40</td>\n",
       "      <td>8.5</td>\n",
       "      <td>110</td>\n",
       "      <td>5500</td>\n",
       "      <td>19</td>\n",
       "      <td>25</td>\n",
       "      <td>18920.000</td>\n",
       "    </tr>\n",
       "    <tr>\n",
       "      <th>8</th>\n",
       "      <td>9</td>\n",
       "      <td>1</td>\n",
       "      <td>audi 4000</td>\n",
       "      <td>gas</td>\n",
       "      <td>turbo</td>\n",
       "      <td>four</td>\n",
       "      <td>sedan</td>\n",
       "      <td>fwd</td>\n",
       "      <td>front</td>\n",
       "      <td>105.8</td>\n",
       "      <td>...</td>\n",
       "      <td>131</td>\n",
       "      <td>mpfi</td>\n",
       "      <td>3.13</td>\n",
       "      <td>3.40</td>\n",
       "      <td>8.3</td>\n",
       "      <td>140</td>\n",
       "      <td>5500</td>\n",
       "      <td>17</td>\n",
       "      <td>20</td>\n",
       "      <td>23875.000</td>\n",
       "    </tr>\n",
       "    <tr>\n",
       "      <th>9</th>\n",
       "      <td>10</td>\n",
       "      <td>0</td>\n",
       "      <td>audi 5000s (diesel)</td>\n",
       "      <td>gas</td>\n",
       "      <td>turbo</td>\n",
       "      <td>two</td>\n",
       "      <td>hatchback</td>\n",
       "      <td>4wd</td>\n",
       "      <td>front</td>\n",
       "      <td>99.5</td>\n",
       "      <td>...</td>\n",
       "      <td>131</td>\n",
       "      <td>mpfi</td>\n",
       "      <td>3.13</td>\n",
       "      <td>3.40</td>\n",
       "      <td>7.0</td>\n",
       "      <td>160</td>\n",
       "      <td>5500</td>\n",
       "      <td>16</td>\n",
       "      <td>22</td>\n",
       "      <td>17859.167</td>\n",
       "    </tr>\n",
       "  </tbody>\n",
       "</table>\n",
       "<p>10 rows × 26 columns</p>\n",
       "</div>"
      ],
      "text/plain": [
       "   car_ID  symboling                   CarName fueltype aspiration doornumber  \\\n",
       "0       1          3        alfa-romero giulia      gas        std        two   \n",
       "1       2          3       alfa-romero stelvio      gas        std        two   \n",
       "2       3          1  alfa-romero Quadrifoglio      gas        std        two   \n",
       "3       4          2               audi 100 ls      gas        std       four   \n",
       "4       5          2                audi 100ls      gas        std       four   \n",
       "5       6          2                  audi fox      gas        std        two   \n",
       "6       7          1                audi 100ls      gas        std       four   \n",
       "7       8          1                 audi 5000      gas        std       four   \n",
       "8       9          1                 audi 4000      gas      turbo       four   \n",
       "9      10          0       audi 5000s (diesel)      gas      turbo        two   \n",
       "\n",
       "       carbody drivewheel enginelocation  wheelbase    ...      enginesize  \\\n",
       "0  convertible        rwd          front       88.6    ...             130   \n",
       "1  convertible        rwd          front       88.6    ...             130   \n",
       "2    hatchback        rwd          front       94.5    ...             152   \n",
       "3        sedan        fwd          front       99.8    ...             109   \n",
       "4        sedan        4wd          front       99.4    ...             136   \n",
       "5        sedan        fwd          front       99.8    ...             136   \n",
       "6        sedan        fwd          front      105.8    ...             136   \n",
       "7        wagon        fwd          front      105.8    ...             136   \n",
       "8        sedan        fwd          front      105.8    ...             131   \n",
       "9    hatchback        4wd          front       99.5    ...             131   \n",
       "\n",
       "   fuelsystem  boreratio  stroke compressionratio horsepower  peakrpm citympg  \\\n",
       "0        mpfi       3.47    2.68              9.0        111     5000      21   \n",
       "1        mpfi       3.47    2.68              9.0        111     5000      21   \n",
       "2        mpfi       2.68    3.47              9.0        154     5000      19   \n",
       "3        mpfi       3.19    3.40             10.0        102     5500      24   \n",
       "4        mpfi       3.19    3.40              8.0        115     5500      18   \n",
       "5        mpfi       3.19    3.40              8.5        110     5500      19   \n",
       "6        mpfi       3.19    3.40              8.5        110     5500      19   \n",
       "7        mpfi       3.19    3.40              8.5        110     5500      19   \n",
       "8        mpfi       3.13    3.40              8.3        140     5500      17   \n",
       "9        mpfi       3.13    3.40              7.0        160     5500      16   \n",
       "\n",
       "   highwaympg      price  \n",
       "0          27  13495.000  \n",
       "1          27  16500.000  \n",
       "2          26  16500.000  \n",
       "3          30  13950.000  \n",
       "4          22  17450.000  \n",
       "5          25  15250.000  \n",
       "6          25  17710.000  \n",
       "7          25  18920.000  \n",
       "8          20  23875.000  \n",
       "9          22  17859.167  \n",
       "\n",
       "[10 rows x 26 columns]"
      ]
     },
     "execution_count": 3,
     "metadata": {},
     "output_type": "execute_result"
    }
   ],
   "source": [
    "# Importing Cars_Assignment.csv\n",
    "carprice = pd.read_csv('CarPrice_Assignment.csv')\n",
    "carprice.head(10)"
   ]
  },
  {
   "cell_type": "code",
   "execution_count": 4,
   "metadata": {},
   "outputs": [
    {
     "data": {
      "text/plain": [
       "(205, 26)"
      ]
     },
     "execution_count": 4,
     "metadata": {},
     "output_type": "execute_result"
    }
   ],
   "source": [
    "carprice.shape"
   ]
  },
  {
   "cell_type": "code",
   "execution_count": 5,
   "metadata": {},
   "outputs": [
    {
     "name": "stdout",
     "output_type": "stream",
     "text": [
      "<class 'pandas.core.frame.DataFrame'>\n",
      "RangeIndex: 205 entries, 0 to 204\n",
      "Data columns (total 26 columns):\n",
      "car_ID              205 non-null int64\n",
      "symboling           205 non-null int64\n",
      "CarName             205 non-null object\n",
      "fueltype            205 non-null object\n",
      "aspiration          205 non-null object\n",
      "doornumber          205 non-null object\n",
      "carbody             205 non-null object\n",
      "drivewheel          205 non-null object\n",
      "enginelocation      205 non-null object\n",
      "wheelbase           205 non-null float64\n",
      "carlength           205 non-null float64\n",
      "carwidth            205 non-null float64\n",
      "carheight           205 non-null float64\n",
      "curbweight          205 non-null int64\n",
      "enginetype          205 non-null object\n",
      "cylindernumber      205 non-null object\n",
      "enginesize          205 non-null int64\n",
      "fuelsystem          205 non-null object\n",
      "boreratio           205 non-null float64\n",
      "stroke              205 non-null float64\n",
      "compressionratio    205 non-null float64\n",
      "horsepower          205 non-null int64\n",
      "peakrpm             205 non-null int64\n",
      "citympg             205 non-null int64\n",
      "highwaympg          205 non-null int64\n",
      "price               205 non-null float64\n",
      "dtypes: float64(8), int64(8), object(10)\n",
      "memory usage: 41.7+ KB\n"
     ]
    }
   ],
   "source": [
    "carprice.info()"
   ]
  },
  {
   "cell_type": "markdown",
   "metadata": {},
   "source": [
    "#### We see that none of the columns have null values."
   ]
  },
  {
   "cell_type": "markdown",
   "metadata": {},
   "source": [
    "## Data Preparation and Visualizing Data\n",
    "### There is a variable named CarName which is comprised of two parts - the first word is the name of 'car company' and the second is the 'car model'. For example, chevrolet impala has 'chevrolet' as the car company name and 'impala' as the car model name. You need to consider only company name as the independent variable for model building.\n",
    "\n",
    "#### Lets retrieve only the first part which is the company name. "
   ]
  },
  {
   "cell_type": "code",
   "execution_count": 6,
   "metadata": {},
   "outputs": [
    {
     "data": {
      "text/plain": [
       "0    alfa-romero\n",
       "1    alfa-romero\n",
       "2    alfa-romero\n",
       "3           audi\n",
       "4           audi\n",
       "Name: CarName, dtype: object"
      ]
     },
     "execution_count": 6,
     "metadata": {},
     "output_type": "execute_result"
    }
   ],
   "source": [
    "carprice['CarName'] = carprice['CarName'].apply(lambda x: str(x).split(' ')[0].lower())\n",
    "carprice['CarName'].head(5)"
   ]
  },
  {
   "cell_type": "markdown",
   "metadata": {},
   "source": [
    "#### Lets drop column car_id as we are not analyzing for each different cars"
   ]
  },
  {
   "cell_type": "code",
   "execution_count": 7,
   "metadata": {},
   "outputs": [
    {
     "data": {
      "text/html": [
       "<div>\n",
       "<style scoped>\n",
       "    .dataframe tbody tr th:only-of-type {\n",
       "        vertical-align: middle;\n",
       "    }\n",
       "\n",
       "    .dataframe tbody tr th {\n",
       "        vertical-align: top;\n",
       "    }\n",
       "\n",
       "    .dataframe thead th {\n",
       "        text-align: right;\n",
       "    }\n",
       "</style>\n",
       "<table border=\"1\" class=\"dataframe\">\n",
       "  <thead>\n",
       "    <tr style=\"text-align: right;\">\n",
       "      <th></th>\n",
       "      <th>symboling</th>\n",
       "      <th>CarName</th>\n",
       "      <th>fueltype</th>\n",
       "      <th>aspiration</th>\n",
       "      <th>doornumber</th>\n",
       "      <th>carbody</th>\n",
       "      <th>drivewheel</th>\n",
       "      <th>enginelocation</th>\n",
       "      <th>wheelbase</th>\n",
       "      <th>carlength</th>\n",
       "      <th>...</th>\n",
       "      <th>enginesize</th>\n",
       "      <th>fuelsystem</th>\n",
       "      <th>boreratio</th>\n",
       "      <th>stroke</th>\n",
       "      <th>compressionratio</th>\n",
       "      <th>horsepower</th>\n",
       "      <th>peakrpm</th>\n",
       "      <th>citympg</th>\n",
       "      <th>highwaympg</th>\n",
       "      <th>price</th>\n",
       "    </tr>\n",
       "  </thead>\n",
       "  <tbody>\n",
       "    <tr>\n",
       "      <th>0</th>\n",
       "      <td>3</td>\n",
       "      <td>alfa-romero</td>\n",
       "      <td>gas</td>\n",
       "      <td>std</td>\n",
       "      <td>two</td>\n",
       "      <td>convertible</td>\n",
       "      <td>rwd</td>\n",
       "      <td>front</td>\n",
       "      <td>88.6</td>\n",
       "      <td>168.8</td>\n",
       "      <td>...</td>\n",
       "      <td>130</td>\n",
       "      <td>mpfi</td>\n",
       "      <td>3.47</td>\n",
       "      <td>2.68</td>\n",
       "      <td>9.0</td>\n",
       "      <td>111</td>\n",
       "      <td>5000</td>\n",
       "      <td>21</td>\n",
       "      <td>27</td>\n",
       "      <td>13495.0</td>\n",
       "    </tr>\n",
       "    <tr>\n",
       "      <th>1</th>\n",
       "      <td>3</td>\n",
       "      <td>alfa-romero</td>\n",
       "      <td>gas</td>\n",
       "      <td>std</td>\n",
       "      <td>two</td>\n",
       "      <td>convertible</td>\n",
       "      <td>rwd</td>\n",
       "      <td>front</td>\n",
       "      <td>88.6</td>\n",
       "      <td>168.8</td>\n",
       "      <td>...</td>\n",
       "      <td>130</td>\n",
       "      <td>mpfi</td>\n",
       "      <td>3.47</td>\n",
       "      <td>2.68</td>\n",
       "      <td>9.0</td>\n",
       "      <td>111</td>\n",
       "      <td>5000</td>\n",
       "      <td>21</td>\n",
       "      <td>27</td>\n",
       "      <td>16500.0</td>\n",
       "    </tr>\n",
       "    <tr>\n",
       "      <th>2</th>\n",
       "      <td>1</td>\n",
       "      <td>alfa-romero</td>\n",
       "      <td>gas</td>\n",
       "      <td>std</td>\n",
       "      <td>two</td>\n",
       "      <td>hatchback</td>\n",
       "      <td>rwd</td>\n",
       "      <td>front</td>\n",
       "      <td>94.5</td>\n",
       "      <td>171.2</td>\n",
       "      <td>...</td>\n",
       "      <td>152</td>\n",
       "      <td>mpfi</td>\n",
       "      <td>2.68</td>\n",
       "      <td>3.47</td>\n",
       "      <td>9.0</td>\n",
       "      <td>154</td>\n",
       "      <td>5000</td>\n",
       "      <td>19</td>\n",
       "      <td>26</td>\n",
       "      <td>16500.0</td>\n",
       "    </tr>\n",
       "    <tr>\n",
       "      <th>3</th>\n",
       "      <td>2</td>\n",
       "      <td>audi</td>\n",
       "      <td>gas</td>\n",
       "      <td>std</td>\n",
       "      <td>four</td>\n",
       "      <td>sedan</td>\n",
       "      <td>fwd</td>\n",
       "      <td>front</td>\n",
       "      <td>99.8</td>\n",
       "      <td>176.6</td>\n",
       "      <td>...</td>\n",
       "      <td>109</td>\n",
       "      <td>mpfi</td>\n",
       "      <td>3.19</td>\n",
       "      <td>3.40</td>\n",
       "      <td>10.0</td>\n",
       "      <td>102</td>\n",
       "      <td>5500</td>\n",
       "      <td>24</td>\n",
       "      <td>30</td>\n",
       "      <td>13950.0</td>\n",
       "    </tr>\n",
       "    <tr>\n",
       "      <th>4</th>\n",
       "      <td>2</td>\n",
       "      <td>audi</td>\n",
       "      <td>gas</td>\n",
       "      <td>std</td>\n",
       "      <td>four</td>\n",
       "      <td>sedan</td>\n",
       "      <td>4wd</td>\n",
       "      <td>front</td>\n",
       "      <td>99.4</td>\n",
       "      <td>176.6</td>\n",
       "      <td>...</td>\n",
       "      <td>136</td>\n",
       "      <td>mpfi</td>\n",
       "      <td>3.19</td>\n",
       "      <td>3.40</td>\n",
       "      <td>8.0</td>\n",
       "      <td>115</td>\n",
       "      <td>5500</td>\n",
       "      <td>18</td>\n",
       "      <td>22</td>\n",
       "      <td>17450.0</td>\n",
       "    </tr>\n",
       "  </tbody>\n",
       "</table>\n",
       "<p>5 rows × 25 columns</p>\n",
       "</div>"
      ],
      "text/plain": [
       "   symboling      CarName fueltype aspiration doornumber      carbody  \\\n",
       "0          3  alfa-romero      gas        std        two  convertible   \n",
       "1          3  alfa-romero      gas        std        two  convertible   \n",
       "2          1  alfa-romero      gas        std        two    hatchback   \n",
       "3          2         audi      gas        std       four        sedan   \n",
       "4          2         audi      gas        std       four        sedan   \n",
       "\n",
       "  drivewheel enginelocation  wheelbase  carlength   ...     enginesize  \\\n",
       "0        rwd          front       88.6      168.8   ...            130   \n",
       "1        rwd          front       88.6      168.8   ...            130   \n",
       "2        rwd          front       94.5      171.2   ...            152   \n",
       "3        fwd          front       99.8      176.6   ...            109   \n",
       "4        4wd          front       99.4      176.6   ...            136   \n",
       "\n",
       "   fuelsystem  boreratio stroke compressionratio  horsepower peakrpm  citympg  \\\n",
       "0        mpfi       3.47   2.68              9.0         111    5000       21   \n",
       "1        mpfi       3.47   2.68              9.0         111    5000       21   \n",
       "2        mpfi       2.68   3.47              9.0         154    5000       19   \n",
       "3        mpfi       3.19   3.40             10.0         102    5500       24   \n",
       "4        mpfi       3.19   3.40              8.0         115    5500       18   \n",
       "\n",
       "   highwaympg    price  \n",
       "0          27  13495.0  \n",
       "1          27  16500.0  \n",
       "2          26  16500.0  \n",
       "3          30  13950.0  \n",
       "4          22  17450.0  \n",
       "\n",
       "[5 rows x 25 columns]"
      ]
     },
     "execution_count": 7,
     "metadata": {},
     "output_type": "execute_result"
    }
   ],
   "source": [
    "carprice.drop(['car_ID'],inplace=True,axis=1)\n",
    "carprice.head(5)"
   ]
  },
  {
   "cell_type": "markdown",
   "metadata": {},
   "source": [
    "#### There are several categorical variables. Lets plot them to see which can be created as dummy and which can mapped with 1's and 0's"
   ]
  },
  {
   "cell_type": "code",
   "execution_count": 8,
   "metadata": {},
   "outputs": [
    {
     "name": "stderr",
     "output_type": "stream",
     "text": [
      "C:\\Users\\HELLO\\Anaconda3\\lib\\site-packages\\matplotlib\\cbook\\deprecation.py:107: MatplotlibDeprecationWarning: Adding an axes using the same arguments as a previous axes currently reuses the earlier instance.  In a future version, a new instance will always be created and returned.  Meanwhile, this warning can be suppressed, and the future behavior ensured, by passing a unique label to each axes instance.\n",
      "  warnings.warn(message, mplDeprecation, stacklevel=1)\n"
     ]
    },
    {
     "data": {
      "image/png": "[encoded data removed]",
      "text/plain": [
       "<Figure size 1440x1152 with 10 Axes>"
      ]
     },
     "metadata": {},
     "output_type": "display_data"
    }
   ],
   "source": [
    "plt.figure(figsize=(20, 16))\n",
    "plt.subplot(4,3,1)\n",
    "sns.boxplot(x = 'CarName', y = 'price', data = carprice)\n",
    "plt.subplot(4,3,2)\n",
    "sns.boxplot(x = 'fueltype', y = 'price', data = carprice)\n",
    "plt.subplot(4,3,3)\n",
    "sns.boxplot(x = 'aspiration', y = 'price', data = carprice)\n",
    "plt.subplot(4,3,4)\n",
    "sns.boxplot(x = 'doornumber', y = 'price', data = carprice)\n",
    "plt.subplot(4,3,5)\n",
    "sns.boxplot(x = 'carbody', y = 'price', data = carprice)\n",
    "plt.subplot(4,3,6)\n",
    "sns.boxplot(x = 'drivewheel', y = 'price', data = carprice)\n",
    "plt.subplot(4,3,6)\n",
    "sns.boxplot(x = 'drivewheel', y = 'price', data = carprice)\n",
    "plt.subplot(4,3,7)\n",
    "sns.boxplot(x = 'enginelocation', y = 'price', data = carprice)\n",
    "plt.subplot(4,3,8)\n",
    "sns.boxplot(x = 'enginetype', y = 'price', data = carprice)\n",
    "plt.subplot(4,3,9)\n",
    "sns.boxplot(x = 'cylindernumber', y = 'price', data = carprice)\n",
    "plt.subplot(4,3,11)\n",
    "sns.boxplot(x = 'fuelsystem', y = 'price', data = carprice)\n",
    "\n",
    "plt.show()\n"
   ]
  },
  {
   "cell_type": "markdown",
   "metadata": {},
   "source": [
    "### Lets create a dummy variables for all of these categories. Before that lets add column name to its values so that we know which columns we are evaluating."
   ]
  },
  {
   "cell_type": "code",
   "execution_count": 9,
   "metadata": {},
   "outputs": [],
   "source": [
    "#carprice['CarName','fueltype','aspiration','doornumber','carbody','drivewheel','enginelocation','enginetype','cylindernumber','fuelsystem'].astype(str).apply(lambda x : x.name+'_'+x)\n",
    "carprice['fueltype'] = str(carprice['fueltype'].name)+\"_\"+carprice['fueltype'].apply(lambda x:x)\n",
    "carprice['CarName'] = str(carprice['CarName'].name)+\"_\"+carprice['CarName'].apply(lambda x:x)\n",
    "carprice['aspiration'] = str(carprice['aspiration'].name)+\"_\"+carprice['aspiration'].apply(lambda x:x)\n",
    "carprice['doornumber'] = str(carprice['doornumber'].name)+\"_\"+carprice['doornumber'].apply(lambda x:x)\n",
    "carprice['carbody'] = str(carprice['carbody'].name)+\"_\"+carprice['carbody'].apply(lambda x:x)\n",
    "carprice['drivewheel'] = str(carprice['drivewheel'].name)+\"_\"+carprice['drivewheel'].apply(lambda x:x)\n",
    "carprice['enginelocation'] = str(carprice['enginelocation'].name)+\"_\"+carprice['enginelocation'].apply(lambda x:x)\n",
    "carprice['enginetype'] = str(carprice['enginetype'].name)+\"_\"+carprice['enginetype'].apply(lambda x:x)\n",
    "carprice['cylindernumber'] = str(carprice['cylindernumber'].name)+\"_\"+carprice['cylindernumber'].apply(lambda x:x)\n",
    "carprice['fuelsystem'] = str(carprice['fuelsystem'].name)+\"_\"+carprice['fuelsystem'].apply(lambda x:x)"
   ]
  },
  {
   "cell_type": "code",
   "execution_count": 10,
   "metadata": {},
   "outputs": [],
   "source": [
    "# Let's drop the first column using 'drop_first = True'\n",
    "dummies = pd.get_dummies(carprice['CarName'], drop_first = True)\n",
    "\n",
    "# Add the results to the original housing dataframe\n",
    "carprice = pd.concat([carprice, dummies], axis = 1)\n",
    "\n",
    "# Let's drop the first column using 'drop_first = True'\n",
    "dummies = pd.get_dummies(carprice['fueltype'], drop_first = True)\n",
    "\n",
    "# Add the results to the original housing dataframe\n",
    "carprice = pd.concat([carprice, dummies], axis = 1)\n",
    "\n",
    "# Let's drop the first column using 'drop_first = True'\n",
    "dummies = pd.get_dummies(carprice['aspiration'], drop_first = True)\n",
    "\n",
    "# Add the results to the original housing dataframe\n",
    "carprice = pd.concat([carprice, dummies], axis = 1)\n",
    "\n",
    "# Let's drop the first column using 'drop_first = True'\n",
    "dummies = pd.get_dummies(carprice['doornumber'], drop_first = True)\n",
    "\n",
    "# Add the results to the original housing dataframe\n",
    "carprice = pd.concat([carprice, dummies], axis = 1)\n",
    "\n",
    "# Let's drop the first column using 'drop_first = True'\n",
    "dummies = pd.get_dummies(carprice['carbody'], drop_first = True)\n",
    "\n",
    "# Add the results to the original housing dataframe\n",
    "carprice = pd.concat([carprice, dummies], axis = 1)\n",
    "\n",
    "# Let's drop the first column using 'drop_first = True'\n",
    "dummies = pd.get_dummies(carprice['drivewheel'], drop_first = True)\n",
    "\n",
    "# Add the results to the original housing dataframe\n",
    "carprice = pd.concat([carprice, dummies], axis = 1)\n",
    "\n",
    "# Let's drop the first column using 'drop_first = True'\n",
    "dummies = pd.get_dummies(carprice['enginelocation'], drop_first = True)\n",
    "\n",
    "# Add the results to the original housing dataframe\n",
    "carprice = pd.concat([carprice, dummies], axis = 1)\n",
    "\n",
    "# Let's drop the first column using 'drop_first = True'\n",
    "dummies = pd.get_dummies(carprice['enginetype'], drop_first = True)\n",
    "\n",
    "# Add the results to the original housing dataframe\n",
    "carprice = pd.concat([carprice, dummies], axis = 1)\n",
    "\n",
    "# Let's drop the first column using 'drop_first = True'\n",
    "dummies = pd.get_dummies(carprice['cylindernumber'], drop_first = True)\n",
    "\n",
    "# Add the results to the original housing dataframe\n",
    "carprice = pd.concat([carprice, dummies], axis = 1)\n",
    "\n",
    "# Let's drop the first column using 'drop_first = True'\n",
    "dummies = pd.get_dummies(carprice['fuelsystem'], drop_first = True)\n",
    "\n",
    "# Add the results to the original housing dataframe\n",
    "carprice = pd.concat([carprice, dummies], axis = 1)"
   ]
  },
  {
   "cell_type": "code",
   "execution_count": 11,
   "metadata": {},
   "outputs": [
    {
     "data": {
      "text/plain": [
       "(205, 80)"
      ]
     },
     "execution_count": 11,
     "metadata": {},
     "output_type": "execute_result"
    }
   ],
   "source": [
    "carprice.shape"
   ]
  },
  {
   "cell_type": "code",
   "execution_count": 12,
   "metadata": {},
   "outputs": [
    {
     "name": "stdout",
     "output_type": "stream",
     "text": [
      "<class 'pandas.core.frame.DataFrame'>\n",
      "RangeIndex: 205 entries, 0 to 204\n",
      "Data columns (total 70 columns):\n",
      "symboling                205 non-null int64\n",
      "wheelbase                205 non-null float64\n",
      "carlength                205 non-null float64\n",
      "carwidth                 205 non-null float64\n",
      "carheight                205 non-null float64\n",
      "curbweight               205 non-null int64\n",
      "enginesize               205 non-null int64\n",
      "boreratio                205 non-null float64\n",
      "stroke                   205 non-null float64\n",
      "compressionratio         205 non-null float64\n",
      "horsepower               205 non-null int64\n",
      "peakrpm                  205 non-null int64\n",
      "citympg                  205 non-null int64\n",
      "highwaympg               205 non-null int64\n",
      "price                    205 non-null float64\n",
      "CarName_audi             205 non-null uint8\n",
      "CarName_bmw              205 non-null uint8\n",
      "CarName_buick            205 non-null uint8\n",
      "CarName_chevrolet        205 non-null uint8\n",
      "CarName_dodge            205 non-null uint8\n",
      "CarName_honda            205 non-null uint8\n",
      "CarName_isuzu            205 non-null uint8\n",
      "CarName_jaguar           205 non-null uint8\n",
      "CarName_maxda            205 non-null uint8\n",
      "CarName_mazda            205 non-null uint8\n",
      "CarName_mercury          205 non-null uint8\n",
      "CarName_mitsubishi       205 non-null uint8\n",
      "CarName_nissan           205 non-null uint8\n",
      "CarName_peugeot          205 non-null uint8\n",
      "CarName_plymouth         205 non-null uint8\n",
      "CarName_porcshce         205 non-null uint8\n",
      "CarName_porsche          205 non-null uint8\n",
      "CarName_renault          205 non-null uint8\n",
      "CarName_saab             205 non-null uint8\n",
      "CarName_subaru           205 non-null uint8\n",
      "CarName_toyota           205 non-null uint8\n",
      "CarName_toyouta          205 non-null uint8\n",
      "CarName_vokswagen        205 non-null uint8\n",
      "CarName_volkswagen       205 non-null uint8\n",
      "CarName_volvo            205 non-null uint8\n",
      "CarName_vw               205 non-null uint8\n",
      "fueltype_gas             205 non-null uint8\n",
      "aspiration_turbo         205 non-null uint8\n",
      "doornumber_two           205 non-null uint8\n",
      "carbody_hardtop          205 non-null uint8\n",
      "carbody_hatchback        205 non-null uint8\n",
      "carbody_sedan            205 non-null uint8\n",
      "carbody_wagon            205 non-null uint8\n",
      "drivewheel_fwd           205 non-null uint8\n",
      "drivewheel_rwd           205 non-null uint8\n",
      "enginelocation_rear      205 non-null uint8\n",
      "enginetype_dohcv         205 non-null uint8\n",
      "enginetype_l             205 non-null uint8\n",
      "enginetype_ohc           205 non-null uint8\n",
      "enginetype_ohcf          205 non-null uint8\n",
      "enginetype_ohcv          205 non-null uint8\n",
      "enginetype_rotor         205 non-null uint8\n",
      "cylindernumber_five      205 non-null uint8\n",
      "cylindernumber_four      205 non-null uint8\n",
      "cylindernumber_six       205 non-null uint8\n",
      "cylindernumber_three     205 non-null uint8\n",
      "cylindernumber_twelve    205 non-null uint8\n",
      "cylindernumber_two       205 non-null uint8\n",
      "fuelsystem_2bbl          205 non-null uint8\n",
      "fuelsystem_4bbl          205 non-null uint8\n",
      "fuelsystem_idi           205 non-null uint8\n",
      "fuelsystem_mfi           205 non-null uint8\n",
      "fuelsystem_mpfi          205 non-null uint8\n",
      "fuelsystem_spdi          205 non-null uint8\n",
      "fuelsystem_spfi          205 non-null uint8\n",
      "dtypes: float64(8), int64(7), uint8(55)\n",
      "memory usage: 35.1 KB\n"
     ]
    }
   ],
   "source": [
    "carprice.drop(['CarName','fueltype','aspiration','doornumber','carbody','drivewheel','enginelocation','enginetype','cylindernumber','fuelsystem'],inplace=True,axis=1)\n",
    "carprice.info()"
   ]
  },
  {
   "cell_type": "markdown",
   "metadata": {},
   "source": [
    "#### Now that we have converted all the categorical variables as numerical. Lets start bulding the model. "
   ]
  },
  {
   "cell_type": "markdown",
   "metadata": {},
   "source": [
    "## Splitting the Data into Training and Testing Sets"
   ]
  },
  {
   "cell_type": "code",
   "execution_count": 13,
   "metadata": {},
   "outputs": [],
   "source": [
    "from sklearn.model_selection import train_test_split\n",
    "\n",
    "# We specify this so that the train and test data set always have the same rows, respectively\n",
    "\n",
    "df_train, df_test = train_test_split(carprice, train_size = 0.7, test_size = 0.3, random_state = 100)"
   ]
  },
  {
   "cell_type": "markdown",
   "metadata": {},
   "source": [
    "### Rescaling the Features \n",
    "\n",
    "We will use MinMax scaling."
   ]
  },
  {
   "cell_type": "code",
   "execution_count": 14,
   "metadata": {},
   "outputs": [],
   "source": [
    "from sklearn.preprocessing import MinMaxScaler\n",
    "scaler = MinMaxScaler()"
   ]
  },
  {
   "cell_type": "code",
   "execution_count": 15,
   "metadata": {},
   "outputs": [
    {
     "data": {
      "text/html": [
       "<div>\n",
       "<style scoped>\n",
       "    .dataframe tbody tr th:only-of-type {\n",
       "        vertical-align: middle;\n",
       "    }\n",
       "\n",
       "    .dataframe tbody tr th {\n",
       "        vertical-align: top;\n",
       "    }\n",
       "\n",
       "    .dataframe thead th {\n",
       "        text-align: right;\n",
       "    }\n",
       "</style>\n",
       "<table border=\"1\" class=\"dataframe\">\n",
       "  <thead>\n",
       "    <tr style=\"text-align: right;\">\n",
       "      <th></th>\n",
       "      <th>symboling</th>\n",
       "      <th>wheelbase</th>\n",
       "      <th>carlength</th>\n",
       "      <th>carwidth</th>\n",
       "      <th>carheight</th>\n",
       "      <th>curbweight</th>\n",
       "      <th>enginesize</th>\n",
       "      <th>boreratio</th>\n",
       "      <th>stroke</th>\n",
       "      <th>compressionratio</th>\n",
       "      <th>...</th>\n",
       "      <th>cylindernumber_three</th>\n",
       "      <th>cylindernumber_twelve</th>\n",
       "      <th>cylindernumber_two</th>\n",
       "      <th>fuelsystem_2bbl</th>\n",
       "      <th>fuelsystem_4bbl</th>\n",
       "      <th>fuelsystem_idi</th>\n",
       "      <th>fuelsystem_mfi</th>\n",
       "      <th>fuelsystem_mpfi</th>\n",
       "      <th>fuelsystem_spdi</th>\n",
       "      <th>fuelsystem_spfi</th>\n",
       "    </tr>\n",
       "  </thead>\n",
       "  <tbody>\n",
       "    <tr>\n",
       "      <th>122</th>\n",
       "      <td>0.6</td>\n",
       "      <td>0.244828</td>\n",
       "      <td>0.426016</td>\n",
       "      <td>0.291667</td>\n",
       "      <td>0.265487</td>\n",
       "      <td>0.272692</td>\n",
       "      <td>0.139623</td>\n",
       "      <td>0.230159</td>\n",
       "      <td>0.525253</td>\n",
       "      <td>0.15000</td>\n",
       "      <td>...</td>\n",
       "      <td>0</td>\n",
       "      <td>0</td>\n",
       "      <td>0</td>\n",
       "      <td>1</td>\n",
       "      <td>0</td>\n",
       "      <td>0</td>\n",
       "      <td>0</td>\n",
       "      <td>0</td>\n",
       "      <td>0</td>\n",
       "      <td>0</td>\n",
       "    </tr>\n",
       "    <tr>\n",
       "      <th>125</th>\n",
       "      <td>1.0</td>\n",
       "      <td>0.272414</td>\n",
       "      <td>0.452033</td>\n",
       "      <td>0.666667</td>\n",
       "      <td>0.212389</td>\n",
       "      <td>0.500388</td>\n",
       "      <td>0.339623</td>\n",
       "      <td>1.000000</td>\n",
       "      <td>0.464646</td>\n",
       "      <td>0.15625</td>\n",
       "      <td>...</td>\n",
       "      <td>0</td>\n",
       "      <td>0</td>\n",
       "      <td>0</td>\n",
       "      <td>0</td>\n",
       "      <td>0</td>\n",
       "      <td>0</td>\n",
       "      <td>0</td>\n",
       "      <td>1</td>\n",
       "      <td>0</td>\n",
       "      <td>0</td>\n",
       "    </tr>\n",
       "    <tr>\n",
       "      <th>166</th>\n",
       "      <td>0.6</td>\n",
       "      <td>0.272414</td>\n",
       "      <td>0.448780</td>\n",
       "      <td>0.308333</td>\n",
       "      <td>0.424779</td>\n",
       "      <td>0.314973</td>\n",
       "      <td>0.139623</td>\n",
       "      <td>0.444444</td>\n",
       "      <td>0.449495</td>\n",
       "      <td>0.15000</td>\n",
       "      <td>...</td>\n",
       "      <td>0</td>\n",
       "      <td>0</td>\n",
       "      <td>0</td>\n",
       "      <td>0</td>\n",
       "      <td>0</td>\n",
       "      <td>0</td>\n",
       "      <td>0</td>\n",
       "      <td>1</td>\n",
       "      <td>0</td>\n",
       "      <td>0</td>\n",
       "    </tr>\n",
       "    <tr>\n",
       "      <th>1</th>\n",
       "      <td>1.0</td>\n",
       "      <td>0.068966</td>\n",
       "      <td>0.450407</td>\n",
       "      <td>0.316667</td>\n",
       "      <td>0.088496</td>\n",
       "      <td>0.411171</td>\n",
       "      <td>0.260377</td>\n",
       "      <td>0.626984</td>\n",
       "      <td>0.247475</td>\n",
       "      <td>0.12500</td>\n",
       "      <td>...</td>\n",
       "      <td>0</td>\n",
       "      <td>0</td>\n",
       "      <td>0</td>\n",
       "      <td>0</td>\n",
       "      <td>0</td>\n",
       "      <td>0</td>\n",
       "      <td>0</td>\n",
       "      <td>1</td>\n",
       "      <td>0</td>\n",
       "      <td>0</td>\n",
       "    </tr>\n",
       "    <tr>\n",
       "      <th>199</th>\n",
       "      <td>0.2</td>\n",
       "      <td>0.610345</td>\n",
       "      <td>0.775610</td>\n",
       "      <td>0.575000</td>\n",
       "      <td>0.858407</td>\n",
       "      <td>0.647401</td>\n",
       "      <td>0.260377</td>\n",
       "      <td>0.746032</td>\n",
       "      <td>0.484848</td>\n",
       "      <td>0.03125</td>\n",
       "      <td>...</td>\n",
       "      <td>0</td>\n",
       "      <td>0</td>\n",
       "      <td>0</td>\n",
       "      <td>0</td>\n",
       "      <td>0</td>\n",
       "      <td>0</td>\n",
       "      <td>0</td>\n",
       "      <td>1</td>\n",
       "      <td>0</td>\n",
       "      <td>0</td>\n",
       "    </tr>\n",
       "  </tbody>\n",
       "</table>\n",
       "<p>5 rows × 70 columns</p>\n",
       "</div>"
      ],
      "text/plain": [
       "     symboling  wheelbase  carlength  carwidth  carheight  curbweight  \\\n",
       "122        0.6   0.244828   0.426016  0.291667   0.265487    0.272692   \n",
       "125        1.0   0.272414   0.452033  0.666667   0.212389    0.500388   \n",
       "166        0.6   0.272414   0.448780  0.308333   0.424779    0.314973   \n",
       "1          1.0   0.068966   0.450407  0.316667   0.088496    0.411171   \n",
       "199        0.2   0.610345   0.775610  0.575000   0.858407    0.647401   \n",
       "\n",
       "     enginesize  boreratio    stroke  compressionratio       ...         \\\n",
       "122    0.139623   0.230159  0.525253           0.15000       ...          \n",
       "125    0.339623   1.000000  0.464646           0.15625       ...          \n",
       "166    0.139623   0.444444  0.449495           0.15000       ...          \n",
       "1      0.260377   0.626984  0.247475           0.12500       ...          \n",
       "199    0.260377   0.746032  0.484848           0.03125       ...          \n",
       "\n",
       "     cylindernumber_three  cylindernumber_twelve  cylindernumber_two  \\\n",
       "122                     0                      0                   0   \n",
       "125                     0                      0                   0   \n",
       "166                     0                      0                   0   \n",
       "1                       0                      0                   0   \n",
       "199                     0                      0                   0   \n",
       "\n",
       "     fuelsystem_2bbl  fuelsystem_4bbl  fuelsystem_idi  fuelsystem_mfi  \\\n",
       "122                1                0               0               0   \n",
       "125                0                0               0               0   \n",
       "166                0                0               0               0   \n",
       "1                  0                0               0               0   \n",
       "199                0                0               0               0   \n",
       "\n",
       "     fuelsystem_mpfi  fuelsystem_spdi  fuelsystem_spfi  \n",
       "122                0                0                0  \n",
       "125                1                0                0  \n",
       "166                1                0                0  \n",
       "1                  1                0                0  \n",
       "199                1                0                0  \n",
       "\n",
       "[5 rows x 70 columns]"
      ]
     },
     "execution_count": 15,
     "metadata": {},
     "output_type": "execute_result"
    }
   ],
   "source": [
    "# Apply scaler() to all the columns except the 'yes-no' and 'dummy' variables\n",
    "num_vars = ['symboling', 'wheelbase', 'carlength', 'carwidth', 'carheight','curbweight','enginesize','boreratio','stroke','compressionratio','horsepower','peakrpm','citympg','highwaympg','price']\n",
    "\n",
    "df_train[num_vars] = scaler.fit_transform(df_train[num_vars])\n",
    "\n",
    "df_train.head()"
   ]
  },
  {
   "cell_type": "markdown",
   "metadata": {},
   "source": [
    "### Dividing into X and Y sets for the model building"
   ]
  },
  {
   "cell_type": "code",
   "execution_count": 16,
   "metadata": {},
   "outputs": [],
   "source": [
    "y_train = df_train.pop('price')\n",
    "X_train = df_train"
   ]
  },
  {
   "cell_type": "markdown",
   "metadata": {},
   "source": [
    "## Building our model\n",
    "\n",
    "This time, we will be using the **LinearRegression function from SciKit Learn** for its compatibility with RFE (which is a utility from sklearn)"
   ]
  },
  {
   "cell_type": "markdown",
   "metadata": {},
   "source": [
    "### RFE\n",
    "Recursive feature elimination"
   ]
  },
  {
   "cell_type": "code",
   "execution_count": 17,
   "metadata": {},
   "outputs": [],
   "source": [
    "# Importing RFE and LinearRegression\n",
    "from sklearn.feature_selection import RFE\n",
    "from sklearn.linear_model import LinearRegression"
   ]
  },
  {
   "cell_type": "code",
   "execution_count": 18,
   "metadata": {},
   "outputs": [],
   "source": [
    "# Running RFE with the output number of the variable equal to 10\n",
    "lm = LinearRegression()\n",
    "lm.fit(X_train, y_train)\n",
    "\n",
    "rfe = RFE(lm, 20)             # running RFE\n",
    "rfe = rfe.fit(X_train, y_train)"
   ]
  },
  {
   "cell_type": "code",
   "execution_count": 19,
   "metadata": {},
   "outputs": [
    {
     "data": {
      "text/plain": [
       "[('symboling', False, 34),\n",
       " ('wheelbase', False, 7),\n",
       " ('carlength', False, 11),\n",
       " ('carwidth', True, 1),\n",
       " ('carheight', False, 8),\n",
       " ('curbweight', True, 1),\n",
       " ('enginesize', True, 1),\n",
       " ('boreratio', True, 1),\n",
       " ('stroke', True, 1),\n",
       " ('compressionratio', False, 15),\n",
       " ('horsepower', False, 5),\n",
       " ('peakrpm', False, 6),\n",
       " ('citympg', False, 29),\n",
       " ('highwaympg', False, 16),\n",
       " ('CarName_audi', False, 27),\n",
       " ('CarName_bmw', True, 1),\n",
       " ('CarName_buick', False, 28),\n",
       " ('CarName_chevrolet', False, 13),\n",
       " ('CarName_dodge', False, 10),\n",
       " ('CarName_honda', False, 12)]"
      ]
     },
     "execution_count": 19,
     "metadata": {},
     "output_type": "execute_result"
    }
   ],
   "source": [
    "list(zip(X_train.columns,rfe.support_,rfe.ranking_))[0:20]"
   ]
  },
  {
   "cell_type": "code",
   "execution_count": 20,
   "metadata": {},
   "outputs": [
    {
     "data": {
      "text/plain": [
       "Index(['carwidth', 'curbweight', 'enginesize', 'boreratio', 'stroke',\n",
       "       'CarName_bmw', 'CarName_peugeot', 'CarName_porsche', 'CarName_saab',\n",
       "       'CarName_subaru', 'CarName_volvo', 'enginelocation_rear',\n",
       "       'enginetype_l', 'enginetype_ohcf', 'enginetype_rotor',\n",
       "       'cylindernumber_five', 'cylindernumber_four', 'cylindernumber_three',\n",
       "       'cylindernumber_twelve', 'cylindernumber_two'],\n",
       "      dtype='object')"
      ]
     },
     "execution_count": 20,
     "metadata": {},
     "output_type": "execute_result"
    }
   ],
   "source": [
    "col = X_train.columns[rfe.support_]\n",
    "col"
   ]
  },
  {
   "cell_type": "markdown",
   "metadata": {},
   "source": [
    "### Building model using statsmodel, for the detailed statistics"
   ]
  },
  {
   "cell_type": "code",
   "execution_count": 21,
   "metadata": {},
   "outputs": [],
   "source": [
    "# Creating X_test dataframe with RFE selected variables\n",
    "X_train_rfe = X_train[col]"
   ]
  },
  {
   "cell_type": "code",
   "execution_count": 22,
   "metadata": {},
   "outputs": [],
   "source": [
    "# Adding a constant variable \n",
    "import statsmodels.api as sm  \n",
    "X_train_rfe = sm.add_constant(X_train_rfe)"
   ]
  },
  {
   "cell_type": "code",
   "execution_count": 23,
   "metadata": {},
   "outputs": [],
   "source": [
    "lm = sm.OLS(y_train,X_train_rfe).fit()   # Running the linear model"
   ]
  },
  {
   "cell_type": "code",
   "execution_count": 24,
   "metadata": {},
   "outputs": [
    {
     "name": "stdout",
     "output_type": "stream",
     "text": [
      "                            OLS Regression Results                            \n",
      "==============================================================================\n",
      "Dep. Variable:                  price   R-squared:                       0.947\n",
      "Model:                            OLS   Adj. R-squared:                  0.939\n",
      "Method:                 Least Squares   F-statistic:                     130.5\n",
      "Date:                Sun, 27 Jan 2019   Prob (F-statistic):           6.19e-71\n",
      "Time:                        00:47:00   Log-Likelihood:                 226.54\n",
      "No. Observations:                 143   AIC:                            -417.1\n",
      "Df Residuals:                     125   BIC:                            -363.8\n",
      "Df Model:                          17                                         \n",
      "Covariance Type:            nonrobust                                         \n",
      "=========================================================================================\n",
      "                            coef    std err          t      P>|t|      [0.025      0.975]\n",
      "-----------------------------------------------------------------------------------------\n",
      "const                    -0.3017      0.040     -7.616      0.000      -0.380      -0.223\n",
      "carwidth                  0.2790      0.062      4.514      0.000       0.157       0.401\n",
      "curbweight                0.3011      0.075      4.040      0.000       0.154       0.449\n",
      "enginesize                1.5805      0.176      9.003      0.000       1.233       1.928\n",
      "boreratio                -0.4868      0.068     -7.149      0.000      -0.622      -0.352\n",
      "stroke                   -0.2484      0.047     -5.269      0.000      -0.342      -0.155\n",
      "CarName_bmw               0.3087      0.027     11.488      0.000       0.256       0.362\n",
      "CarName_peugeot          -0.1987      0.032     -6.217      0.000      -0.262      -0.135\n",
      "CarName_porsche           0.2533      0.049      5.173      0.000       0.156       0.350\n",
      "CarName_saab              0.1009      0.036      2.833      0.005       0.030       0.171\n",
      "CarName_subaru           -0.0604      0.033     -1.845      0.067      -0.125       0.004\n",
      "CarName_volvo             0.1111      0.030      3.741      0.000       0.052       0.170\n",
      "enginelocation_rear       0.1777      0.050      3.560      0.001       0.079       0.277\n",
      "enginetype_l              0.1491      0.026      5.753      0.000       0.098       0.200\n",
      "enginetype_ohcf           0.1174      0.025      4.631      0.000       0.067       0.168\n",
      "enginetype_rotor          0.3014      0.036      8.293      0.000       0.229       0.373\n",
      "cylindernumber_five       0.2198      0.035      6.280      0.000       0.151       0.289\n",
      "cylindernumber_four       0.2756      0.040      6.838      0.000       0.196       0.355\n",
      "cylindernumber_three      0.3478      0.050      6.926      0.000       0.248       0.447\n",
      "cylindernumber_twelve    -0.5489      0.097     -5.673      0.000      -0.740      -0.357\n",
      "cylindernumber_two        0.3014      0.036      8.293      0.000       0.229       0.373\n",
      "==============================================================================\n",
      "Omnibus:                       25.635   Durbin-Watson:                   1.844\n",
      "Prob(Omnibus):                  0.000   Jarque-Bera (JB):               49.867\n",
      "Skew:                           0.797   Prob(JB):                     1.48e-11\n",
      "Kurtosis:                       5.414   Cond. No.                     1.23e+17\n",
      "==============================================================================\n",
      "\n",
      "Warnings:\n",
      "[1] Standard Errors assume that the covariance matrix of the errors is correctly specified.\n",
      "[2] The smallest eigenvalue is 2.46e-32. This might indicate that there are\n",
      "strong multicollinearity problems or that the design matrix is singular.\n"
     ]
    }
   ],
   "source": [
    "#Let's see the summary of our linear model\n",
    "print(lm.summary())"
   ]
  },
  {
   "cell_type": "markdown",
   "metadata": {},
   "source": [
    "#### From above we know that `CarName_Subaro` is insignificant becuase of having p-value of 0.065 which is > 0.05"
   ]
  },
  {
   "cell_type": "code",
   "execution_count": 25,
   "metadata": {},
   "outputs": [],
   "source": [
    "X_train_new = X_train_rfe.drop([\"CarName_subaru\"], axis = 1)"
   ]
  },
  {
   "cell_type": "code",
   "execution_count": 26,
   "metadata": {},
   "outputs": [],
   "source": [
    "# Adding a constant variable \n",
    "import statsmodels.api as sm  \n",
    "X_train_lm = sm.add_constant(X_train_new)"
   ]
  },
  {
   "cell_type": "code",
   "execution_count": 27,
   "metadata": {},
   "outputs": [],
   "source": [
    "lm1 = sm.OLS(y_train,X_train_lm).fit()   # Running the linear model"
   ]
  },
  {
   "cell_type": "code",
   "execution_count": 28,
   "metadata": {},
   "outputs": [
    {
     "name": "stdout",
     "output_type": "stream",
     "text": [
      "                            OLS Regression Results                            \n",
      "==============================================================================\n",
      "Dep. Variable:                  price   R-squared:                       0.947\n",
      "Model:                            OLS   Adj. R-squared:                  0.939\n",
      "Method:                 Least Squares   F-statistic:                     130.5\n",
      "Date:                Sun, 27 Jan 2019   Prob (F-statistic):           6.19e-71\n",
      "Time:                        00:47:03   Log-Likelihood:                 226.54\n",
      "No. Observations:                 143   AIC:                            -417.1\n",
      "Df Residuals:                     125   BIC:                            -363.8\n",
      "Df Model:                          17                                         \n",
      "Covariance Type:            nonrobust                                         \n",
      "=========================================================================================\n",
      "                            coef    std err          t      P>|t|      [0.025      0.975]\n",
      "-----------------------------------------------------------------------------------------\n",
      "const                    -0.3017      0.040     -7.616      0.000      -0.380      -0.223\n",
      "carwidth                  0.2790      0.062      4.514      0.000       0.157       0.401\n",
      "curbweight                0.3011      0.075      4.040      0.000       0.154       0.449\n",
      "enginesize                1.5805      0.176      9.003      0.000       1.233       1.928\n",
      "boreratio                -0.4868      0.068     -7.149      0.000      -0.622      -0.352\n",
      "stroke                   -0.2484      0.047     -5.269      0.000      -0.342      -0.155\n",
      "CarName_bmw               0.3087      0.027     11.488      0.000       0.256       0.362\n",
      "CarName_peugeot          -0.1987      0.032     -6.217      0.000      -0.262      -0.135\n",
      "CarName_porsche           0.2533      0.049      5.173      0.000       0.156       0.350\n",
      "CarName_saab              0.1009      0.036      2.833      0.005       0.030       0.171\n",
      "CarName_volvo             0.1111      0.030      3.741      0.000       0.052       0.170\n",
      "enginelocation_rear       0.2381      0.081      2.957      0.004       0.079       0.397\n",
      "enginetype_l              0.1491      0.026      5.753      0.000       0.098       0.200\n",
      "enginetype_ohcf           0.0570      0.031      1.868      0.064      -0.003       0.117\n",
      "enginetype_rotor          0.3014      0.036      8.293      0.000       0.229       0.373\n",
      "cylindernumber_five       0.2198      0.035      6.280      0.000       0.151       0.289\n",
      "cylindernumber_four       0.2756      0.040      6.838      0.000       0.196       0.355\n",
      "cylindernumber_three      0.3478      0.050      6.926      0.000       0.248       0.447\n",
      "cylindernumber_twelve    -0.5489      0.097     -5.673      0.000      -0.740      -0.357\n",
      "cylindernumber_two        0.3014      0.036      8.293      0.000       0.229       0.373\n",
      "==============================================================================\n",
      "Omnibus:                       25.635   Durbin-Watson:                   1.844\n",
      "Prob(Omnibus):                  0.000   Jarque-Bera (JB):               49.867\n",
      "Skew:                           0.797   Prob(JB):                     1.48e-11\n",
      "Kurtosis:                       5.414   Cond. No.                     8.17e+16\n",
      "==============================================================================\n",
      "\n",
      "Warnings:\n",
      "[1] Standard Errors assume that the covariance matrix of the errors is correctly specified.\n",
      "[2] The smallest eigenvalue is 5.55e-32. This might indicate that there are\n",
      "strong multicollinearity problems or that the design matrix is singular.\n"
     ]
    }
   ],
   "source": [
    "#Let's see the summary of our linear model\n",
    "print(lm1.summary())"
   ]
  },
  {
   "cell_type": "markdown",
   "metadata": {},
   "source": [
    "#### We see that the statistics has not changed much but one of the catergories enginetype_ohcf has become insignificant. Lets remove this"
   ]
  },
  {
   "cell_type": "code",
   "execution_count": 29,
   "metadata": {},
   "outputs": [],
   "source": [
    "X_train_new1 = X_train_new.drop([\"enginetype_ohcf\"], axis = 1)"
   ]
  },
  {
   "cell_type": "code",
   "execution_count": 30,
   "metadata": {},
   "outputs": [],
   "source": [
    "# Adding a constant variable \n",
    "import statsmodels.api as sm  \n",
    "X_train_lm = sm.add_constant(X_train_new1)"
   ]
  },
  {
   "cell_type": "code",
   "execution_count": 31,
   "metadata": {},
   "outputs": [],
   "source": [
    "lm2 = sm.OLS(y_train,X_train_lm).fit()   # Running the linear model"
   ]
  },
  {
   "cell_type": "code",
   "execution_count": 32,
   "metadata": {},
   "outputs": [
    {
     "name": "stdout",
     "output_type": "stream",
     "text": [
      "                            OLS Regression Results                            \n",
      "==============================================================================\n",
      "Dep. Variable:                  price   R-squared:                       0.945\n",
      "Model:                            OLS   Adj. R-squared:                  0.938\n",
      "Method:                 Least Squares   F-statistic:                     135.8\n",
      "Date:                Sun, 27 Jan 2019   Prob (F-statistic):           2.89e-71\n",
      "Time:                        00:47:06   Log-Likelihood:                 224.57\n",
      "No. Observations:                 143   AIC:                            -415.1\n",
      "Df Residuals:                     126   BIC:                            -364.8\n",
      "Df Model:                          16                                         \n",
      "Covariance Type:            nonrobust                                         \n",
      "=========================================================================================\n",
      "                            coef    std err          t      P>|t|      [0.025      0.975]\n",
      "-----------------------------------------------------------------------------------------\n",
      "const                    -0.2706      0.036     -7.455      0.000      -0.342      -0.199\n",
      "carwidth                  0.2950      0.062      4.772      0.000       0.173       0.417\n",
      "curbweight                0.2985      0.075      3.966      0.000       0.150       0.447\n",
      "enginesize                1.4561      0.164      8.876      0.000       1.131       1.781\n",
      "boreratio                -0.4064      0.053     -7.625      0.000      -0.512      -0.301\n",
      "stroke                   -0.2777      0.045     -6.188      0.000      -0.367      -0.189\n",
      "CarName_bmw               0.2922      0.026     11.402      0.000       0.241       0.343\n",
      "CarName_peugeot          -0.2009      0.032     -6.227      0.000      -0.265      -0.137\n",
      "CarName_porsche           0.2118      0.044      4.806      0.000       0.125       0.299\n",
      "CarName_saab              0.0765      0.033      2.286      0.024       0.010       0.143\n",
      "CarName_volvo             0.0850      0.026      3.212      0.002       0.033       0.137\n",
      "enginelocation_rear       0.3058      0.073      4.212      0.000       0.162       0.449\n",
      "enginetype_l              0.1313      0.024      5.395      0.000       0.083       0.179\n",
      "enginetype_rotor          0.2726      0.033      8.202      0.000       0.207       0.338\n",
      "cylindernumber_five       0.1997      0.034      5.938      0.000       0.133       0.266\n",
      "cylindernumber_four       0.2483      0.038      6.546      0.000       0.173       0.323\n",
      "cylindernumber_three      0.3322      0.050      6.643      0.000       0.233       0.431\n",
      "cylindernumber_twelve    -0.5132      0.096     -5.358      0.000      -0.703      -0.324\n",
      "cylindernumber_two        0.2726      0.033      8.202      0.000       0.207       0.338\n",
      "==============================================================================\n",
      "Omnibus:                       22.837   Durbin-Watson:                   1.866\n",
      "Prob(Omnibus):                  0.000   Jarque-Bera (JB):               47.491\n",
      "Skew:                           0.682   Prob(JB):                     4.87e-11\n",
      "Kurtosis:                       5.472   Cond. No.                     1.01e+17\n",
      "==============================================================================\n",
      "\n",
      "Warnings:\n",
      "[1] Standard Errors assume that the covariance matrix of the errors is correctly specified.\n",
      "[2] The smallest eigenvalue is 3.61e-32. This might indicate that there are\n",
      "strong multicollinearity problems or that the design matrix is singular.\n"
     ]
    }
   ],
   "source": [
    "#Let's see the summary of our linear model\n",
    "print(lm2.summary())"
   ]
  },
  {
   "cell_type": "markdown",
   "metadata": {},
   "source": [
    "## Now lets check VIF to asses multicollinearity"
   ]
  },
  {
   "cell_type": "code",
   "execution_count": 33,
   "metadata": {},
   "outputs": [
    {
     "data": {
      "text/html": [
       "<div>\n",
       "<style scoped>\n",
       "    .dataframe tbody tr th:only-of-type {\n",
       "        vertical-align: middle;\n",
       "    }\n",
       "\n",
       "    .dataframe tbody tr th {\n",
       "        vertical-align: top;\n",
       "    }\n",
       "\n",
       "    .dataframe thead th {\n",
       "        text-align: right;\n",
       "    }\n",
       "</style>\n",
       "<table border=\"1\" class=\"dataframe\">\n",
       "  <thead>\n",
       "    <tr style=\"text-align: right;\">\n",
       "      <th></th>\n",
       "      <th>Features</th>\n",
       "      <th>VIF</th>\n",
       "    </tr>\n",
       "  </thead>\n",
       "  <tbody>\n",
       "    <tr>\n",
       "      <th>17</th>\n",
       "      <td>cylindernumber_two</td>\n",
       "      <td>inf</td>\n",
       "    </tr>\n",
       "    <tr>\n",
       "      <th>15</th>\n",
       "      <td>cylindernumber_three</td>\n",
       "      <td>inf</td>\n",
       "    </tr>\n",
       "    <tr>\n",
       "      <th>12</th>\n",
       "      <td>enginetype_rotor</td>\n",
       "      <td>inf</td>\n",
       "    </tr>\n",
       "    <tr>\n",
       "      <th>11</th>\n",
       "      <td>enginetype_l</td>\n",
       "      <td>inf</td>\n",
       "    </tr>\n",
       "    <tr>\n",
       "      <th>6</th>\n",
       "      <td>CarName_peugeot</td>\n",
       "      <td>inf</td>\n",
       "    </tr>\n",
       "    <tr>\n",
       "      <th>2</th>\n",
       "      <td>enginesize</td>\n",
       "      <td>97.010000</td>\n",
       "    </tr>\n",
       "    <tr>\n",
       "      <th>1</th>\n",
       "      <td>curbweight</td>\n",
       "      <td>59.180000</td>\n",
       "    </tr>\n",
       "    <tr>\n",
       "      <th>0</th>\n",
       "      <td>carwidth</td>\n",
       "      <td>43.710000</td>\n",
       "    </tr>\n",
       "    <tr>\n",
       "      <th>3</th>\n",
       "      <td>boreratio</td>\n",
       "      <td>37.470000</td>\n",
       "    </tr>\n",
       "    <tr>\n",
       "      <th>4</th>\n",
       "      <td>stroke</td>\n",
       "      <td>31.180000</td>\n",
       "    </tr>\n",
       "    <tr>\n",
       "      <th>14</th>\n",
       "      <td>cylindernumber_four</td>\n",
       "      <td>26.440000</td>\n",
       "    </tr>\n",
       "    <tr>\n",
       "      <th>13</th>\n",
       "      <td>cylindernumber_five</td>\n",
       "      <td>3.140000</td>\n",
       "    </tr>\n",
       "    <tr>\n",
       "      <th>16</th>\n",
       "      <td>cylindernumber_twelve</td>\n",
       "      <td>2.950000</td>\n",
       "    </tr>\n",
       "    <tr>\n",
       "      <th>7</th>\n",
       "      <td>CarName_porsche</td>\n",
       "      <td>2.030000</td>\n",
       "    </tr>\n",
       "    <tr>\n",
       "      <th>10</th>\n",
       "      <td>enginelocation_rear</td>\n",
       "      <td>1.760000</td>\n",
       "    </tr>\n",
       "    <tr>\n",
       "      <th>9</th>\n",
       "      <td>CarName_volvo</td>\n",
       "      <td>1.460000</td>\n",
       "    </tr>\n",
       "    <tr>\n",
       "      <th>5</th>\n",
       "      <td>CarName_bmw</td>\n",
       "      <td>1.240000</td>\n",
       "    </tr>\n",
       "    <tr>\n",
       "      <th>8</th>\n",
       "      <td>CarName_saab</td>\n",
       "      <td>1.160000</td>\n",
       "    </tr>\n",
       "  </tbody>\n",
       "</table>\n",
       "</div>"
      ],
      "text/plain": [
       "                 Features        VIF\n",
       "17     cylindernumber_two        inf\n",
       "15   cylindernumber_three        inf\n",
       "12       enginetype_rotor        inf\n",
       "11           enginetype_l        inf\n",
       "6         CarName_peugeot        inf\n",
       "2              enginesize  97.010000\n",
       "1              curbweight  59.180000\n",
       "0                carwidth  43.710000\n",
       "3               boreratio  37.470000\n",
       "4                  stroke  31.180000\n",
       "14    cylindernumber_four  26.440000\n",
       "13    cylindernumber_five   3.140000\n",
       "16  cylindernumber_twelve   2.950000\n",
       "7         CarName_porsche   2.030000\n",
       "10    enginelocation_rear   1.760000\n",
       "9           CarName_volvo   1.460000\n",
       "5             CarName_bmw   1.240000\n",
       "8            CarName_saab   1.160000"
      ]
     },
     "execution_count": 33,
     "metadata": {},
     "output_type": "execute_result"
    }
   ],
   "source": [
    "# Calculate the VIFs for the new model\n",
    "from statsmodels.stats.outliers_influence import variance_inflation_factor\n",
    "\n",
    "vif = pd.DataFrame()\n",
    "X = X_train_new1\n",
    "X = X.drop(['const'], axis=1)\n",
    "vif['Features'] = X.columns\n",
    "vif['VIF'] = [variance_inflation_factor(X.values, i) for i in range(X.shape[1])]\n",
    "vif['VIF'] = round(vif['VIF'], 2)\n",
    "vif = vif.sort_values(by = \"VIF\", ascending = False)\n",
    "vif"
   ]
  },
  {
   "cell_type": "markdown",
   "metadata": {},
   "source": [
    "### Lets remove cylindernumber_two as the VIF is infinity for this. Which would mean that we are overfitting the model"
   ]
  },
  {
   "cell_type": "code",
   "execution_count": 34,
   "metadata": {},
   "outputs": [],
   "source": [
    "X_train_new2 = X_train_new1.drop([\"cylindernumber_two\"], axis = 1)"
   ]
  },
  {
   "cell_type": "code",
   "execution_count": 35,
   "metadata": {},
   "outputs": [],
   "source": [
    "# Adding a constant variable \n",
    "import statsmodels.api as sm  \n",
    "X_train_lm = sm.add_constant(X_train_new2)"
   ]
  },
  {
   "cell_type": "code",
   "execution_count": 36,
   "metadata": {},
   "outputs": [],
   "source": [
    "lm3 = sm.OLS(y_train,X_train_lm).fit()   # Running the linear model"
   ]
  },
  {
   "cell_type": "code",
   "execution_count": 37,
   "metadata": {},
   "outputs": [
    {
     "name": "stdout",
     "output_type": "stream",
     "text": [
      "                            OLS Regression Results                            \n",
      "==============================================================================\n",
      "Dep. Variable:                  price   R-squared:                       0.945\n",
      "Model:                            OLS   Adj. R-squared:                  0.938\n",
      "Method:                 Least Squares   F-statistic:                     135.8\n",
      "Date:                Sun, 27 Jan 2019   Prob (F-statistic):           2.89e-71\n",
      "Time:                        00:47:09   Log-Likelihood:                 224.57\n",
      "No. Observations:                 143   AIC:                            -415.1\n",
      "Df Residuals:                     126   BIC:                            -364.8\n",
      "Df Model:                          16                                         \n",
      "Covariance Type:            nonrobust                                         \n",
      "=========================================================================================\n",
      "                            coef    std err          t      P>|t|      [0.025      0.975]\n",
      "-----------------------------------------------------------------------------------------\n",
      "const                    -0.2706      0.036     -7.455      0.000      -0.342      -0.199\n",
      "carwidth                  0.2950      0.062      4.772      0.000       0.173       0.417\n",
      "curbweight                0.2985      0.075      3.966      0.000       0.150       0.447\n",
      "enginesize                1.4561      0.164      8.876      0.000       1.131       1.781\n",
      "boreratio                -0.4064      0.053     -7.625      0.000      -0.512      -0.301\n",
      "stroke                   -0.2777      0.045     -6.188      0.000      -0.367      -0.189\n",
      "CarName_bmw               0.2922      0.026     11.402      0.000       0.241       0.343\n",
      "CarName_peugeot          -0.2009      0.032     -6.227      0.000      -0.265      -0.137\n",
      "CarName_porsche           0.2118      0.044      4.806      0.000       0.125       0.299\n",
      "CarName_saab              0.0765      0.033      2.286      0.024       0.010       0.143\n",
      "CarName_volvo             0.0850      0.026      3.212      0.002       0.033       0.137\n",
      "enginelocation_rear       0.3058      0.073      4.212      0.000       0.162       0.449\n",
      "enginetype_l              0.1313      0.024      5.395      0.000       0.083       0.179\n",
      "enginetype_rotor          0.5451      0.066      8.202      0.000       0.414       0.677\n",
      "cylindernumber_five       0.1997      0.034      5.938      0.000       0.133       0.266\n",
      "cylindernumber_four       0.2483      0.038      6.546      0.000       0.173       0.323\n",
      "cylindernumber_three      0.3322      0.050      6.643      0.000       0.233       0.431\n",
      "cylindernumber_twelve    -0.5132      0.096     -5.358      0.000      -0.703      -0.324\n",
      "==============================================================================\n",
      "Omnibus:                       22.837   Durbin-Watson:                   1.866\n",
      "Prob(Omnibus):                  0.000   Jarque-Bera (JB):               47.491\n",
      "Skew:                           0.682   Prob(JB):                     4.87e-11\n",
      "Kurtosis:                       5.472   Cond. No.                     5.72e+16\n",
      "==============================================================================\n",
      "\n",
      "Warnings:\n",
      "[1] Standard Errors assume that the covariance matrix of the errors is correctly specified.\n",
      "[2] The smallest eigenvalue is 1.13e-31. This might indicate that there are\n",
      "strong multicollinearity problems or that the design matrix is singular.\n"
     ]
    }
   ],
   "source": [
    "#Let's see the summary of our linear model\n",
    "print(lm3.summary())"
   ]
  },
  {
   "cell_type": "code",
   "execution_count": 38,
   "metadata": {},
   "outputs": [
    {
     "data": {
      "text/html": [
       "<div>\n",
       "<style scoped>\n",
       "    .dataframe tbody tr th:only-of-type {\n",
       "        vertical-align: middle;\n",
       "    }\n",
       "\n",
       "    .dataframe tbody tr th {\n",
       "        vertical-align: top;\n",
       "    }\n",
       "\n",
       "    .dataframe thead th {\n",
       "        text-align: right;\n",
       "    }\n",
       "</style>\n",
       "<table border=\"1\" class=\"dataframe\">\n",
       "  <thead>\n",
       "    <tr style=\"text-align: right;\">\n",
       "      <th></th>\n",
       "      <th>Features</th>\n",
       "      <th>VIF</th>\n",
       "    </tr>\n",
       "  </thead>\n",
       "  <tbody>\n",
       "    <tr>\n",
       "      <th>11</th>\n",
       "      <td>enginetype_l</td>\n",
       "      <td>inf</td>\n",
       "    </tr>\n",
       "    <tr>\n",
       "      <th>15</th>\n",
       "      <td>cylindernumber_three</td>\n",
       "      <td>inf</td>\n",
       "    </tr>\n",
       "    <tr>\n",
       "      <th>6</th>\n",
       "      <td>CarName_peugeot</td>\n",
       "      <td>inf</td>\n",
       "    </tr>\n",
       "    <tr>\n",
       "      <th>2</th>\n",
       "      <td>enginesize</td>\n",
       "      <td>97.010000</td>\n",
       "    </tr>\n",
       "    <tr>\n",
       "      <th>1</th>\n",
       "      <td>curbweight</td>\n",
       "      <td>59.180000</td>\n",
       "    </tr>\n",
       "    <tr>\n",
       "      <th>0</th>\n",
       "      <td>carwidth</td>\n",
       "      <td>43.710000</td>\n",
       "    </tr>\n",
       "    <tr>\n",
       "      <th>3</th>\n",
       "      <td>boreratio</td>\n",
       "      <td>37.470000</td>\n",
       "    </tr>\n",
       "    <tr>\n",
       "      <th>4</th>\n",
       "      <td>stroke</td>\n",
       "      <td>31.180000</td>\n",
       "    </tr>\n",
       "    <tr>\n",
       "      <th>14</th>\n",
       "      <td>cylindernumber_four</td>\n",
       "      <td>26.440000</td>\n",
       "    </tr>\n",
       "    <tr>\n",
       "      <th>12</th>\n",
       "      <td>enginetype_rotor</td>\n",
       "      <td>4.550000</td>\n",
       "    </tr>\n",
       "    <tr>\n",
       "      <th>13</th>\n",
       "      <td>cylindernumber_five</td>\n",
       "      <td>3.140000</td>\n",
       "    </tr>\n",
       "    <tr>\n",
       "      <th>16</th>\n",
       "      <td>cylindernumber_twelve</td>\n",
       "      <td>2.950000</td>\n",
       "    </tr>\n",
       "    <tr>\n",
       "      <th>7</th>\n",
       "      <td>CarName_porsche</td>\n",
       "      <td>2.030000</td>\n",
       "    </tr>\n",
       "    <tr>\n",
       "      <th>10</th>\n",
       "      <td>enginelocation_rear</td>\n",
       "      <td>1.760000</td>\n",
       "    </tr>\n",
       "    <tr>\n",
       "      <th>9</th>\n",
       "      <td>CarName_volvo</td>\n",
       "      <td>1.460000</td>\n",
       "    </tr>\n",
       "    <tr>\n",
       "      <th>5</th>\n",
       "      <td>CarName_bmw</td>\n",
       "      <td>1.240000</td>\n",
       "    </tr>\n",
       "    <tr>\n",
       "      <th>8</th>\n",
       "      <td>CarName_saab</td>\n",
       "      <td>1.160000</td>\n",
       "    </tr>\n",
       "  </tbody>\n",
       "</table>\n",
       "</div>"
      ],
      "text/plain": [
       "                 Features        VIF\n",
       "11           enginetype_l        inf\n",
       "15   cylindernumber_three        inf\n",
       "6         CarName_peugeot        inf\n",
       "2              enginesize  97.010000\n",
       "1              curbweight  59.180000\n",
       "0                carwidth  43.710000\n",
       "3               boreratio  37.470000\n",
       "4                  stroke  31.180000\n",
       "14    cylindernumber_four  26.440000\n",
       "12       enginetype_rotor   4.550000\n",
       "13    cylindernumber_five   3.140000\n",
       "16  cylindernumber_twelve   2.950000\n",
       "7         CarName_porsche   2.030000\n",
       "10    enginelocation_rear   1.760000\n",
       "9           CarName_volvo   1.460000\n",
       "5             CarName_bmw   1.240000\n",
       "8            CarName_saab   1.160000"
      ]
     },
     "execution_count": 38,
     "metadata": {},
     "output_type": "execute_result"
    }
   ],
   "source": [
    "# Calculating VIF again\n",
    "\n",
    "vif = pd.DataFrame()\n",
    "X = X_train_new2\n",
    "X = X.drop(['const'], axis=1)\n",
    "vif['Features'] = X.columns\n",
    "vif['VIF'] = [variance_inflation_factor(X.values, i) for i in range(X.shape[1])]\n",
    "vif['VIF'] = round(vif['VIF'], 2)\n",
    "vif = vif.sort_values(by = \"VIF\", ascending = False)\n",
    "vif"
   ]
  },
  {
   "cell_type": "markdown",
   "metadata": {},
   "source": [
    "#### Removing \"enginetype_l\" because multicollinearity still exists"
   ]
  },
  {
   "cell_type": "code",
   "execution_count": 39,
   "metadata": {},
   "outputs": [],
   "source": [
    "X_train_new3 = X_train_new2.drop([\"enginetype_l\"], axis = 1)"
   ]
  },
  {
   "cell_type": "code",
   "execution_count": 40,
   "metadata": {},
   "outputs": [],
   "source": [
    "# Adding a constant variable \n",
    "X_train_lm = sm.add_constant(X_train_new3)"
   ]
  },
  {
   "cell_type": "code",
   "execution_count": 41,
   "metadata": {},
   "outputs": [],
   "source": [
    "lm4 = sm.OLS(y_train,X_train_lm).fit()   # Running the linear model"
   ]
  },
  {
   "cell_type": "code",
   "execution_count": 42,
   "metadata": {},
   "outputs": [
    {
     "name": "stdout",
     "output_type": "stream",
     "text": [
      "                            OLS Regression Results                            \n",
      "==============================================================================\n",
      "Dep. Variable:                  price   R-squared:                       0.945\n",
      "Model:                            OLS   Adj. R-squared:                  0.938\n",
      "Method:                 Least Squares   F-statistic:                     135.8\n",
      "Date:                Sun, 27 Jan 2019   Prob (F-statistic):           2.89e-71\n",
      "Time:                        00:47:13   Log-Likelihood:                 224.57\n",
      "No. Observations:                 143   AIC:                            -415.1\n",
      "Df Residuals:                     126   BIC:                            -364.8\n",
      "Df Model:                          16                                         \n",
      "Covariance Type:            nonrobust                                         \n",
      "=========================================================================================\n",
      "                            coef    std err          t      P>|t|      [0.025      0.975]\n",
      "-----------------------------------------------------------------------------------------\n",
      "const                    -0.2706      0.036     -7.455      0.000      -0.342      -0.199\n",
      "carwidth                  0.2950      0.062      4.772      0.000       0.173       0.417\n",
      "curbweight                0.2985      0.075      3.966      0.000       0.150       0.447\n",
      "enginesize                1.4561      0.164      8.876      0.000       1.131       1.781\n",
      "boreratio                -0.4064      0.053     -7.625      0.000      -0.512      -0.301\n",
      "stroke                   -0.2777      0.045     -6.188      0.000      -0.367      -0.189\n",
      "CarName_bmw               0.2922      0.026     11.402      0.000       0.241       0.343\n",
      "CarName_peugeot          -0.0696      0.028     -2.515      0.013      -0.124      -0.015\n",
      "CarName_porsche           0.2118      0.044      4.806      0.000       0.125       0.299\n",
      "CarName_saab              0.0765      0.033      2.286      0.024       0.010       0.143\n",
      "CarName_volvo             0.0850      0.026      3.212      0.002       0.033       0.137\n",
      "enginelocation_rear       0.3058      0.073      4.212      0.000       0.162       0.449\n",
      "enginetype_rotor          0.5451      0.066      8.202      0.000       0.414       0.677\n",
      "cylindernumber_five       0.1997      0.034      5.938      0.000       0.133       0.266\n",
      "cylindernumber_four       0.2483      0.038      6.546      0.000       0.173       0.323\n",
      "cylindernumber_three      0.4635      0.072      6.461      0.000       0.322       0.605\n",
      "cylindernumber_twelve    -0.5132      0.096     -5.358      0.000      -0.703      -0.324\n",
      "==============================================================================\n",
      "Omnibus:                       22.837   Durbin-Watson:                   1.866\n",
      "Prob(Omnibus):                  0.000   Jarque-Bera (JB):               47.491\n",
      "Skew:                           0.682   Prob(JB):                     4.87e-11\n",
      "Kurtosis:                       5.472   Cond. No.                         74.4\n",
      "==============================================================================\n",
      "\n",
      "Warnings:\n",
      "[1] Standard Errors assume that the covariance matrix of the errors is correctly specified.\n"
     ]
    }
   ],
   "source": [
    "#Let's see the summary of our linear model\n",
    "print(lm4.summary())"
   ]
  },
  {
   "cell_type": "code",
   "execution_count": 43,
   "metadata": {},
   "outputs": [
    {
     "data": {
      "text/html": [
       "<div>\n",
       "<style scoped>\n",
       "    .dataframe tbody tr th:only-of-type {\n",
       "        vertical-align: middle;\n",
       "    }\n",
       "\n",
       "    .dataframe tbody tr th {\n",
       "        vertical-align: top;\n",
       "    }\n",
       "\n",
       "    .dataframe thead th {\n",
       "        text-align: right;\n",
       "    }\n",
       "</style>\n",
       "<table border=\"1\" class=\"dataframe\">\n",
       "  <thead>\n",
       "    <tr style=\"text-align: right;\">\n",
       "      <th></th>\n",
       "      <th>Features</th>\n",
       "      <th>VIF</th>\n",
       "    </tr>\n",
       "  </thead>\n",
       "  <tbody>\n",
       "    <tr>\n",
       "      <th>2</th>\n",
       "      <td>enginesize</td>\n",
       "      <td>97.01</td>\n",
       "    </tr>\n",
       "    <tr>\n",
       "      <th>1</th>\n",
       "      <td>curbweight</td>\n",
       "      <td>59.18</td>\n",
       "    </tr>\n",
       "    <tr>\n",
       "      <th>0</th>\n",
       "      <td>carwidth</td>\n",
       "      <td>43.71</td>\n",
       "    </tr>\n",
       "    <tr>\n",
       "      <th>3</th>\n",
       "      <td>boreratio</td>\n",
       "      <td>37.47</td>\n",
       "    </tr>\n",
       "    <tr>\n",
       "      <th>4</th>\n",
       "      <td>stroke</td>\n",
       "      <td>31.18</td>\n",
       "    </tr>\n",
       "    <tr>\n",
       "      <th>13</th>\n",
       "      <td>cylindernumber_four</td>\n",
       "      <td>26.44</td>\n",
       "    </tr>\n",
       "    <tr>\n",
       "      <th>11</th>\n",
       "      <td>enginetype_rotor</td>\n",
       "      <td>4.55</td>\n",
       "    </tr>\n",
       "    <tr>\n",
       "      <th>12</th>\n",
       "      <td>cylindernumber_five</td>\n",
       "      <td>3.14</td>\n",
       "    </tr>\n",
       "    <tr>\n",
       "      <th>15</th>\n",
       "      <td>cylindernumber_twelve</td>\n",
       "      <td>2.95</td>\n",
       "    </tr>\n",
       "    <tr>\n",
       "      <th>7</th>\n",
       "      <td>CarName_porsche</td>\n",
       "      <td>2.03</td>\n",
       "    </tr>\n",
       "    <tr>\n",
       "      <th>6</th>\n",
       "      <td>CarName_peugeot</td>\n",
       "      <td>1.93</td>\n",
       "    </tr>\n",
       "    <tr>\n",
       "      <th>10</th>\n",
       "      <td>enginelocation_rear</td>\n",
       "      <td>1.76</td>\n",
       "    </tr>\n",
       "    <tr>\n",
       "      <th>9</th>\n",
       "      <td>CarName_volvo</td>\n",
       "      <td>1.46</td>\n",
       "    </tr>\n",
       "    <tr>\n",
       "      <th>5</th>\n",
       "      <td>CarName_bmw</td>\n",
       "      <td>1.24</td>\n",
       "    </tr>\n",
       "    <tr>\n",
       "      <th>14</th>\n",
       "      <td>cylindernumber_three</td>\n",
       "      <td>1.24</td>\n",
       "    </tr>\n",
       "    <tr>\n",
       "      <th>8</th>\n",
       "      <td>CarName_saab</td>\n",
       "      <td>1.16</td>\n",
       "    </tr>\n",
       "  </tbody>\n",
       "</table>\n",
       "</div>"
      ],
      "text/plain": [
       "                 Features    VIF\n",
       "2              enginesize  97.01\n",
       "1              curbweight  59.18\n",
       "0                carwidth  43.71\n",
       "3               boreratio  37.47\n",
       "4                  stroke  31.18\n",
       "13    cylindernumber_four  26.44\n",
       "11       enginetype_rotor   4.55\n",
       "12    cylindernumber_five   3.14\n",
       "15  cylindernumber_twelve   2.95\n",
       "7         CarName_porsche   2.03\n",
       "6         CarName_peugeot   1.93\n",
       "10    enginelocation_rear   1.76\n",
       "9           CarName_volvo   1.46\n",
       "5             CarName_bmw   1.24\n",
       "14   cylindernumber_three   1.24\n",
       "8            CarName_saab   1.16"
      ]
     },
     "execution_count": 43,
     "metadata": {},
     "output_type": "execute_result"
    }
   ],
   "source": [
    "# Calculating VIF again\n",
    "\n",
    "vif = pd.DataFrame()\n",
    "X = X_train_new3\n",
    "X = X.drop(['const'], axis=1)\n",
    "vif['Features'] = X.columns\n",
    "vif['VIF'] = [variance_inflation_factor(X.values, i) for i in range(X.shape[1])]\n",
    "vif['VIF'] = round(vif['VIF'], 2)\n",
    "vif = vif.sort_values(by = \"VIF\", ascending = False)\n",
    "vif"
   ]
  },
  {
   "cell_type": "markdown",
   "metadata": {},
   "source": [
    "### Lets remove `enginesize` as it can be explained by other factors"
   ]
  },
  {
   "cell_type": "code",
   "execution_count": 44,
   "metadata": {},
   "outputs": [],
   "source": [
    "X_train_new4 = X_train_new3.drop([\"enginesize\"], axis = 1)"
   ]
  },
  {
   "cell_type": "code",
   "execution_count": 45,
   "metadata": {},
   "outputs": [],
   "source": [
    "# Adding a constant variable \n",
    "X_train_lm = sm.add_constant(X_train_new4)"
   ]
  },
  {
   "cell_type": "code",
   "execution_count": 46,
   "metadata": {},
   "outputs": [],
   "source": [
    "lm5 = sm.OLS(y_train,X_train_lm).fit()   # Running the linear model"
   ]
  },
  {
   "cell_type": "code",
   "execution_count": 47,
   "metadata": {},
   "outputs": [
    {
     "name": "stdout",
     "output_type": "stream",
     "text": [
      "                            OLS Regression Results                            \n",
      "==============================================================================\n",
      "Dep. Variable:                  price   R-squared:                       0.911\n",
      "Model:                            OLS   Adj. R-squared:                  0.900\n",
      "Method:                 Least Squares   F-statistic:                     86.57\n",
      "Date:                Sun, 27 Jan 2019   Prob (F-statistic):           4.59e-59\n",
      "Time:                        00:47:16   Log-Likelihood:                 189.84\n",
      "No. Observations:                 143   AIC:                            -347.7\n",
      "Df Residuals:                     127   BIC:                            -300.3\n",
      "Df Model:                          15                                         \n",
      "Covariance Type:            nonrobust                                         \n",
      "=========================================================================================\n",
      "                            coef    std err          t      P>|t|      [0.025      0.975]\n",
      "-----------------------------------------------------------------------------------------\n",
      "const                    -0.1607      0.043     -3.709      0.000      -0.246      -0.075\n",
      "carwidth                  0.3733      0.078      4.804      0.000       0.220       0.527\n",
      "curbweight                0.6350      0.083      7.693      0.000       0.472       0.798\n",
      "boreratio                -0.0905      0.050     -1.796      0.075      -0.190       0.009\n",
      "stroke                   -0.0250      0.044     -0.566      0.572      -0.112       0.062\n",
      "CarName_bmw               0.2675      0.032      8.269      0.000       0.203       0.332\n",
      "CarName_peugeot          -0.1453      0.033     -4.348      0.000      -0.211      -0.079\n",
      "CarName_porsche           0.1620      0.056      2.918      0.004       0.052       0.272\n",
      "CarName_saab              0.0188      0.042      0.451      0.653      -0.064       0.101\n",
      "CarName_volvo             0.0035      0.032      0.111      0.912      -0.059       0.066\n",
      "enginelocation_rear       0.4239      0.091      4.677      0.000       0.245       0.603\n",
      "enginetype_rotor          0.0437      0.044      0.983      0.328      -0.044       0.132\n",
      "cylindernumber_five      -0.0099      0.030     -0.325      0.746      -0.070       0.050\n",
      "cylindernumber_four      -0.0080      0.031     -0.257      0.798      -0.070       0.054\n",
      "cylindernumber_three      0.1887      0.082      2.296      0.023       0.026       0.351\n",
      "cylindernumber_twelve     0.1559      0.075      2.078      0.040       0.007       0.304\n",
      "==============================================================================\n",
      "Omnibus:                       22.459   Durbin-Watson:                   2.034\n",
      "Prob(Omnibus):                  0.000   Jarque-Bera (JB):               47.476\n",
      "Skew:                           0.663   Prob(JB):                     4.91e-11\n",
      "Kurtosis:                       5.492   Cond. No.                         32.1\n",
      "==============================================================================\n",
      "\n",
      "Warnings:\n",
      "[1] Standard Errors assume that the covariance matrix of the errors is correctly specified.\n"
     ]
    }
   ],
   "source": [
    "#Let's see the summary of our linear model\n",
    "print(lm5.summary())"
   ]
  },
  {
   "cell_type": "markdown",
   "metadata": {},
   "source": [
    "### We see that `CarName_volvo` has become insignificant. Lets remove that"
   ]
  },
  {
   "cell_type": "code",
   "execution_count": 48,
   "metadata": {},
   "outputs": [],
   "source": [
    "X_train_new5 = X_train_new4.drop([\"CarName_volvo\"], axis = 1)"
   ]
  },
  {
   "cell_type": "code",
   "execution_count": 49,
   "metadata": {},
   "outputs": [],
   "source": [
    "# Adding a constant variable \n",
    "X_train_lm = sm.add_constant(X_train_new5)"
   ]
  },
  {
   "cell_type": "code",
   "execution_count": 50,
   "metadata": {},
   "outputs": [],
   "source": [
    "lm6 = sm.OLS(y_train,X_train_lm).fit()   # Running the linear model"
   ]
  },
  {
   "cell_type": "code",
   "execution_count": 51,
   "metadata": {},
   "outputs": [
    {
     "name": "stdout",
     "output_type": "stream",
     "text": [
      "                            OLS Regression Results                            \n",
      "==============================================================================\n",
      "Dep. Variable:                  price   R-squared:                       0.911\n",
      "Model:                            OLS   Adj. R-squared:                  0.901\n",
      "Method:                 Least Squares   F-statistic:                     93.47\n",
      "Date:                Sun, 27 Jan 2019   Prob (F-statistic):           4.68e-60\n",
      "Time:                        00:47:19   Log-Likelihood:                 189.84\n",
      "No. Observations:                 143   AIC:                            -349.7\n",
      "Df Residuals:                     128   BIC:                            -305.2\n",
      "Df Model:                          14                                         \n",
      "Covariance Type:            nonrobust                                         \n",
      "=========================================================================================\n",
      "                            coef    std err          t      P>|t|      [0.025      0.975]\n",
      "-----------------------------------------------------------------------------------------\n",
      "const                    -0.1614      0.043     -3.786      0.000      -0.246      -0.077\n",
      "carwidth                  0.3750      0.076      4.946      0.000       0.225       0.525\n",
      "curbweight                0.6358      0.082      7.758      0.000       0.474       0.798\n",
      "boreratio                -0.0904      0.050     -1.801      0.074      -0.190       0.009\n",
      "stroke                   -0.0258      0.043     -0.596      0.552      -0.111       0.060\n",
      "CarName_bmw               0.2672      0.032      8.323      0.000       0.204       0.331\n",
      "CarName_peugeot          -0.1463      0.032     -4.557      0.000      -0.210      -0.083\n",
      "CarName_porsche           0.1609      0.054      2.956      0.004       0.053       0.269\n",
      "CarName_saab              0.0181      0.041      0.441      0.660      -0.063       0.100\n",
      "enginelocation_rear       0.4249      0.090      4.729      0.000       0.247       0.603\n",
      "enginetype_rotor          0.0438      0.044      0.989      0.325      -0.044       0.131\n",
      "cylindernumber_five      -0.0104      0.030     -0.347      0.729      -0.070       0.049\n",
      "cylindernumber_four      -0.0076      0.031     -0.246      0.806      -0.069       0.054\n",
      "cylindernumber_three      0.1898      0.081      2.335      0.021       0.029       0.351\n",
      "cylindernumber_twelve     0.1546      0.074      2.094      0.038       0.009       0.301\n",
      "==============================================================================\n",
      "Omnibus:                       22.127   Durbin-Watson:                   2.031\n",
      "Prob(Omnibus):                  0.000   Jarque-Bera (JB):               46.535\n",
      "Skew:                           0.655   Prob(JB):                     7.85e-11\n",
      "Kurtosis:                       5.469   Cond. No.                         31.3\n",
      "==============================================================================\n",
      "\n",
      "Warnings:\n",
      "[1] Standard Errors assume that the covariance matrix of the errors is correctly specified.\n"
     ]
    }
   ],
   "source": [
    "#Let's see the summary of our linear model\n",
    "print(lm6.summary())"
   ]
  },
  {
   "cell_type": "markdown",
   "metadata": {},
   "source": [
    "#### Lets remove `cylindernumber_four`"
   ]
  },
  {
   "cell_type": "code",
   "execution_count": 52,
   "metadata": {},
   "outputs": [
    {
     "name": "stdout",
     "output_type": "stream",
     "text": [
      "                            OLS Regression Results                            \n",
      "==============================================================================\n",
      "Dep. Variable:                  price   R-squared:                       0.911\n",
      "Model:                            OLS   Adj. R-squared:                  0.902\n",
      "Method:                 Least Squares   F-statistic:                     101.4\n",
      "Date:                Sun, 27 Jan 2019   Prob (F-statistic):           4.69e-61\n",
      "Time:                        00:47:20   Log-Likelihood:                 189.80\n",
      "No. Observations:                 143   AIC:                            -351.6\n",
      "Df Residuals:                     129   BIC:                            -310.1\n",
      "Df Model:                          13                                         \n",
      "Covariance Type:            nonrobust                                         \n",
      "=========================================================================================\n",
      "                            coef    std err          t      P>|t|      [0.025      0.975]\n",
      "-----------------------------------------------------------------------------------------\n",
      "const                    -0.1691      0.029     -5.834      0.000      -0.226      -0.112\n",
      "carwidth                  0.3779      0.075      5.065      0.000       0.230       0.526\n",
      "curbweight                0.6484      0.064     10.201      0.000       0.523       0.774\n",
      "boreratio                -0.0971      0.042     -2.325      0.022      -0.180      -0.014\n",
      "stroke                   -0.0285      0.042     -0.684      0.495      -0.111       0.054\n",
      "CarName_bmw               0.2703      0.029      9.168      0.000       0.212       0.329\n",
      "CarName_peugeot          -0.1504      0.027     -5.495      0.000      -0.205      -0.096\n",
      "CarName_porsche           0.1626      0.054      3.022      0.003       0.056       0.269\n",
      "CarName_saab              0.0163      0.040      0.405      0.686      -0.063       0.096\n",
      "enginelocation_rear       0.4301      0.087      4.948      0.000       0.258       0.602\n",
      "enginetype_rotor          0.0506      0.035      1.463      0.146      -0.018       0.119\n",
      "cylindernumber_five      -0.0077      0.028     -0.278      0.781      -0.063       0.047\n",
      "cylindernumber_three      0.1998      0.070      2.855      0.005       0.061       0.338\n",
      "cylindernumber_twelve     0.1531      0.073      2.089      0.039       0.008       0.298\n",
      "==============================================================================\n",
      "Omnibus:                       22.116   Durbin-Watson:                   2.023\n",
      "Prob(Omnibus):                  0.000   Jarque-Bera (JB):               47.241\n",
      "Skew:                           0.648   Prob(JB):                     5.52e-11\n",
      "Kurtosis:                       5.500   Cond. No.                         26.7\n",
      "==============================================================================\n",
      "\n",
      "Warnings:\n",
      "[1] Standard Errors assume that the covariance matrix of the errors is correctly specified.\n"
     ]
    }
   ],
   "source": [
    "X_train_new6 = X_train_new5.drop([\"cylindernumber_four\"], axis = 1)\n",
    "\n",
    "# Adding a constant variable \n",
    "X_train_lm = sm.add_constant(X_train_new6)\n",
    "\n",
    "lm7 = sm.OLS(y_train,X_train_lm).fit()   # Running the linear model\n",
    "\n",
    "#Let's see the summary of our linear model\n",
    "print(lm7.summary())"
   ]
  },
  {
   "cell_type": "markdown",
   "metadata": {},
   "source": [
    "#### Lets remove `cylindernumber_five`"
   ]
  },
  {
   "cell_type": "code",
   "execution_count": 53,
   "metadata": {},
   "outputs": [
    {
     "name": "stdout",
     "output_type": "stream",
     "text": [
      "                            OLS Regression Results                            \n",
      "==============================================================================\n",
      "Dep. Variable:                  price   R-squared:                       0.911\n",
      "Model:                            OLS   Adj. R-squared:                  0.903\n",
      "Method:                 Least Squares   F-statistic:                     110.6\n",
      "Date:                Sun, 27 Jan 2019   Prob (F-statistic):           4.52e-62\n",
      "Time:                        00:47:21   Log-Likelihood:                 189.76\n",
      "No. Observations:                 143   AIC:                            -353.5\n",
      "Df Residuals:                     130   BIC:                            -315.0\n",
      "Df Model:                          12                                         \n",
      "Covariance Type:            nonrobust                                         \n",
      "=========================================================================================\n",
      "                            coef    std err          t      P>|t|      [0.025      0.975]\n",
      "-----------------------------------------------------------------------------------------\n",
      "const                    -0.1679      0.029     -5.876      0.000      -0.224      -0.111\n",
      "carwidth                  0.3698      0.068      5.404      0.000       0.234       0.505\n",
      "curbweight                0.6494      0.063     10.267      0.000       0.524       0.775\n",
      "boreratio                -0.0946      0.041     -2.328      0.021      -0.175      -0.014\n",
      "stroke                   -0.0280      0.041     -0.675      0.501      -0.110       0.054\n",
      "CarName_bmw               0.2711      0.029      9.276      0.000       0.213       0.329\n",
      "CarName_peugeot          -0.1488      0.027     -5.576      0.000      -0.202      -0.096\n",
      "CarName_porsche           0.1649      0.053      3.111      0.002       0.060       0.270\n",
      "CarName_saab              0.0169      0.040      0.423      0.673      -0.062       0.096\n",
      "enginelocation_rear       0.4271      0.086      4.970      0.000       0.257       0.597\n",
      "enginetype_rotor          0.0511      0.034      1.488      0.139      -0.017       0.119\n",
      "cylindernumber_three      0.1980      0.069      2.851      0.005       0.061       0.335\n",
      "cylindernumber_twelve     0.1562      0.072      2.162      0.032       0.013       0.299\n",
      "==============================================================================\n",
      "Omnibus:                       22.847   Durbin-Watson:                   2.026\n",
      "Prob(Omnibus):                  0.000   Jarque-Bera (JB):               49.654\n",
      "Skew:                           0.664   Prob(JB):                     1.65e-11\n",
      "Kurtosis:                       5.563   Cond. No.                         25.8\n",
      "==============================================================================\n",
      "\n",
      "Warnings:\n",
      "[1] Standard Errors assume that the covariance matrix of the errors is correctly specified.\n"
     ]
    }
   ],
   "source": [
    "X_train_new7 = X_train_new6.drop([\"cylindernumber_five\"], axis = 1)\n",
    "\n",
    "# Adding a constant variable \n",
    "X_train_lm = sm.add_constant(X_train_new7)\n",
    "\n",
    "lm8 = sm.OLS(y_train,X_train_lm).fit()   # Running the linear model\n",
    "\n",
    "#Let's see the summary of our linear model\n",
    "print(lm8.summary())"
   ]
  },
  {
   "cell_type": "markdown",
   "metadata": {},
   "source": [
    "#### Lets remove `CarName_saab`"
   ]
  },
  {
   "cell_type": "code",
   "execution_count": 54,
   "metadata": {},
   "outputs": [
    {
     "name": "stdout",
     "output_type": "stream",
     "text": [
      "                            OLS Regression Results                            \n",
      "==============================================================================\n",
      "Dep. Variable:                  price   R-squared:                       0.911\n",
      "Model:                            OLS   Adj. R-squared:                  0.903\n",
      "Method:                 Least Squares   F-statistic:                     121.4\n",
      "Date:                Sun, 27 Jan 2019   Prob (F-statistic):           4.37e-63\n",
      "Time:                        00:47:22   Log-Likelihood:                 189.66\n",
      "No. Observations:                 143   AIC:                            -355.3\n",
      "Df Residuals:                     131   BIC:                            -319.8\n",
      "Df Model:                          11                                         \n",
      "Covariance Type:            nonrobust                                         \n",
      "=========================================================================================\n",
      "                            coef    std err          t      P>|t|      [0.025      0.975]\n",
      "-----------------------------------------------------------------------------------------\n",
      "const                    -0.1678      0.028     -5.892      0.000      -0.224      -0.111\n",
      "carwidth                  0.3696      0.068      5.419      0.000       0.235       0.505\n",
      "curbweight                0.6499      0.063     10.310      0.000       0.525       0.775\n",
      "boreratio                -0.0927      0.040     -2.302      0.023      -0.172      -0.013\n",
      "stroke                   -0.0293      0.041     -0.711      0.478      -0.111       0.052\n",
      "CarName_bmw               0.2702      0.029      9.298      0.000       0.213       0.328\n",
      "CarName_peugeot          -0.1499      0.026     -5.660      0.000      -0.202      -0.098\n",
      "CarName_porsche           0.1633      0.053      3.098      0.002       0.059       0.268\n",
      "enginelocation_rear       0.4273      0.086      4.988      0.000       0.258       0.597\n",
      "enginetype_rotor          0.0506      0.034      1.479      0.142      -0.017       0.118\n",
      "cylindernumber_three      0.1981      0.069      2.862      0.005       0.061       0.335\n",
      "cylindernumber_twelve     0.1547      0.072      2.151      0.033       0.012       0.297\n",
      "==============================================================================\n",
      "Omnibus:                       22.405   Durbin-Watson:                   2.026\n",
      "Prob(Omnibus):                  0.000   Jarque-Bera (JB):               48.286\n",
      "Skew:                           0.654   Prob(JB):                     3.27e-11\n",
      "Kurtosis:                       5.529   Cond. No.                         25.8\n",
      "==============================================================================\n",
      "\n",
      "Warnings:\n",
      "[1] Standard Errors assume that the covariance matrix of the errors is correctly specified.\n"
     ]
    }
   ],
   "source": [
    "X_train_new8 = X_train_new7.drop([\"CarName_saab\"], axis = 1)\n",
    "\n",
    "# Adding a constant variable \n",
    "X_train_lm = sm.add_constant(X_train_new8)\n",
    "\n",
    "lm9 = sm.OLS(y_train,X_train_lm).fit()   # Running the linear model\n",
    "\n",
    "#Let's see the summary of our linear model\n",
    "print(lm9.summary())"
   ]
  },
  {
   "cell_type": "markdown",
   "metadata": {},
   "source": [
    "#### Lets remove stroke`"
   ]
  },
  {
   "cell_type": "code",
   "execution_count": 55,
   "metadata": {},
   "outputs": [
    {
     "name": "stdout",
     "output_type": "stream",
     "text": [
      "                            OLS Regression Results                            \n",
      "==============================================================================\n",
      "Dep. Variable:                  price   R-squared:                       0.910\n",
      "Model:                            OLS   Adj. R-squared:                  0.904\n",
      "Method:                 Least Squares   F-statistic:                     134.0\n",
      "Date:                Sun, 27 Jan 2019   Prob (F-statistic):           4.72e-64\n",
      "Time:                        00:47:23   Log-Likelihood:                 189.39\n",
      "No. Observations:                 143   AIC:                            -356.8\n",
      "Df Residuals:                     132   BIC:                            -324.2\n",
      "Df Model:                          10                                         \n",
      "Covariance Type:            nonrobust                                         \n",
      "=========================================================================================\n",
      "                            coef    std err          t      P>|t|      [0.025      0.975]\n",
      "-----------------------------------------------------------------------------------------\n",
      "const                    -0.1828      0.019     -9.527      0.000      -0.221      -0.145\n",
      "carwidth                  0.3631      0.067      5.382      0.000       0.230       0.497\n",
      "curbweight                0.6418      0.062     10.374      0.000       0.519       0.764\n",
      "boreratio                -0.0820      0.037     -2.199      0.030      -0.156      -0.008\n",
      "CarName_bmw               0.2720      0.029      9.413      0.000       0.215       0.329\n",
      "CarName_peugeot          -0.1483      0.026     -5.630      0.000      -0.200      -0.096\n",
      "CarName_porsche           0.1644      0.053      3.126      0.002       0.060       0.268\n",
      "enginelocation_rear       0.4282      0.085      5.008      0.000       0.259       0.597\n",
      "enginetype_rotor          0.0502      0.034      1.468      0.145      -0.017       0.118\n",
      "cylindernumber_three      0.1987      0.069      2.875      0.005       0.062       0.335\n",
      "cylindernumber_twelve     0.1673      0.070      2.405      0.018       0.030       0.305\n",
      "==============================================================================\n",
      "Omnibus:                       22.096   Durbin-Watson:                   1.985\n",
      "Prob(Omnibus):                  0.000   Jarque-Bera (JB):               45.356\n",
      "Skew:                           0.664   Prob(JB):                     1.42e-10\n",
      "Kurtosis:                       5.419   Cond. No.                         23.8\n",
      "==============================================================================\n",
      "\n",
      "Warnings:\n",
      "[1] Standard Errors assume that the covariance matrix of the errors is correctly specified.\n"
     ]
    }
   ],
   "source": [
    "X_train_new9 = X_train_new8.drop([\"stroke\"], axis = 1)\n",
    "\n",
    "# Adding a constant variable \n",
    "X_train_lm = sm.add_constant(X_train_new9)\n",
    "\n",
    "lm10 = sm.OLS(y_train,X_train_lm).fit()   # Running the linear model\n",
    "\n",
    "#Let's see the summary of our linear model\n",
    "print(lm10.summary())"
   ]
  },
  {
   "cell_type": "markdown",
   "metadata": {},
   "source": [
    "#### Lets remove `enginetype_rotor``"
   ]
  },
  {
   "cell_type": "code",
   "execution_count": 56,
   "metadata": {},
   "outputs": [
    {
     "name": "stdout",
     "output_type": "stream",
     "text": [
      "                            OLS Regression Results                            \n",
      "==============================================================================\n",
      "Dep. Variable:                  price   R-squared:                       0.909\n",
      "Model:                            OLS   Adj. R-squared:                  0.903\n",
      "Method:                 Least Squares   F-statistic:                     147.4\n",
      "Date:                Sun, 27 Jan 2019   Prob (F-statistic):           1.09e-64\n",
      "Time:                        00:47:24   Log-Likelihood:                 188.23\n",
      "No. Observations:                 143   AIC:                            -356.5\n",
      "Df Residuals:                     133   BIC:                            -326.8\n",
      "Df Model:                           9                                         \n",
      "Covariance Type:            nonrobust                                         \n",
      "=========================================================================================\n",
      "                            coef    std err          t      P>|t|      [0.025      0.975]\n",
      "-----------------------------------------------------------------------------------------\n",
      "const                    -0.1826      0.019     -9.475      0.000      -0.221      -0.144\n",
      "carwidth                  0.3680      0.068      5.437      0.000       0.234       0.502\n",
      "curbweight                0.6354      0.062     10.252      0.000       0.513       0.758\n",
      "boreratio                -0.0785      0.037     -2.099      0.038      -0.152      -0.005\n",
      "CarName_bmw               0.2707      0.029      9.332      0.000       0.213       0.328\n",
      "CarName_peugeot          -0.1500      0.026     -5.679      0.000      -0.202      -0.098\n",
      "CarName_porsche           0.1605      0.053      3.043      0.003       0.056       0.265\n",
      "enginelocation_rear       0.4301      0.086      5.010      0.000       0.260       0.600\n",
      "cylindernumber_three      0.1978      0.069      2.851      0.005       0.061       0.335\n",
      "cylindernumber_twelve     0.1666      0.070      2.384      0.019       0.028       0.305\n",
      "==============================================================================\n",
      "Omnibus:                       20.602   Durbin-Watson:                   1.978\n",
      "Prob(Omnibus):                  0.000   Jarque-Bera (JB):               39.955\n",
      "Skew:                           0.639   Prob(JB):                     2.11e-09\n",
      "Kurtosis:                       5.253   Cond. No.                         23.8\n",
      "==============================================================================\n",
      "\n",
      "Warnings:\n",
      "[1] Standard Errors assume that the covariance matrix of the errors is correctly specified.\n"
     ]
    }
   ],
   "source": [
    "X_train_new10 = X_train_new9.drop([\"enginetype_rotor\"], axis = 1)\n",
    "\n",
    "# Adding a constant variable \n",
    "X_train_lm = sm.add_constant(X_train_new10)\n",
    "\n",
    "lm11 = sm.OLS(y_train,X_train_lm).fit()   # Running the linear model\n",
    "\n",
    "#Let's see the summary of our linear model\n",
    "print(lm11.summary())"
   ]
  },
  {
   "cell_type": "markdown",
   "metadata": {},
   "source": [
    "### Lets calculate VIF again to asses multicollinearity"
   ]
  },
  {
   "cell_type": "code",
   "execution_count": 57,
   "metadata": {},
   "outputs": [
    {
     "data": {
      "text/html": [
       "<div>\n",
       "<style scoped>\n",
       "    .dataframe tbody tr th:only-of-type {\n",
       "        vertical-align: middle;\n",
       "    }\n",
       "\n",
       "    .dataframe tbody tr th {\n",
       "        vertical-align: top;\n",
       "    }\n",
       "\n",
       "    .dataframe thead th {\n",
       "        text-align: right;\n",
       "    }\n",
       "</style>\n",
       "<table border=\"1\" class=\"dataframe\">\n",
       "  <thead>\n",
       "    <tr style=\"text-align: right;\">\n",
       "      <th></th>\n",
       "      <th>Features</th>\n",
       "      <th>VIF</th>\n",
       "    </tr>\n",
       "  </thead>\n",
       "  <tbody>\n",
       "    <tr>\n",
       "      <th>0</th>\n",
       "      <td>carwidth</td>\n",
       "      <td>25.25</td>\n",
       "    </tr>\n",
       "    <tr>\n",
       "      <th>1</th>\n",
       "      <td>curbweight</td>\n",
       "      <td>23.05</td>\n",
       "    </tr>\n",
       "    <tr>\n",
       "      <th>2</th>\n",
       "      <td>boreratio</td>\n",
       "      <td>9.73</td>\n",
       "    </tr>\n",
       "    <tr>\n",
       "      <th>5</th>\n",
       "      <td>CarName_porsche</td>\n",
       "      <td>1.64</td>\n",
       "    </tr>\n",
       "    <tr>\n",
       "      <th>6</th>\n",
       "      <td>enginelocation_rear</td>\n",
       "      <td>1.57</td>\n",
       "    </tr>\n",
       "    <tr>\n",
       "      <th>4</th>\n",
       "      <td>CarName_peugeot</td>\n",
       "      <td>1.18</td>\n",
       "    </tr>\n",
       "    <tr>\n",
       "      <th>3</th>\n",
       "      <td>CarName_bmw</td>\n",
       "      <td>1.12</td>\n",
       "    </tr>\n",
       "    <tr>\n",
       "      <th>8</th>\n",
       "      <td>cylindernumber_twelve</td>\n",
       "      <td>1.07</td>\n",
       "    </tr>\n",
       "    <tr>\n",
       "      <th>7</th>\n",
       "      <td>cylindernumber_three</td>\n",
       "      <td>1.01</td>\n",
       "    </tr>\n",
       "  </tbody>\n",
       "</table>\n",
       "</div>"
      ],
      "text/plain": [
       "                Features    VIF\n",
       "0               carwidth  25.25\n",
       "1             curbweight  23.05\n",
       "2              boreratio   9.73\n",
       "5        CarName_porsche   1.64\n",
       "6    enginelocation_rear   1.57\n",
       "4        CarName_peugeot   1.18\n",
       "3            CarName_bmw   1.12\n",
       "8  cylindernumber_twelve   1.07\n",
       "7   cylindernumber_three   1.01"
      ]
     },
     "execution_count": 57,
     "metadata": {},
     "output_type": "execute_result"
    }
   ],
   "source": [
    "# Calculating VIF again\n",
    "\n",
    "vif = pd.DataFrame()\n",
    "X = X_train_new10\n",
    "X = X.drop(['const'], axis=1)\n",
    "vif['Features'] = X.columns\n",
    "vif['VIF'] = [variance_inflation_factor(X.values, i) for i in range(X.shape[1])]\n",
    "vif['VIF'] = round(vif['VIF'], 2)\n",
    "vif = vif.sort_values(by = \"VIF\", ascending = False)\n",
    "vif"
   ]
  },
  {
   "cell_type": "markdown",
   "metadata": {},
   "source": [
    "### `carwidth` has high VIF value. which means that it is explained by all the other factors. Lets remove this"
   ]
  },
  {
   "cell_type": "code",
   "execution_count": 58,
   "metadata": {},
   "outputs": [
    {
     "name": "stdout",
     "output_type": "stream",
     "text": [
      "                            OLS Regression Results                            \n",
      "==============================================================================\n",
      "Dep. Variable:                  price   R-squared:                       0.889\n",
      "Model:                            OLS   Adj. R-squared:                  0.882\n",
      "Method:                 Least Squares   F-statistic:                     133.6\n",
      "Date:                Sun, 27 Jan 2019   Prob (F-statistic):           5.28e-60\n",
      "Time:                        00:47:26   Log-Likelihood:                 173.88\n",
      "No. Observations:                 143   AIC:                            -329.8\n",
      "Df Residuals:                     134   BIC:                            -303.1\n",
      "Df Model:                           8                                         \n",
      "Covariance Type:            nonrobust                                         \n",
      "=========================================================================================\n",
      "                            coef    std err          t      P>|t|      [0.025      0.975]\n",
      "-----------------------------------------------------------------------------------------\n",
      "const                    -0.1258      0.018     -7.053      0.000      -0.161      -0.091\n",
      "curbweight                0.9073      0.040     22.497      0.000       0.828       0.987\n",
      "boreratio                -0.0733      0.041     -1.781      0.077      -0.155       0.008\n",
      "CarName_bmw               0.2505      0.032      7.903      0.000       0.188       0.313\n",
      "CarName_peugeot          -0.1464      0.029     -5.034      0.000      -0.204      -0.089\n",
      "CarName_porsche           0.2381      0.056      4.259      0.000       0.128       0.349\n",
      "enginelocation_rear       0.3018      0.091      3.319      0.001       0.122       0.482\n",
      "cylindernumber_three      0.1401      0.076      1.855      0.066      -0.009       0.289\n",
      "cylindernumber_twelve     0.1625      0.077      2.111      0.037       0.010       0.315\n",
      "==============================================================================\n",
      "Omnibus:                       18.903   Durbin-Watson:                   1.952\n",
      "Prob(Omnibus):                  0.000   Jarque-Bera (JB):               81.663\n",
      "Skew:                          -0.152   Prob(JB):                     1.85e-18\n",
      "Kurtosis:                       6.690   Cond. No.                         19.0\n",
      "==============================================================================\n",
      "\n",
      "Warnings:\n",
      "[1] Standard Errors assume that the covariance matrix of the errors is correctly specified.\n"
     ]
    }
   ],
   "source": [
    "X_train_new11 = X_train_new10.drop([\"carwidth\"], axis = 1)\n",
    "\n",
    "# Adding a constant variable \n",
    "X_train_lm = sm.add_constant(X_train_new11)\n",
    "\n",
    "lm12 = sm.OLS(y_train,X_train_lm).fit()   # Running the linear model\n",
    "\n",
    "#Let's see the summary of our linear model\n",
    "print(lm12.summary())"
   ]
  },
  {
   "cell_type": "markdown",
   "metadata": {},
   "source": [
    "### Lets remove `boreratio` "
   ]
  },
  {
   "cell_type": "code",
   "execution_count": 59,
   "metadata": {},
   "outputs": [
    {
     "name": "stdout",
     "output_type": "stream",
     "text": [
      "                            OLS Regression Results                            \n",
      "==============================================================================\n",
      "Dep. Variable:                  price   R-squared:                       0.886\n",
      "Model:                            OLS   Adj. R-squared:                  0.880\n",
      "Method:                 Least Squares   F-statistic:                     149.9\n",
      "Date:                Sun, 27 Jan 2019   Prob (F-statistic):           1.97e-60\n",
      "Time:                        00:47:28   Log-Likelihood:                 172.21\n",
      "No. Observations:                 143   AIC:                            -328.4\n",
      "Df Residuals:                     135   BIC:                            -304.7\n",
      "Df Model:                           7                                         \n",
      "Covariance Type:            nonrobust                                         \n",
      "=========================================================================================\n",
      "                            coef    std err          t      P>|t|      [0.025      0.975]\n",
      "-----------------------------------------------------------------------------------------\n",
      "const                    -0.1449      0.014    -10.087      0.000      -0.173      -0.116\n",
      "curbweight                0.8671      0.034     25.755      0.000       0.800       0.934\n",
      "CarName_bmw               0.2482      0.032      7.776      0.000       0.185       0.311\n",
      "CarName_peugeot          -0.1535      0.029     -5.287      0.000      -0.211      -0.096\n",
      "CarName_porsche           0.2087      0.054      3.876      0.000       0.102       0.315\n",
      "enginelocation_rear       0.3085      0.092      3.369      0.001       0.127       0.490\n",
      "cylindernumber_three      0.1458      0.076      1.917      0.057      -0.005       0.296\n",
      "cylindernumber_twelve     0.1700      0.077      2.195      0.030       0.017       0.323\n",
      "==============================================================================\n",
      "Omnibus:                       14.160   Durbin-Watson:                   1.924\n",
      "Prob(Omnibus):                  0.001   Jarque-Bera (JB):               46.339\n",
      "Skew:                          -0.024   Prob(JB):                     8.66e-11\n",
      "Kurtosis:                       5.788   Cond. No.                         17.0\n",
      "==============================================================================\n",
      "\n",
      "Warnings:\n",
      "[1] Standard Errors assume that the covariance matrix of the errors is correctly specified.\n"
     ]
    }
   ],
   "source": [
    "X_train_new12 = X_train_new11.drop([\"boreratio\"], axis = 1)\n",
    "\n",
    "# Adding a constant variable \n",
    "X_train_lm = sm.add_constant(X_train_new12)\n",
    "\n",
    "lm13 = sm.OLS(y_train,X_train_lm).fit()   # Running the linear model\n",
    "\n",
    "#Let's see the summary of our linear model\n",
    "print(lm13.summary())"
   ]
  },
  {
   "cell_type": "markdown",
   "metadata": {},
   "source": [
    "### Lets remove `cylindernumber_three` "
   ]
  },
  {
   "cell_type": "code",
   "execution_count": 60,
   "metadata": {
    "scrolled": true
   },
   "outputs": [
    {
     "name": "stdout",
     "output_type": "stream",
     "text": [
      "                            OLS Regression Results                            \n",
      "==============================================================================\n",
      "Dep. Variable:                  price   R-squared:                       0.883\n",
      "Model:                            OLS   Adj. R-squared:                  0.878\n",
      "Method:                 Least Squares   F-statistic:                     170.9\n",
      "Date:                Sun, 27 Jan 2019   Prob (F-statistic):           8.77e-61\n",
      "Time:                        00:47:29   Log-Likelihood:                 170.29\n",
      "No. Observations:                 143   AIC:                            -326.6\n",
      "Df Residuals:                     136   BIC:                            -305.8\n",
      "Df Model:                           6                                         \n",
      "Covariance Type:            nonrobust                                         \n",
      "=========================================================================================\n",
      "                            coef    std err          t      P>|t|      [0.025      0.975]\n",
      "-----------------------------------------------------------------------------------------\n",
      "const                    -0.1397      0.014     -9.807      0.000      -0.168      -0.112\n",
      "curbweight                0.8563      0.034     25.547      0.000       0.790       0.923\n",
      "CarName_bmw               0.2492      0.032      7.732      0.000       0.185       0.313\n",
      "CarName_peugeot          -0.1515      0.029     -5.168      0.000      -0.209      -0.094\n",
      "CarName_porsche           0.2101      0.054      3.865      0.000       0.103       0.318\n",
      "enginelocation_rear       0.3072      0.092      3.322      0.001       0.124       0.490\n",
      "cylindernumber_twelve     0.1751      0.078      2.240      0.027       0.021       0.330\n",
      "==============================================================================\n",
      "Omnibus:                       13.430   Durbin-Watson:                   1.899\n",
      "Prob(Omnibus):                  0.001   Jarque-Bera (JB):               41.172\n",
      "Skew:                           0.059   Prob(JB):                     1.15e-09\n",
      "Kurtosis:                       5.626   Cond. No.                         17.0\n",
      "==============================================================================\n",
      "\n",
      "Warnings:\n",
      "[1] Standard Errors assume that the covariance matrix of the errors is correctly specified.\n"
     ]
    }
   ],
   "source": [
    "X_train_new13 = X_train_new12.drop([\"cylindernumber_three\"], axis = 1)\n",
    "\n",
    "# Adding a constant variable \n",
    "X_train_lm = sm.add_constant(X_train_new13)\n",
    "\n",
    "lm14 = sm.OLS(y_train,X_train_lm).fit()   # Running the linear model\n",
    "\n",
    "#Let's see the summary of our linear model\n",
    "print(lm14.summary())"
   ]
  },
  {
   "cell_type": "markdown",
   "metadata": {},
   "source": [
    "### Lets calculate VIF again to asses multicollinearity"
   ]
  },
  {
   "cell_type": "code",
   "execution_count": 61,
   "metadata": {},
   "outputs": [
    {
     "data": {
      "text/html": [
       "<div>\n",
       "<style scoped>\n",
       "    .dataframe tbody tr th:only-of-type {\n",
       "        vertical-align: middle;\n",
       "    }\n",
       "\n",
       "    .dataframe tbody tr th {\n",
       "        vertical-align: top;\n",
       "    }\n",
       "\n",
       "    .dataframe thead th {\n",
       "        text-align: right;\n",
       "    }\n",
       "</style>\n",
       "<table border=\"1\" class=\"dataframe\">\n",
       "  <thead>\n",
       "    <tr style=\"text-align: right;\">\n",
       "      <th></th>\n",
       "      <th>Features</th>\n",
       "      <th>VIF</th>\n",
       "    </tr>\n",
       "  </thead>\n",
       "  <tbody>\n",
       "    <tr>\n",
       "      <th>3</th>\n",
       "      <td>CarName_porsche</td>\n",
       "      <td>1.55</td>\n",
       "    </tr>\n",
       "    <tr>\n",
       "      <th>4</th>\n",
       "      <td>enginelocation_rear</td>\n",
       "      <td>1.50</td>\n",
       "    </tr>\n",
       "    <tr>\n",
       "      <th>0</th>\n",
       "      <td>curbweight</td>\n",
       "      <td>1.33</td>\n",
       "    </tr>\n",
       "    <tr>\n",
       "      <th>2</th>\n",
       "      <td>CarName_peugeot</td>\n",
       "      <td>1.16</td>\n",
       "    </tr>\n",
       "    <tr>\n",
       "      <th>1</th>\n",
       "      <td>CarName_bmw</td>\n",
       "      <td>1.09</td>\n",
       "    </tr>\n",
       "    <tr>\n",
       "      <th>5</th>\n",
       "      <td>cylindernumber_twelve</td>\n",
       "      <td>1.04</td>\n",
       "    </tr>\n",
       "  </tbody>\n",
       "</table>\n",
       "</div>"
      ],
      "text/plain": [
       "                Features   VIF\n",
       "3        CarName_porsche  1.55\n",
       "4    enginelocation_rear  1.50\n",
       "0             curbweight  1.33\n",
       "2        CarName_peugeot  1.16\n",
       "1            CarName_bmw  1.09\n",
       "5  cylindernumber_twelve  1.04"
      ]
     },
     "execution_count": 61,
     "metadata": {},
     "output_type": "execute_result"
    }
   ],
   "source": [
    "# Calculating VIF again\n",
    "\n",
    "vif = pd.DataFrame()\n",
    "X = X_train_new13\n",
    "X = X.drop(['const'], axis=1)\n",
    "vif['Features'] = X.columns\n",
    "vif['VIF'] = [variance_inflation_factor(X.values, i) for i in range(X.shape[1])]\n",
    "vif['VIF'] = round(vif['VIF'], 2)\n",
    "vif = vif.sort_values(by = \"VIF\", ascending = False)\n",
    "vif"
   ]
  },
  {
   "cell_type": "markdown",
   "metadata": {},
   "source": [
    "### VIF for all factors is below 2 which is Good. Adjusted R-squared is at 87%. AIC and BIC are low comparing with previous models. This looks like a good model. Lets do Residual Analysis"
   ]
  },
  {
   "cell_type": "markdown",
   "metadata": {},
   "source": [
    "## Residual Analysis of the train data\n",
    "\n",
    "So, now to check if the error terms are also normally distributed (which is infact, one of the major assumptions of linear regression), let us plot the histogram of the error terms and see what it looks like."
   ]
  },
  {
   "cell_type": "code",
   "execution_count": 62,
   "metadata": {},
   "outputs": [],
   "source": [
    "y_train_price = lm14.predict(X_train_lm)"
   ]
  },
  {
   "cell_type": "code",
   "execution_count": 63,
   "metadata": {},
   "outputs": [
    {
     "name": "stderr",
     "output_type": "stream",
     "text": [
      "C:\\Users\\HELLO\\Anaconda3\\lib\\site-packages\\matplotlib\\axes\\_axes.py:6462: UserWarning: The 'normed' kwarg is deprecated, and has been replaced by the 'density' kwarg.\n",
      "  warnings.warn(\"The 'normed' kwarg is deprecated, and has been \"\n"
     ]
    },
    {
     "data": {
      "text/plain": [
       "Text(0.5,0,'Errors')"
      ]
     },
     "execution_count": 63,
     "metadata": {},
     "output_type": "execute_result"
    },
    {
     "data": {
      "image/png": "[encoded data removed]",
      "text/plain": [
       "<Figure size 432x288 with 1 Axes>"
      ]
     },
     "metadata": {},
     "output_type": "display_data"
    }
   ],
   "source": [
    "# Plot the histogram of the error terms\n",
    "fig = plt.figure()\n",
    "sns.distplot((y_train - y_train_price), bins = 20)\n",
    "fig.suptitle('Error Terms', fontsize = 20)                  # Plot heading \n",
    "plt.xlabel('Errors', fontsize = 18)                         # X-label"
   ]
  },
  {
   "cell_type": "markdown",
   "metadata": {},
   "source": [
    "#### Error term is normally distributed with centric at 0. But there are a few exceptions. Lets test it to see how the model works"
   ]
  },
  {
   "cell_type": "code",
   "execution_count": 64,
   "metadata": {},
   "outputs": [],
   "source": [
    "df_test[num_vars] = scaler.transform(df_test[num_vars])"
   ]
  },
  {
   "cell_type": "markdown",
   "metadata": {},
   "source": [
    "#### Dividing into X_test and y_test"
   ]
  },
  {
   "cell_type": "code",
   "execution_count": 65,
   "metadata": {},
   "outputs": [],
   "source": [
    "y_test = df_test.pop('price')\n",
    "X_test = df_test"
   ]
  },
  {
   "cell_type": "code",
   "execution_count": 66,
   "metadata": {},
   "outputs": [],
   "source": [
    "# Now let's use our model to make predictions.\n",
    "\n",
    "# Creating X_test_new dataframe by dropping variables from X_test\n",
    "X_test_new = X_test[X.columns]\n",
    "\n",
    "# Adding a constant variable \n",
    "X_test_new = sm.add_constant(X_test_new)"
   ]
  },
  {
   "cell_type": "code",
   "execution_count": 67,
   "metadata": {},
   "outputs": [],
   "source": [
    "# Making predictions\n",
    "y_pred = lm14.predict(X_test_new)"
   ]
  },
  {
   "cell_type": "markdown",
   "metadata": {},
   "source": [
    "## Model Evaluation"
   ]
  },
  {
   "cell_type": "code",
   "execution_count": 68,
   "metadata": {},
   "outputs": [
    {
     "data": {
      "text/plain": [
       "Text(0,0.5,'y_pred')"
      ]
     },
     "execution_count": 68,
     "metadata": {},
     "output_type": "execute_result"
    },
    {
     "data": {
      "image/png": "[encoded data removed]",
      "text/plain": [
       "<Figure size 432x288 with 1 Axes>"
      ]
     },
     "metadata": {},
     "output_type": "display_data"
    }
   ],
   "source": [
    "# Plotting y_test and y_pred to understand the spread.\n",
    "fig = plt.figure()\n",
    "plt.scatter(y_test,y_pred)\n",
    "fig.suptitle('y_test vs y_pred', fontsize=20)              # Plot heading \n",
    "plt.xlabel('y_test', fontsize=18)                          # X-label\n",
    "plt.ylabel('y_pred', fontsize=16)                          # Y-label"
   ]
  },
  {
   "cell_type": "markdown",
   "metadata": {},
   "source": [
    "## Calculating R2-Score"
   ]
  },
  {
   "cell_type": "code",
   "execution_count": 69,
   "metadata": {},
   "outputs": [
    {
     "data": {
      "text/plain": [
       "0.8048851483181669"
      ]
     },
     "execution_count": 69,
     "metadata": {},
     "output_type": "execute_result"
    }
   ],
   "source": [
    "from sklearn.metrics import r2_score\n",
    "r2_score(y_test, y_pred)"
   ]
  },
  {
   "cell_type": "code",
   "execution_count": null,
   "metadata": {},
   "outputs": [],
   "source": []
  }
 ],
 "metadata": {
  "kernelspec": {
   "display_name": "Python 3",
   "language": "python",
   "name": "python3"
  },
  "language_info": {
   "codemirror_mode": {
    "name": "ipython",
    "version": 3
   },
   "file_extension": ".py",
   "mimetype": "text/x-python",
   "name": "python",
   "nbconvert_exporter": "python",
   "pygments_lexer": "ipython3",
   "version": "3.6.5"
  }
 },
 "nbformat": 4,
 "nbformat_minor": 2
}
